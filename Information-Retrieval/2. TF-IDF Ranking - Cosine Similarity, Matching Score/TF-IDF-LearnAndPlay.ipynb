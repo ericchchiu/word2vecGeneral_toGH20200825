{
 "cells": [
  {
   "cell_type": "markdown",
   "metadata": {},
   "source": [
    "# Document Retrieval using TF-IDF Weighted Rank and TF-IDF Cosine Similarity"
   ]
  },
  {
   "cell_type": "code",
   "execution_count": null,
   "metadata": {},
   "outputs": [],
   "source": []
  },
  {
   "cell_type": "markdown",
   "metadata": {},
   "source": [
    "## Imports"
   ]
  },
  {
   "cell_type": "code",
   "execution_count": null,
   "metadata": {},
   "outputs": [],
   "source": [
    "# !unzip stories"
   ]
  },
  {
   "cell_type": "code",
   "execution_count": 1,
   "metadata": {},
   "outputs": [],
   "source": [
    "from nltk.corpus import stopwords\n",
    "from nltk.tokenize import word_tokenize\n",
    "from nltk.stem import PorterStemmer\n",
    "from collections import Counter\n",
    "from num2words import num2words\n",
    "\n",
    "import nltk\n",
    "import os\n",
    "import string\n",
    "import numpy as np\n",
    "import copy\n",
    "import pandas as pd\n",
    "import pickle\n",
    "import re\n",
    "import math\n",
    "\n",
    "# %load_ext autotime"
   ]
  },
  {
   "cell_type": "code",
   "execution_count": null,
   "metadata": {},
   "outputs": [],
   "source": []
  },
  {
   "cell_type": "code",
   "execution_count": 2,
   "metadata": {},
   "outputs": [],
   "source": [
    "title = \"stories\"\n",
    "alpha = 0.3"
   ]
  },
  {
   "cell_type": "code",
   "execution_count": null,
   "metadata": {},
   "outputs": [],
   "source": []
  },
  {
   "cell_type": "markdown",
   "metadata": {},
   "source": [
    "## Taking all folders"
   ]
  },
  {
   "cell_type": "code",
   "execution_count": 3,
   "metadata": {},
   "outputs": [],
   "source": [
    "folders = [x[0] for x in os.walk(str(os.getcwd())+'/'+title+'/')]"
   ]
  },
  {
   "cell_type": "code",
   "execution_count": 4,
   "metadata": {},
   "outputs": [
    {
     "data": {
      "text/plain": [
       "['F:\\\\Doctorate\\\\word2vecGeneral\\\\Information-Retrieval\\\\2. TF-IDF Ranking - Cosine Similarity, Matching Score/stories/',\n",
       " 'F:\\\\Doctorate\\\\word2vecGeneral\\\\Information-Retrieval\\\\2. TF-IDF Ranking - Cosine Similarity, Matching Score/stories/FARNON',\n",
       " 'F:\\\\Doctorate\\\\word2vecGeneral\\\\Information-Retrieval\\\\2. TF-IDF Ranking - Cosine Similarity, Matching Score/stories/SRE']"
      ]
     },
     "execution_count": 4,
     "metadata": {},
     "output_type": "execute_result"
    }
   ],
   "source": [
    "folders"
   ]
  },
  {
   "cell_type": "code",
   "execution_count": 5,
   "metadata": {},
   "outputs": [
    {
     "data": {
      "text/plain": [
       "(list, 3)"
      ]
     },
     "execution_count": 5,
     "metadata": {},
     "output_type": "execute_result"
    }
   ],
   "source": [
    "type(folders), len(folders)"
   ]
  },
  {
   "cell_type": "code",
   "execution_count": null,
   "metadata": {},
   "outputs": [],
   "source": [
    "folders[0] = folders[0][:len(folders[0])-1]"
   ]
  },
  {
   "cell_type": "code",
   "execution_count": null,
   "metadata": {},
   "outputs": [],
   "source": [
    "folders"
   ]
  },
  {
   "cell_type": "code",
   "execution_count": null,
   "metadata": {},
   "outputs": [],
   "source": [
    "type(folders), len(folders)"
   ]
  },
  {
   "cell_type": "code",
   "execution_count": null,
   "metadata": {},
   "outputs": [],
   "source": []
  },
  {
   "cell_type": "markdown",
   "metadata": {},
   "source": [
    "## Collecting the file names and titles"
   ]
  },
  {
   "cell_type": "code",
   "execution_count": 6,
   "metadata": {
    "scrolled": false
   },
   "outputs": [
    {
     "name": "stdout",
     "output_type": "stream",
     "text": [
      "452 452\n",
      "0 0\n",
      "15 15\n"
     ]
    }
   ],
   "source": [
    "dataset = []\n",
    "\n",
    "c = False\n",
    "\n",
    "for i in folders:\n",
    "    file = open(i+\"/index.html\", 'r')\n",
    "    text = file.read().strip()\n",
    "    file.close()\n",
    "\n",
    "    file_name = re.findall('><A HREF=\"(.*)\">', text)\n",
    "    file_title = re.findall('<BR><TD> (.*)\\n', text)\n",
    "\n",
    "    if c == False:\n",
    "        file_name = file_name[2:]\n",
    "        c = True\n",
    "        \n",
    "    print(len(file_name), len(file_title))\n",
    "\n",
    "    for j in range(len(file_name)):\n",
    "        dataset.append((str(i) +\"/\"+ str(file_name[j]), file_title[j]))"
   ]
  },
  {
   "cell_type": "code",
   "execution_count": 7,
   "metadata": {},
   "outputs": [
    {
     "data": {
      "text/plain": [
       "467"
      ]
     },
     "execution_count": 7,
     "metadata": {},
     "output_type": "execute_result"
    }
   ],
   "source": [
    "len(dataset)"
   ]
  },
  {
   "cell_type": "code",
   "execution_count": 18,
   "metadata": {},
   "outputs": [
    {
     "ename": "IndexError",
     "evalue": "list index out of range",
     "output_type": "error",
     "traceback": [
      "\u001b[1;31m---------------------------------------------------------------------------\u001b[0m",
      "\u001b[1;31mIndexError\u001b[0m                                Traceback (most recent call last)",
      "\u001b[1;32m<ipython-input-18-519fa75881aa>\u001b[0m in \u001b[0;36m<module>\u001b[1;34m\u001b[0m\n\u001b[0;32m      1\u001b[0m \u001b[0mii\u001b[0m \u001b[1;33m=\u001b[0m \u001b[1;36m15\u001b[0m\u001b[1;33m\u001b[0m\u001b[1;33m\u001b[0m\u001b[0m\n\u001b[1;32m----> 2\u001b[1;33m \u001b[0mfile_name\u001b[0m\u001b[1;33m[\u001b[0m\u001b[0mii\u001b[0m\u001b[1;33m]\u001b[0m\u001b[1;33m,\u001b[0m \u001b[0mfile_title\u001b[0m\u001b[1;33m[\u001b[0m\u001b[0mii\u001b[0m\u001b[1;33m]\u001b[0m   \u001b[1;31m#temp for play\u001b[0m\u001b[1;33m\u001b[0m\u001b[1;33m\u001b[0m\u001b[0m\n\u001b[0m",
      "\u001b[1;31mIndexError\u001b[0m: list index out of range"
     ]
    }
   ],
   "source": [
    "ii = 15\n",
    "file_name[ii], file_title[ii]   #temp for play"
   ]
  },
  {
   "cell_type": "code",
   "execution_count": 19,
   "metadata": {},
   "outputs": [],
   "source": [
    "N = len (dataset)"
   ]
  },
  {
   "cell_type": "code",
   "execution_count": null,
   "metadata": {},
   "outputs": [],
   "source": []
  },
  {
   "cell_type": "code",
   "execution_count": 20,
   "metadata": {},
   "outputs": [],
   "source": [
    "def print_doc(id):\n",
    "    print(dataset[id])\n",
    "    file = open(dataset[id][0], 'r', encoding='cp1250')\n",
    "    text = file.read().strip()\n",
    "    file.close()\n",
    "    print(text)"
   ]
  },
  {
   "cell_type": "code",
   "execution_count": null,
   "metadata": {},
   "outputs": [],
   "source": []
  },
  {
   "cell_type": "markdown",
   "metadata": {},
   "source": [
    "# Preprocessing"
   ]
  },
  {
   "cell_type": "code",
   "execution_count": 21,
   "metadata": {},
   "outputs": [],
   "source": [
    "def convert_lower_case(data):\n",
    "    return np.char.lower(data)"
   ]
  },
  {
   "cell_type": "code",
   "execution_count": 22,
   "metadata": {},
   "outputs": [],
   "source": [
    "def remove_stop_words(data):\n",
    "    stop_words = stopwords.words('english')\n",
    "    words = word_tokenize(str(data))\n",
    "    new_text = \"\"\n",
    "    for w in words:\n",
    "        if w not in stop_words and len(w) > 1:\n",
    "            new_text = new_text + \" \" + w\n",
    "    return new_text"
   ]
  },
  {
   "cell_type": "code",
   "execution_count": 23,
   "metadata": {},
   "outputs": [],
   "source": [
    "def remove_punctuation(data):\n",
    "    symbols = \"!\\\"#$%&()*+-./:;<=>?@[\\]^_`{|}~\\n\"\n",
    "    for i in range(len(symbols)):\n",
    "        data = np.char.replace(data, symbols[i], ' ')\n",
    "        data = np.char.replace(data, \"  \", \" \")\n",
    "    data = np.char.replace(data, ',', '')\n",
    "    return data"
   ]
  },
  {
   "cell_type": "code",
   "execution_count": 24,
   "metadata": {},
   "outputs": [],
   "source": [
    "def remove_apostrophe(data):\n",
    "    return np.char.replace(data, \"'\", \"\")"
   ]
  },
  {
   "cell_type": "code",
   "execution_count": 25,
   "metadata": {},
   "outputs": [],
   "source": [
    "def stemming(data):\n",
    "    stemmer= PorterStemmer()\n",
    "    \n",
    "    tokens = word_tokenize(str(data))\n",
    "    new_text = \"\"\n",
    "    for w in tokens:\n",
    "        new_text = new_text + \" \" + stemmer.stem(w)\n",
    "    return new_text"
   ]
  },
  {
   "cell_type": "code",
   "execution_count": 26,
   "metadata": {},
   "outputs": [],
   "source": [
    "def convert_numbers(data):\n",
    "    tokens = word_tokenize(str(data))\n",
    "    new_text = \"\"\n",
    "    for w in tokens:\n",
    "        try:\n",
    "            w = num2words(int(w))\n",
    "        except:\n",
    "            a = 0\n",
    "        new_text = new_text + \" \" + w\n",
    "    new_text = np.char.replace(new_text, \"-\", \" \")\n",
    "    return new_text"
   ]
  },
  {
   "cell_type": "code",
   "execution_count": null,
   "metadata": {},
   "outputs": [],
   "source": []
  },
  {
   "cell_type": "code",
   "execution_count": 27,
   "metadata": {},
   "outputs": [],
   "source": [
    "def preprocess(data):\n",
    "    data = convert_lower_case(data)\n",
    "    data = remove_punctuation(data) #remove comma seperately\n",
    "    data = remove_apostrophe(data)\n",
    "    data = remove_stop_words(data)\n",
    "    data = convert_numbers(data)\n",
    "    data = stemming(data)\n",
    "    data = remove_punctuation(data)\n",
    "    data = convert_numbers(data)\n",
    "    data = stemming(data) #needed again as we need to stem the words\n",
    "    data = remove_punctuation(data) #needed again as num2word is giving few hypens and commas fourty-one\n",
    "    data = remove_stop_words(data) #needed again as num2word is giving stop words 101 - one hundred and one\n",
    "    return data"
   ]
  },
  {
   "cell_type": "code",
   "execution_count": null,
   "metadata": {},
   "outputs": [],
   "source": []
  },
  {
   "cell_type": "markdown",
   "metadata": {},
   "source": [
    "## Extracting Data"
   ]
  },
  {
   "cell_type": "code",
   "execution_count": 28,
   "metadata": {
    "scrolled": false
   },
   "outputs": [],
   "source": [
    "processed_text = []\n",
    "processed_title = []\n",
    "\n",
    "for i in dataset[:N]:\n",
    "    file = open(i[0], 'r', encoding=\"utf8\", errors='ignore')\n",
    "    text = file.read().strip()\n",
    "    file.close()\n",
    "\n",
    "    processed_text.append(word_tokenize(str(preprocess(text))))\n",
    "    processed_title.append(word_tokenize(str(preprocess(i[1]))))"
   ]
  },
  {
   "cell_type": "code",
   "execution_count": null,
   "metadata": {},
   "outputs": [],
   "source": []
  },
  {
   "cell_type": "markdown",
   "metadata": {},
   "source": [
    "## Calculating DF for all words"
   ]
  },
  {
   "cell_type": "code",
   "execution_count": 30,
   "metadata": {
    "scrolled": true
   },
   "outputs": [],
   "source": [
    "DF = {}\n",
    "\n",
    "for i in range(N):\n",
    "    tokens = processed_text[i]\n",
    "    for w in tokens:\n",
    "        try:\n",
    "            DF[w].add(i)\n",
    "        except:\n",
    "            DF[w] = {i}\n",
    "\n",
    "    tokens = processed_title[i]\n",
    "    for w in tokens:\n",
    "        try:\n",
    "            DF[w].add(i)\n",
    "        except:\n",
    "            DF[w] = {i}\n",
    "for i in DF:\n",
    "    DF[i] = len(DF[i])"
   ]
  },
  {
   "cell_type": "code",
   "execution_count": 41,
   "metadata": {},
   "outputs": [
    {
     "data": {
      "text/plain": [
       "'north'"
      ]
     },
     "execution_count": 41,
     "metadata": {},
     "output_type": "execute_result"
    }
   ],
   "source": [
    "tuple(DF.items())[12][0]"
   ]
  },
  {
   "cell_type": "code",
   "execution_count": null,
   "metadata": {
    "scrolled": false
   },
   "outputs": [],
   "source": [
    "# DF"
   ]
  },
  {
   "cell_type": "code",
   "execution_count": null,
   "metadata": {},
   "outputs": [],
   "source": []
  },
  {
   "cell_type": "code",
   "execution_count": 42,
   "metadata": {},
   "outputs": [],
   "source": [
    "total_vocab_size = len(DF)"
   ]
  },
  {
   "cell_type": "code",
   "execution_count": 43,
   "metadata": {},
   "outputs": [
    {
     "data": {
      "text/plain": [
       "32350"
      ]
     },
     "execution_count": 43,
     "metadata": {},
     "output_type": "execute_result"
    }
   ],
   "source": [
    "total_vocab_size"
   ]
  },
  {
   "cell_type": "code",
   "execution_count": 44,
   "metadata": {
    "scrolled": false
   },
   "outputs": [],
   "source": [
    "total_vocab = [x for x in DF]"
   ]
  },
  {
   "cell_type": "code",
   "execution_count": 45,
   "metadata": {},
   "outputs": [
    {
     "name": "stdout",
     "output_type": "stream",
     "text": [
      "['sharewar', 'trial', 'project', 'freewar', 'need', 'support', 'continu', 'one', 'hundr', 'west', 'fifti', 'three', 'north', 'jim', 'prentic', 'copyright', 'thousand', 'nine', 'nineti', 'brandon']\n"
     ]
    }
   ],
   "source": [
    "print(total_vocab[:20])"
   ]
  },
  {
   "cell_type": "code",
   "execution_count": null,
   "metadata": {},
   "outputs": [],
   "source": []
  },
  {
   "cell_type": "code",
   "execution_count": 46,
   "metadata": {},
   "outputs": [],
   "source": [
    "def doc_freq(word):\n",
    "    c = 0\n",
    "    try:\n",
    "        c = DF[word]\n",
    "    except:\n",
    "        pass\n",
    "    return c"
   ]
  },
  {
   "cell_type": "code",
   "execution_count": null,
   "metadata": {},
   "outputs": [],
   "source": []
  },
  {
   "cell_type": "markdown",
   "metadata": {},
   "source": [
    "### Calculating TF-IDF for body, we will consider this as the actual tf-idf as we will add the title weight to this."
   ]
  },
  {
   "cell_type": "code",
   "execution_count": 47,
   "metadata": {
    "scrolled": false
   },
   "outputs": [],
   "source": [
    "doc = 0\n",
    "\n",
    "tf_idf = {}\n",
    "\n",
    "for i in range(N):\n",
    "    \n",
    "    tokens = processed_text[i]\n",
    "    \n",
    "    counter = Counter(tokens + processed_title[i])\n",
    "    words_count = len(tokens + processed_title[i])\n",
    "    \n",
    "    for token in np.unique(tokens):\n",
    "        \n",
    "        tf = counter[token]/words_count\n",
    "        df = doc_freq(token)\n",
    "        idf = np.log((N+1)/(df+1))\n",
    "        \n",
    "        tf_idf[doc, token] = tf*idf\n",
    "\n",
    "    doc += 1"
   ]
  },
  {
   "cell_type": "code",
   "execution_count": null,
   "metadata": {},
   "outputs": [],
   "source": [
    "# tf_idf"
   ]
  },
  {
   "cell_type": "markdown",
   "metadata": {},
   "source": [
    "### Calculating TF-IDF for Title"
   ]
  },
  {
   "cell_type": "code",
   "execution_count": 48,
   "metadata": {},
   "outputs": [],
   "source": [
    "doc = 0\n",
    "\n",
    "tf_idf_title = {}\n",
    "\n",
    "for i in range(N):\n",
    "    \n",
    "    tokens = processed_title[i]\n",
    "    counter = Counter(tokens + processed_text[i])\n",
    "    words_count = len(tokens + processed_text[i])\n",
    "\n",
    "    for token in np.unique(tokens):\n",
    "        \n",
    "        tf = counter[token]/words_count\n",
    "        df = doc_freq(token)\n",
    "        idf = np.log((N+1)/(df+1)) #numerator is added 1 to avoid negative values\n",
    "        \n",
    "        tf_idf_title[doc, token] = tf*idf\n",
    "\n",
    "    doc += 1"
   ]
  },
  {
   "cell_type": "code",
   "execution_count": 50,
   "metadata": {
    "scrolled": true
   },
   "outputs": [
    {
     "data": {
      "text/plain": [
       "{(0, 'fifti'): 0.005434960598980563,\n",
       " (0, 'go'): 0.0002906893990853149,\n",
       " (0, 'hundr'): 0.002570392381970895,\n",
       " (0, 'jim'): 0.005269857144642146,\n",
       " (0, 'nine'): 0.0008420698058556812,\n",
       " (0, 'nineti'): 0.001312716278834434,\n",
       " (0, 'north'): 0.021919902239379185,\n",
       " (0, 'one'): 0.0003992734536048051,\n",
       " (0, 'prentic'): 0.008085184948722846,\n",
       " (0, 'thousand'): 0.0008961984314476824,\n",
       " (0, 'three'): 0.0015785688576535318,\n",
       " (0, 'west'): 0.0033256596840258424,\n",
       " (1, 'fox'): 0.11198195635330804,\n",
       " (1, 'sli'): 0.11239056533822733,\n",
       " (1, 'stori'): 0.0007682063585522353,\n",
       " (2, 'bomb'): 0.023742982378177565,\n",
       " (2, 'languag'): 0.027898190361964424,\n",
       " (2, 'parser'): 0.05635662309253824,\n",
       " (2, 'smart'): 0.014515325244714838,\n",
       " (3, 'garag'): 0.008785324492085607,\n",
       " (3, 'guy'): 0.0031995505339385936,\n",
       " (3, 'pshota'): 0.004145380786745974,\n",
       " (3, 'two'): 0.0018360457195132072,\n",
       " (4, 'day'): 0.0008890808368913132,\n",
       " (4, 'earli'): 0.0028199293637210404,\n",
       " (4, 'eighteen'): 0.0042241724258131105,\n",
       " (4, 'high'): 0.006977574311606774,\n",
       " (4, 'hundr'): 0.0011126612785258626,\n",
       " (4, 'magic'): 0.003500336784686585,\n",
       " (4, 'nine'): 0.0010530342158152786,\n",
       " (4, 'nineti'): 0.0024623881790875215,\n",
       " (4, 'novemb'): 0.003519378929789205,\n",
       " (4, 'one'): 0.000427974639077762,\n",
       " (4, 'peshota'): 0.013383943142873675,\n",
       " (4, 'start'): 0.0016933031791435528,\n",
       " (4, 'tech'): 0.010891504702596758,\n",
       " (4, 'thousand'): 0.0012608141945605533,\n",
       " (5, 'cabinet'): 0.013704890897154126,\n",
       " (5, 'calendar'): 0.01073450356797531,\n",
       " (5, 'couch'): 0.014813709447181049,\n",
       " (5, 'decemb'): 0.001596667953648053,\n",
       " (5, 'file'): 0.006952626069658241,\n",
       " (5, 'hundr'): 0.0005949351067809636,\n",
       " (5, 'nine'): 0.00042228958335376434,\n",
       " (5, 'nineti'): 0.001645785202710689,\n",
       " (5, 'one'): 0.0007508686595569292,\n",
       " (5, 'peshota'): 0.005367251783987655,\n",
       " (5, 'thousand'): 0.0006741518213571966,\n",
       " (6, 'american'): 0.032721060575018175,\n",
       " (6, 'engin'): 0.005413778714362633,\n",
       " (6, 'futur'): 0.03159446838390536,\n",
       " (6, 'hundr'): 0.0014251920106059708,\n",
       " (6, 'januari'): 0.0018372587542911747,\n",
       " (6, 'nine'): 0.0008670963560297137,\n",
       " (6, 'nineti'): 0.0018023074317796775,\n",
       " (6, 'one'): 0.0004405071132115951,\n",
       " (6, 'peshota'): 0.007347129627381702,\n",
       " (6, 'technolog'): 0.04822246688227185,\n",
       " (6, 'thousand'): 0.003922043222939529,\n",
       " (6, 'two'): 0.0022881024307569893,\n",
       " (7, 'alway'): 0.0022337877758058238,\n",
       " (7, 'develop'): 0.0068810478801548496,\n",
       " (7, 'meant'): 0.003606803241637833,\n",
       " (7, 'peshota'): 0.010666391235691202,\n",
       " (7, 'research'): 0.00946042847076777,\n",
       " (8, 'adventur'): 0.0023698030665676943,\n",
       " (8, 'gabl'): 0.008878643972244365,\n",
       " (8, 'three'): 0.0019643177263899934,\n",
       " (9, 'littl'): 0.016528143483646715,\n",
       " (9, 'pig'): 0.14195020147474793,\n",
       " (9, 'stori'): 0.0011777227916556954,\n",
       " (10, 'collect'): 0.006207885745248531,\n",
       " (10, 'eighti'): 0.02385941288140984,\n",
       " (10, 'hundr'): 0.0056579051248116735,\n",
       " (10, 'march'): 0.03299748067602162,\n",
       " (10, 'nine'): 0.020080126139635474,\n",
       " (10, 'one'): 0.0012241460830301168,\n",
       " (10, 'rokraven'): 0.04417264061018382,\n",
       " (10, 'sonnet'): 0.01928005641618525,\n",
       " (10, 'staeorra'): 0.04417264061018382,\n",
       " (10, 'thousand'): 0.006411265701894958,\n",
       " (11, 'adventur'): 0.0022212015541426574,\n",
       " (11, 'student'): 0.007188700931899423,\n",
       " (11, 'three'): 0.003682285374882892,\n",
       " (12, 'stori'): 0.0016838252886104401,\n",
       " (12, 'three'): 0.006282277413229259,\n",
       " (12, 'wish'): 0.035787579872782305,\n",
       " (13, 'death'): 0.00208407608758935,\n",
       " (13, 'fiction'): 0.001423000405618296,\n",
       " (13, 'moon'): 0.020160860283439483,\n",
       " (14, 'five'): 0.002789634834009457,\n",
       " (14, 'orang'): 0.005135694388129738,\n",
       " (14, 'pip'): 0.014390899219231867,\n",
       " (14, 'stori'): 0.0009180892378217843,\n",
       " (15, 'abl'): 0.0029356369129203185,\n",
       " (15, 'men'): 0.015647432412262074,\n",
       " (15, 'six'): 0.0072942442286177515,\n",
       " (15, 'stori'): 0.0009795838943173945,\n",
       " (16, 'adventur'): 0.0012772470981247948,\n",
       " (16, 'napoleon'): 0.019843309433302793,\n",
       " (16, 'six'): 0.0021520973609737595,\n",
       " (17, 'old'): 0.021937690845570332,\n",
       " (17, 'samurai'): 0.11581853160644226,\n",
       " (17, 'seven'): 0.026332992579496277,\n",
       " (18, 'sailor'): 0.02209777901533832,\n",
       " (18, 'seven'): 0.0015553631769301731,\n",
       " (18, 'sinbad'): 0.056240423869667024,\n",
       " (18, 'voyag'): 0.014142578569816527,\n",
       " (19, 'ali'): 0.14002284098813564,\n",
       " (19, 'baba'): 0.15126561232208297,\n",
       " (19, 'forti'): 0.0030711681305157085,\n",
       " (19, 'stori'): 0.0011145176328906312,\n",
       " (19, 'thiev'): 0.008742656184315247,\n",
       " (20, 'abbey'): 0.009180094332140253,\n",
       " (20, 'adventur'): 0.0008108723745846086,\n",
       " (20, 'grang'): 0.009180094332140253,\n",
       " (20, 'rp'): 0.001314535208519928,\n",
       " (20, 'stori'): 0.0027022352824447064,\n",
       " (21, 'abyss'): 0.03017910609487225,\n",
       " (21, 'edg'): 0.004440934643267635,\n",
       " (21, 'goe'): 0.002816093883592356,\n",
       " (21, 'life'): 0.0009328021021948694,\n",
       " (22, 'adler'): 0.09652200882666362,\n",
       " (22, 'astru'): 0.009479272137893487,\n",
       " (22, 'ben'): 0.005760651523651487,\n",
       " (22, 'blumenberg'): 0.007570302044638734,\n",
       " (22, 'chronicl'): 0.005661331951383982,\n",
       " (22, 'father'): 0.024232772664261347,\n",
       " (22, 'ii'): 0.004069167343435842,\n",
       " (23, 'adventur'): 0.005474707735129272,\n",
       " (23, 'aladdin'): 0.2464680263841965,\n",
       " (24, 'adventur'): 0.0036857835208391303,\n",
       " (24, 'say'): 0.022977820838740975,\n",
       " (25, 'adventur'): 0.012843970818802007,\n",
       " (25, 'thumb'): 0.09023964358776282,\n",
       " (25, 'tom'): 0.11883869094743854,\n",
       " (26, 'aesop'): 0.01117414887193133,\n",
       " (26, 'fabl'): 0.012583607614717706,\n",
       " (26, 'fyler'): 0.0008533717460670094,\n",
       " (26, 'georg'): 0.0009710957946170269,\n",
       " (26, 'townsend'): 0.0007899451466132345,\n",
       " (26, 'translat'): 0.0019592675384633505,\n",
       " (27, 'aesop'): 0.002504210658088215,\n",
       " (27, 'club'): 0.000770280307567474,\n",
       " (27, 'eighti'): 0.0006198010497852652,\n",
       " (27, 'fabl'): 0.0018593940294136136,\n",
       " (27, 'four'): 0.0009891439794037866,\n",
       " (27, 'paperless'): 0.0019124701543760567,\n",
       " (27, 'reader'): 0.0008451529106518065,\n",
       " (28, 'air'): 0.019003632693181206,\n",
       " (28, 'condit'): 0.03981687709395678,\n",
       " (28, 'stori'): 0.003461196426588127,\n",
       " (29, 'aisl'): 0.0418778475324098,\n",
       " (29, 'lom'): 0.022399531242620008,\n",
       " (29, 'morpheou'): 0.022399531242620008,\n",
       " (29, 'six'): 0.0059629040223661825,\n",
       " (30, 'aisl'): 0.041770468436172846,\n",
       " (30, 'lom'): 0.02234209654712611,\n",
       " (30, 'morpheou'): 0.02234209654712611,\n",
       " (30, 'relea'): 0.0081773918170108,\n",
       " (30, 'six'): 0.005947614524872936,\n",
       " (31, 'aladdin'): 0.20370536535899705,\n",
       " (31, 'lamp'): 0.02781348157572717,\n",
       " (31, 'wonder'): 0.002555488571990752,\n",
       " (32, 'ali'): 0.3366570671499691,\n",
       " (32, 'fabl'): 0.01359979863821111,\n",
       " (32, 'saddl'): 0.11695731162128396,\n",
       " (32, 'sultan'): 0.30260202556556975,\n",
       " (33, 'altern'): 0.0017641405994375814,\n",
       " (33, 'jeff'): 0.002793005146281248,\n",
       " (33, 'massi'): 0.005418659431138337,\n",
       " (33, 'screenplay'): 0.005201005364134014,\n",
       " (33, 'side'): 0.002332550989104657,\n",
       " (33, 'street'): 0.01957554177441675,\n",
       " (34, 'aluminum'): 0.011051388514148278,\n",
       " (34, 'carl'): 0.012076316513972223,\n",
       " (34, 'day'): 0.0008022166171950354,\n",
       " (34, 'mitchel'): 0.013043190757136627,\n",
       " (35, 'amin'): 0.3587329404057048,\n",
       " (35, 'egg'): 0.07332607509801642,\n",
       " (35, 'fabl'): 0.014491588712847904,\n",
       " (36, 'angel'): 0.01823889102038774,\n",
       " (36, 'fur'): 0.006912939961203312,\n",
       " (36, 'piper'): 0.007135073254435202,\n",
       " (36, 'sickl'): 0.009262005289232092,\n",
       " (37, 'cliff'): 0.013506410083626935,\n",
       " (37, 'hanger'): 0.011980944557394397,\n",
       " (37, 'poem'): 0.004762345549157837,\n",
       " (38, 'ant'): 0.13350122153130026,\n",
       " (38, 'cricket'): 0.21487657944954186,\n",
       " (38, 'fabl'): 0.013812295491933158,\n",
       " (39, 'aquith'): 0.14697766812818236,\n",
       " (39, 'barbero'): 0.0036744417032045593,\n",
       " (39, 'lord'): 0.05929417478394522,\n",
       " (39, 'novella'): 0.0010190907910829696,\n",
       " (39, 'yve'): 0.0036744417032045593,\n",
       " (40, 'arcadia'): 0.0568842791514301,\n",
       " (40, 'stori'): 0.0003395795912713642,\n",
       " (41, 'collect'): 0.000465850760770587,\n",
       " (41, 'good'): 0.0008106076036969997,\n",
       " (41, 'stori'): 0.0005205201978311174,\n",
       " (41, 'variou'): 0.0005404892734165654,\n",
       " (42, 'arctic'): 0.034049103724555975,\n",
       " (42, 'beyond'): 0.001639104706006207,\n",
       " (42, 'circl'): 0.003722961467567122,\n",
       " (42, 'hundr'): 0.0028738301882489377,\n",
       " (42, 'jim'): 0.003647409939123647,\n",
       " (42, 'nine'): 0.001748457516976485,\n",
       " (42, 'nineti'): 0.0006057108407626178,\n",
       " (42, 'one'): 0.0005921740746346237,\n",
       " (42, 'prentic'): 0.005595974071442722,\n",
       " (42, 'thousand'): 0.002481132202691821,\n",
       " (43, 'aesop'): 0.07806842516061896,\n",
       " (43, 'blood'): 0.01416872166118065,\n",
       " (43, 'crypt'): 0.044470237751232905,\n",
       " (43, 'ladi'): 0.06097827780595769,\n",
       " (43, 'old'): 0.030449035381283414,\n",
       " (43, 'updat'): 0.040038925094313074,\n",
       " (44, 'bomb'): 0.035268348248709794,\n",
       " (44, 'eighti'): 0.0030144629062446196,\n",
       " (44, 'fiction'): 0.0018099885807182417,\n",
       " (44, 'gregori'): 0.008119648652681596,\n",
       " (44, 'hundr'): 0.0029784794668126246,\n",
       " (44, 'nine'): 0.003805466360478232,\n",
       " (44, 'ohio'): 0.008799023260397536,\n",
       " (44, 'one'): 0.0009021946195903972,\n",
       " (44, 'six'): 0.004614091404632883,\n",
       " (44, 'swann'): 0.00930148527767724,\n",
       " (44, 'thousand'): 0.0027000556323410994,\n",
       " (44, 'vow'): 0.01541163212270331,\n",
       " (44, 'yahoo'): 0.021525387925189845,\n",
       " (45, '11th'): 0.0073572556945542735,\n",
       " (45, 'aldebaran'): 0.01612529644831699,\n",
       " (45, 'bagel'): 0.03806314786988299,\n",
       " (45, 'hour'): 0.0033800169557770894,\n",
       " (45, 'man'): 0.004550660206470855,\n",
       " (45, 'product'): 0.0041065273666482625,\n",
       " (46, '11th'): 0.0073572556945542735,\n",
       " (46, 'aldebaran'): 0.01612529644831699,\n",
       " (46, 'bagel'): 0.03806314786988299,\n",
       " (46, 'hour'): 0.0033800169557770894,\n",
       " (46, 'man'): 0.004550660206470855,\n",
       " (46, 'product'): 0.0041065273666482625,\n",
       " (47, 'addit'): 0.005334264951138037,\n",
       " (47, 'battletech'): 0.011667353439506237,\n",
       " (47, 'collect'): 0.00015616129739040506,\n",
       " (47, 'matt'): 0.0007639419539910941,\n",
       " (47, 'murphi'): 0.00044370188682040857,\n",
       " (47, 'rule'): 0.017450335180837682,\n",
       " (48, 'beast'): 0.0017594928701955776,\n",
       " (48, 'collect'): 0.00041644426373611815,\n",
       " (48, 'fiction'): 0.0005766204794086088,\n",
       " (49, 'beast'): 0.05981078824739661,\n",
       " (49, 'beauti'): 0.029554248815933663,\n",
       " (49, 'stori'): 0.0009081856512913452,\n",
       " (50, 'beggar'): 0.004552320588847478,\n",
       " (50, 'eight'): 0.0003066731727058499,\n",
       " (50, 'gay'): 0.0015152608338224699,\n",
       " (50, 'hundr'): 0.00022557342609950772,\n",
       " (50, 'john'): 0.0004770564216492674,\n",
       " (50, 'one'): 0.0003199447768570948,\n",
       " (50, 'opera'): 0.0025428986350742554,\n",
       " (50, 'seven'): 0.0009253850215481467,\n",
       " (50, 'thousand'): 0.00034081192905801243,\n",
       " (50, 'twenti'): 0.000336809332140663,\n",
       " (51, 'adventur'): 0.015365846367699203,\n",
       " (51, 'bernec'): 0.04982028415851782,\n",
       " (51, 'bert'): 0.13047051876158236,\n",
       " (51, 'franci'): 0.08012353804343351,\n",
       " (51, 'kaltenbaugh'): 0.06523525938079118,\n",
       " (52, '11th'): 0.011140987194610756,\n",
       " (52, 'bert'): 0.1814161498970574,\n",
       " (52, 'came'): 0.0042669021193043844,\n",
       " (52, 'erni'): 0.13606211242279304,\n",
       " (52, 'hour'): 0.005118311390176735,\n",
       " (52, 'product'): 0.006218455726638797,\n",
       " (53, 'best'): 0.0032370914383499545,\n",
       " (53, 'fiction'): 0.008325947471303911,\n",
       " (53, 'wish'): 0.007988781027408416,\n",
       " (54, 'beyond'): 0.004461230612402821,\n",
       " (54, 'dalla'): 0.009678103163077925,\n",
       " (54, 'vordahl'): 0.01163181474489915,\n",
       " (55, 'bad'): 0.004818389672085878,\n",
       " (55, 'baron'): 0.022750437737282463,\n",
       " (55, 'beaver'): 0.30723662692466147,\n",
       " (55, 'crash'): 0.009159368883786987,\n",
       " (55, 'gone'): 0.0041351541579406495,\n",
       " (55, 'manuscript'): 0.018325905829255293,\n",
       " (55, 'mini'): 0.019130870214776222,\n",
       " (55, 'pete'): 0.017628613961764312,\n",
       " (55, 'stocton'): 0.02848731652928304,\n",
       " (55, 'von'): 0.020633126467788133,\n",
       " (56, 'bubbl'): 0.004715369585580487,\n",
       " (56, 'card'): 0.0030256208141054898,\n",
       " (56, 'eight'): 0.0011001404338758783,\n",
       " (56, 'foil'): 0.03062961656345775,\n",
       " (56, 'gum'): 0.005659692885966674,\n",
       " (56, 'hundr'): 0.0004046041012821318,\n",
       " (56, 'januari'): 0.0018255564692319952,\n",
       " (56, 'knight'): 0.030534258528598743,\n",
       " (56, 'mathew'): 0.00827245037891909,\n",
       " (56, 'mega'): 0.0050454068635664056,\n",
       " (56, 'nine'): 0.00028719114976780326,\n",
       " (56, 'nineti'): 0.0008954138833045532,\n",
       " (56, 'one'): 0.0003209809793083215,\n",
       " (56, 'ryan'): 0.010090813727132811,\n",
       " (56, 'stori'): 0.0007215001236663147,\n",
       " (56, 'thirti'): 0.0016406397374189661,\n",
       " (56, 'thousand'): 0.0006877168333966654,\n",
       " (56, 'two'): 0.0008744340499708239,\n",
       " (56, 'yonker'): 0.005848125080775375,\n",
       " (57, 'big'): 0.0033491077192249036,\n",
       " (57, 'cape'): 0.015774215914444115,\n",
       " (57, 'red'): 0.029648121653213906,\n",
       " (57, 'ride'): 0.00532397833881824,\n",
       " (58, 'dougla'): 0.0009824683754078,\n",
       " (58, 'hundr'): 0.00027455846087003603,\n",
       " (58, 'nine'): 0.0001299224926388988,\n",
       " (58, 'nineti'): 0.00020253828113516218,\n",
       " (58, 'one'): 0.0002772165785931987,\n",
       " (58, 'pyramid'): 0.003095108973902431,\n",
       " (58, 'scheme'): 0.0006193264340535391,\n",
       " (58, 'thousand'): 0.00031111642993478483,\n",
       " (58, 'three'): 0.0004871130620342791,\n",
       " (58, 'warren'): 0.001189005994363732,\n",
       " (59, 'blab'): 0.007675340145422979,\n",
       " (59, 'datanet'): 0.004082341153799141,\n",
       " (59, 'novel'): 0.01043210559018212,\n",
       " (59, 'super'): 0.00126208882034348,\n",
       " (60, 'blabnovel'): 0.005484502858810249,\n",
       " (60, 'continu'): 0.0021519118196277128,\n",
       " (60, 'datanet'): 0.004113377144107687,\n",
       " (60, 'saga'): 0.0017120477992743175,\n",
       " (60, 'super'): 0.0012716838480300444,\n",
       " (61, 'adventur'): 0.00043736942481493703,\n",
       " (61, 'black'): 0.002343239469085419,\n",
       " (61, 'peter'): 0.024637432055975895,\n",
       " (62, 'black'): 0.015428140748900058,\n",
       " (62, 'german'): 0.013599865359076637,\n",
       " (62, 'literatur'): 0.015178219355472975,\n",
       " (62, 'rider'): 0.05888246128045979,\n",
       " (62, 'word'): 0.003105327871651172,\n",
       " (63, 'franci'): 0.02316442882047781,\n",
       " (63, 'kaltenbaugh'): 0.015716745659398536,\n",
       " (63, 'lunch'): 0.013236525211393492,\n",
       " (63, 'park'): 0.01813705858731993,\n",
       " (64, 'blaster'): 0.19382637153889784,\n",
       " (64, 'collin'): 0.06393000540117671,\n",
       " (64, 'readi'): 0.04642023754935675,\n",
       " (64, 'william'): 0.033954910952595466,\n",
       " (65, 'andrew'): 0.004427882821960376,\n",
       " (65, 'birdlov'): 0.007782198452721401,\n",
       " (65, 'holiday'): 0.006746225440150477,\n",
       " (65, 'varga'): 0.005804603073092455,\n",
       " (66, 'august'): 0.004404932865480258,\n",
       " (66, 'blind'): 0.002619531387760314,\n",
       " (66, 'hundr'): 0.0010215662030909965,\n",
       " (66, 'lyn'): 0.007975615665727633,\n",
       " (66, 'nichol'): 0.007975615665727633,\n",
       " (66, 'nine'): 0.0007251156661535032,\n",
       " (66, 'nineti'): 0.0011303945734407626,\n",
       " (66, 'one'): 0.0006630791283079799,\n",
       " (66, 'sight'): 0.0015419855191679595,\n",
       " (66, 'thousand'): 0.0005787948203099615,\n",
       " (66, 'three'): 0.0027186463659588603,\n",
       " (67, 'funni'): 0.01597934907021462,\n",
       " (67, 'list'): 0.016921130300123644,\n",
       " (67, 'littl'): 0.0069751798187866875,\n",
       " (67, 'name'): 0.006359148445504085,\n",
       " (67, 'quaint'): 0.033610657303941714,\n",
       " (67, 'stori'): 0.005715737218218926,\n",
       " (67, 'tell'): 0.005392538210111184,\n",
       " (68, 'arnold'): 0.007201171614362962,\n",
       " (68, 'blue'): 0.001369910212098311,\n",
       " (68, 'rick'): 0.009261836136335721,\n",
       " (68, 'soldier'): 0.01099161651170242,\n",
       " (69, 'bluebeard'): 0.22495518311864296,\n",
       " (70, 'boom'): 0.0034546874457200075,\n",
       " (70, 'em'): 0.01048529756288788,\n",
       " (70, 'five'): 0.0024941320136479808,\n",
       " (70, 'hundr'): 0.0009206209261057204,\n",
       " (70, 'issu'): 0.005326308065540331,\n",
       " (70, 'nine'): 0.0013069278409723222,\n",
       " (70, 'nineti'): 0.0020373910098378965,\n",
       " (70, 'one'): 0.0005975574753131202,\n",
       " (70, 'thousand'): 0.0010432033124954249,\n",
       " (71, 'book'): 0.024824884607988817,\n",
       " (71, 'em'): 0.006322834361942717,\n",
       " (71, 'five'): 0.001336897032739278,\n",
       " (71, 'hundr'): 0.0007402026302057646,\n",
       " (71, 'issu'): 0.002141243549653131,\n",
       " (71, 'nine'): 0.0015762048166811321,\n",
       " (71, 'nineti'): 0.00163811416998619,\n",
       " (71, 'one'): 0.0006406018697212687,\n",
       " (71, 'thousand'): 0.0012581429780466537,\n",
       " (72, 'book'): 0.007625170630132791,\n",
       " (72, 'em'): 0.0014386010213723608,\n",
       " (72, 'five'): 0.0027375939238739226,\n",
       " (72, 'hundr'): 0.0007578647320111082,\n",
       " (72, 'issu'): 0.0014615574192860126,\n",
       " (72, 'nine'): 0.0010758766066138747,\n",
       " (72, 'nineti'): 0.001677201492914277,\n",
       " (72, 'one'): 0.0004008200659909409,\n",
       " (72, 'thousand'): 0.0008587758288330015,\n",
       " (73, 'brain'): 0.02295629175794491,\n",
       " (73, 'cannon'): 0.008104717756272344,\n",
       " (73, 'damag'): 0.030587117789609906,\n",
       " (73, 'howard'): 0.01083758414599401,\n",
       " (73, 'hundr'): 0.002027885149419441,\n",
       " (73, 'nine'): 0.003701336683947733,\n",
       " (73, 'one'): 0.0005850051347592791,\n",
       " (73, 'seventi'): 0.005440242076974165,\n",
       " (73, 'thousand'): 0.0019696301347861375,\n",
       " (74, 'brambl'): 0.04759095618991591,\n",
       " (74, 'chapman'): 0.053088074660626275,\n",
       " (74, 'gordon'): 0.04284867422373855,\n",
       " (75, 'brand'): 0.008725816210653861,\n",
       " (75, 'hillman'): 0.025207267923042613,\n",
       " (75, 'john'): 0.014753029372334915,\n",
       " (75, 'jr'): 0.018287329348400896,\n",
       " (76, '21st'): 0.0005981663732800898,\n",
       " (76, 'adventur'): 0.0004946887695003493,\n",
       " (76, 'break'): 0.002739843702660634,\n",
       " (76, 'centuri'): 0.0006404046695672252,\n",
       " (76, 'farber'): 0.0009606855185644084,\n",
       " (76, 'hundr'): 0.00048791894066044076,\n",
       " (76, 'nine'): 0.00032810084827938007,\n",
       " (76, 'nineti'): 0.0005683130380253449,\n",
       " (76, 'nixon'): 0.08037735505322217,\n",
       " (76, 'one'): 0.00029262235107395157,\n",
       " (76, 'philip'): 0.0006404570123762722,\n",
       " (76, 'richard'): 0.0017466604722203311,\n",
       " (76, 'thousand'): 0.0004655884243639999,\n",
       " (76, 'three'): 0.0007517491825606198,\n",
       " (76, 'two'): 0.0007103965209494686,\n",
       " (77, '21st'): 0.0006321800286239122,\n",
       " (77, 'adventur'): 0.0002614091784763556,\n",
       " (77, 'break'): 0.0008143987468254326,\n",
       " (77, 'centuri'): 0.0010152301945306572,\n",
       " (77, 'farber'): 0.0006768754488758785,\n",
       " (77, 'hundr'): 0.0003528224453462729,\n",
       " (77, 'nine'): 0.0004623436174775076,\n",
       " (77, 'nineti'): 0.0009610066194154981,\n",
       " (77, 'nixon'): 0.04027408920811477,\n",
       " (77, 'one'): 0.0003210059137431314,\n",
       " (77, 'philip'): 0.0006768754488758785,\n",
       " (77, 'richard'): 0.0013844858846747616,\n",
       " (77, 'thousand'): 0.00036904745475834416,\n",
       " (77, 'three'): 0.0007583825914828143,\n",
       " (77, 'two'): 0.000633480700941343,\n",
       " (78, '21st'): 0.0004196603500657808,\n",
       " (78, 'adventur'): 0.00017353137141739512,\n",
       " (78, 'break'): 0.0021624907318242145,\n",
       " (78, 'centuri'): 0.00022464690412185698,\n",
       " (78, 'farber'): 0.0008986610616108894,\n",
       " (78, 'hundr'): 0.0016935494171291955,\n",
       " (78, 'nine'): 0.0002046118463898499,\n",
       " (78, 'nineti'): 0.00039871590771116004,\n",
       " (78, 'nixon'): 0.0813288260757855,\n",
       " (78, 'one'): 0.0005405298504688813,\n",
       " (78, 'philip'): 0.0004493305308054447,\n",
       " (78, 'richard'): 0.0009190638816737936,\n",
       " (78, 'thousand'): 0.0003266465817590872,\n",
       " (78, 'three'): 0.0006712499381296938,\n",
       " (78, 'two'): 0.0005606983679330245,\n",
       " (79, 'adventur'): 0.0013124494362426388,\n",
       " (79, 'bruce'): 0.005999817789272389,\n",
       " (79, 'partington'): 0.00851064136561264,\n",
       " (79, 'plan'): 0.0038115676154509043,\n",
       " (80, 'andrew'): 0.01820496104512741,\n",
       " (80, 'buggi'): 0.02793063891376983,\n",
       " (80, 'hundr'): 0.0020491239968159583,\n",
       " (80, 'nine'): 0.002908968420228717,\n",
       " (80, 'nineti'): 0.004534838054155318,\n",
       " (80, 'one'): 0.0010344812207033587,\n",
       " (80, 'thousand'): 0.002321968663296268,\n",
       " (80, 'varga'): 0.023865259555646983,\n",
       " (81, 'detail'): 0.014957974426377989,\n",
       " (81, 'martyr'): 0.020869105211418604,\n",
       " (81, 'stori'): 0.002864438422003967,\n",
       " (82, 'beeblebrox'): 0.012609463198934925,\n",
       " (82, 'dreamworld'): 0.009629869576977408,\n",
       " (82, 'zaphod'): 0.012609463198934925,\n",
       " (83, 'cat'): 0.05661860811716244,\n",
       " (83, 'lover'): 0.014222023201334972,\n",
       " (83, 'stori'): 0.0005302258355624365,\n",
       " (84, 'daniel'): 0.00922648854309732,\n",
       " (84, 'flower'): 0.004038827059243547,\n",
       " (84, 'hunt'): 0.012290817443567408,\n",
       " (84, 'hunter'): 0.030108079823244312,\n",
       " (84, 'stori'): 0.0007273967971813927,\n",
       " (85, 'iron'): 0.005522970546685774,\n",
       " (85, 'man'): 0.0020400986076001856,\n",
       " (85, 'stori'): 0.0005855407488588936,\n",
       " (86, 'excertp'): 0.0144703477860947,\n",
       " (86, 'paragraph'): 0.016997503006637698,\n",
       " (86, 'someth'): 0.0041733484593923734,\n",
       " (86, 'three'): 0.0024662521410024675,\n",
       " (87, 'adventur'): 0.0018711745743583887,\n",
       " (87, 'come'): 0.001116219070658511,\n",
       " (87, 'continu'): 0.0023503829275471136,\n",
       " (87, 'dont'): 0.0008901628984326093,\n",
       " (87, 'larger'): 0.0008580785546003292,\n",
       " (87, 'mr'): 0.002406899911603035,\n",
       " (88, 'land'): 0.007076141610919058,\n",
       " (88, 'new'): 0.001971567584765389,\n",
       " (88, 'vengeanc'): 0.00967539823594725,\n",
       " (89, 'daniel'): 0.027017051067223435,\n",
       " (89, 'flower'): 0.01182651410681059,\n",
       " (89, 'left'): 0.00426917998082428,\n",
       " (89, 'option'): 0.01329805248424735,\n",
       " (90, 'brown'): 0.01639321413380135,\n",
       " (90, 'capn'): 0.09496912973710281,\n",
       " (90, 'eighti'): 0.006423187990962649,\n",
       " (90, 'fate'): 0.009296005664454115,\n",
       " (90, 'hundr'): 0.0019039544493576067,\n",
       " (90, 'ill'): 0.003351928104578346,\n",
       " (90, 'juliu'): 0.025951901552031368,\n",
       " (90, 'nine'): 0.005405766928054455,\n",
       " (90, 'one'): 0.0009611937227788701,\n",
       " (90, 'roger'): 0.025372854426655777,\n",
       " (90, 'thousand'): 0.0021574695209374043,\n",
       " (90, 'voyag'): 0.017755294485130694,\n",
       " (91, 'adventur'): 0.006208709141192114,\n",
       " (91, 'capn'): 0.09645849800788764,\n",
       " (91, 'part'): 0.0028022013509267376,\n",
       " (91, 'roger'): 0.034361024260452656,\n",
       " (92, 'encount'): 0.001106185902141333,\n",
       " (92, 'phreak'): 0.016804631148852018,\n",
       " (92, 'stori'): 0.0003382276638359733,\n",
       " (93, 'citi'): 0.00123992084944965,\n",
       " (93, 'daniel'): 0.005203569427455787,\n",
       " (93, 'flower'): 0.0022778239966475622,\n",
       " (93, 'print'): 0.012324262499282528,\n",
       " (94, 'best'): 0.002715323410458021,\n",
       " (94, 'bulwer'): 0.035890270495774354,\n",
       " (94, 'contest'): 0.020114643701048228,\n",
       " (94, 'dark'): 0.00635846947560429,\n",
       " (94, 'lytton'): 0.035890270495774354,\n",
       " (94, 'night'): 0.0040465710999350426,\n",
       " (94, 'stormi'): 0.023575782489842826,\n",
       " (95, 'stori'): 0.0008964249737926084,\n",
       " (95, 'zorker'): 0.005232921933196836,\n",
       " (96, 'bummer'): 0.00890125969121076,\n",
       " (96, 'huber'): 0.016286761968933052,\n",
       " (96, 'nevin'): 0.012215071476699788,\n",
       " (96, 'thoma'): 0.008983259766592167,\n",
       " (97, 'bureau'): 0.0033888075565451405,\n",
       " (97, 'procur'): 0.0020864429231673073,\n",
       " (97, 'stori'): 0.0001329903280459363,\n",
       " (98, 'burrough'): 0.05679539449628551,\n",
       " (98, 'hundr'): 0.001582078376409604,\n",
       " (98, 'interview'): 0.04614982403863141,\n",
       " (98, 'nine'): 0.001871619304335835,\n",
       " (98, 'one'): 0.0009888636660653346,\n",
       " (98, 'six'): 0.0011670790765788402,\n",
       " (98, 'sixti'): 0.0038669700995081183,\n",
       " (98, 'thousand'): 0.0017927350509827035,\n",
       " (98, 'william'): 0.0054584121003040265,\n",
       " (99, 'burrough'): 0.07032775793580234,\n",
       " (99, 'eight'): 0.0016948639868899574,\n",
       " (99, 'hundr'): 0.003116642653497956,\n",
       " (99, 'juli'): 0.005226748387242544,\n",
       " (99, 'nine'): 0.003981991115826018,\n",
       " (99, 'one'): 0.0009440448606418697,\n",
       " (99, 'seventi'): 0.003511649569044162,\n",
       " (99, 'sketch'): 0.00887222556251944,\n",
       " (99, 'thousand'): 0.0035316294120607823,\n",
       " (99, 'william'): 0.015054050618590498,\n",
       " (100, 'burrough'): 0.09374606505665772,\n",
       " (100, 'cronenberg'): 0.11969480928210992,\n",
       " (100, 'david'): 0.009030371686884099,\n",
       " (100, 'equir'): 0.0023018232554251907,\n",
       " (100, 'fli'): 0.006807327854098178,\n",
       " (100, 'human'): 0.004529017360695137,\n",
       " (100, 'hundr'): 0.0017689905896563082,\n",
       " (100, 'interview'): 0.0025801061962526,\n",
       " (100, 'magazin'): 0.0008077475912744251,\n",
       " (100, 'nine'): 0.0018834649961354285,\n",
       " (100, 'nineti'): 0.0009787213775107363,\n",
       " (100, 'one'): 0.0006591622051871733,\n",
       " (100, 'thousand'): 0.0016704458105148256,\n",
       " (100, 'two'): 0.0014018247803625097,\n",
       " (100, 'william'): 0.015258219478697963,\n",
       " (101, 'burrough'): 0.12983764269768513,\n",
       " (101, 'fifti'): 0.02319704197680834,\n",
       " (101, 'five'): 0.011431438395886579,\n",
       " (101, 'forti'): 0.008293637608494112,\n",
       " (101, 'harri'): 0.03669434319215071,\n",
       " (101, 'hundr'): 0.013924391507349018,\n",
       " (101, 'letter'): 0.04415928935169205,\n",
       " (101, 'nine'): 0.017970257813369427,\n",
       " (101, 'oliv'): 0.03739584885668953,\n",
       " (101, 'one'): 0.0012781090444197295,\n",
       " (101, 'thousand'): 0.0157784501014933,\n",
       " (101, 'william'): 0.04367388908757751,\n",
       " (102, 'burn'): 0.034688330038804664,\n",
       " (102, 'mcpherson'): 0.04634796624137864,\n",
       " (102, 'michael'): 0.03205291574455848,\n",
       " (102, 'synopsi'): 0.053721872417548264,\n",
       " (103, 'adam'): 0.033375305382825064,\n",
       " (103, 'cabin'): 0.02933608110148378,\n",
       " (103, 'hundr'): 0.0036393295985116753,\n",
       " (103, 'nine'): 0.007749673682015566,\n",
       " (103, 'nineti'): 0.008054061335765434,\n",
       " (103, 'one'): 0.0013123441081095437,\n",
       " (103, 'poszar'): 0.049605978487476624,\n",
       " (103, 'thousand'): 0.004123913094708475,\n",
       " (104, 'abort'): 0.019534234495412896,\n",
       " (104, 'attempt'): 0.007637172233299098,\n",
       " (104, 'mayb'): 0.004862148637024277,\n",
       " (104, 'screenplay'): 0.022691191805674957,\n",
       " (105, 'best'): 0.006878819306493654,\n",
       " (105, 'campir'): 0.022730504647323756,\n",
       " (105, 'stori'): 0.007787691959823286,\n",
       " (105, 'week'): 0.014057347188392131,\n",
       " (106, 'candl'): 0.017904776817249744,\n",
       " (106, 'cold'): 0.004035241130660581,\n",
       " (106, 'hawn'): 0.00606821036191068,\n",
       " (106, 'walter'): 0.00427795684418643,\n",
       " (106, 'wind'): 0.01812252423766699,\n",
       " (107, 'account'): 0.010105410327666653,\n",
       " (107, 'card'): 0.003169286025623539,\n",
       " (107, 'valimaa'): 0.004254214542779596,\n",
       " (108, 'cat'): 0.02484199571981549,\n",
       " (108, 'cock'): 0.03776388690914903,\n",
       " (108, 'fabl'): 0.012873595798306632,\n",
       " (108, 'mou'): 0.11720675503913243,\n",
       " (109, 'campbel'): 0.004723236611325231,\n",
       " (109, 'charli'): 0.12406074848140648,\n",
       " (109, 'colin'): 0.004955435936314003,\n",
       " (109, 'cosmic'): 0.024669575766377277,\n",
       " (110, 'chicken'): 0.012193933282203731,\n",
       " (110, 'citi'): 0.010287085257712863,\n",
       " (110, 'hanna'): 0.014169709833975691,\n",
       " (111, 'clever'): 0.0810609826971218,\n",
       " (111, 'donkey'): 0.25557391561486104,\n",
       " (111, 'thought'): 0.01050642228929478,\n",
       " (112, 'clone'): 0.03965229052358802,\n",
       " (112, 'huber'): 0.008837137579492073,\n",
       " (112, 'nevin'): 0.006627853184619054,\n",
       " (112, 'thoma'): 0.00487428395043287,\n",
       " (112, 'us'): 0.003493320394388883,\n",
       " (113, 'countri'): 0.0628852948181394,\n",
       " (113, 'mou'): 0.17381083110341453,\n",
       " (113, 'stori'): 0.0017549728360165152,\n",
       " (113, 'town'): 0.04140598125633104,\n",
       " (114, 'comput'): 0.04644877806584098,\n",
       " (114, 'griebel'): 0.02648214133668787,\n",
       " (114, 'rich'): 0.007589809792461528,\n",
       " (115, 'conflict'): 0.0268739901142357,\n",
       " (115, 'jason'): 0.036385784821318906,\n",
       " (115, 'scott'): 0.028208628034818026,\n",
       " (116, 'consum'): 0.001136217032367627,\n",
       " (116, 'dream'): 0.00925956194481043,\n",
       " (116, 'martin'): 0.00335030786111536,\n",
       " (116, 'melani'): 0.0041509194179090506,\n",
       " (116, 'vessel'): 0.0023456327000105502,\n",
       " (117, 'brunet'): 0.09325335239927696,\n",
       " (117, 'contradict'): 0.06262498540392558,\n",
       " (117, 'rick'): 0.07183860080106554,\n",
       " (118, 'carpent'): 0.001783260026931363,\n",
       " (118, 'cool'): 0.0017594817894666537,\n",
       " (118, 'cyberpunk'): 0.0004039482499339283,\n",
       " (118, 'dark'): 0.0016603114963917784,\n",
       " (118, 'matthew'): 0.002258197836862432,\n",
       " (118, 'novel'): 0.00016862401221841956,\n",
       " (119, 'carpent'): 0.0017833920811395185,\n",
       " (119, 'cool'): 0.001759612082845613,\n",
       " (119, 'dark'): 0.001660434445999035,\n",
       " (119, 'matthew'): 0.0022583650612283132,\n",
       " (119, 'stori'): 0.00032294931113011256,\n",
       " (120, 'bruce'): 0.002173429331971518,\n",
       " (120, 'corcoran'): 0.3098388087558344,\n",
       " (120, 'drake'): 0.0024621129283354574,\n",
       " (121, 'cke'): 0.025732646770555197,\n",
       " (121, 'cow'): 0.06659631288408689,\n",
       " (121, 'eighti'): 0.0037064622526466863,\n",
       " (121, 'enterpri'): 0.015923960253197478,\n",
       " (121, 'explod'): 0.01847937314991718,\n",
       " (121, 'four'): 0.001971721314639624,\n",
       " (121, 'hundr'): 0.00274666384793334,\n",
       " (121, 'nine'): 0.0015596827536131957,\n",
       " (121, 'one'): 0.0008715945774614327,\n",
       " (121, 'stori'): 0.009795838943173945,\n",
       " (121, 'thousand'): 0.0024899097930315326,\n",
       " (122, 'crab'): 0.24053360123573264,\n",
       " (122, 'heron'): 0.2736375176342114,\n",
       " (122, 'stori'): 0.0030690411664328217,\n",
       " (123, 'crazi'): 0.001273905700429471,\n",
       " (123, 'glue'): 0.002097433778171186,\n",
       " (123, 'jerri'): 0.0019720065140150195,\n",
       " (123, 'novel'): 0.004925049859445488,\n",
       " (123, 'slaff'): 0.00272266899784946,\n",
       " (124, 'come'): 0.0010928834803311553,\n",
       " (124, 'huber'): 0.030360340255676597,\n",
       " (124, 'nevin'): 0.02277025519175745,\n",
       " (124, 'thoma'): 0.0167457978227415,\n",
       " (124, 'world'): 0.00673510355604078,\n",
       " (125, 'ae'): 0.010425445167761022,\n",
       " (125, 'curiou'): 0.04628018842335641,\n",
       " (125, 'georgi'): 0.48939556179989935,\n",
       " (125, 'penguin'): 0.02395266693131159,\n",
       " (125, 'subzero'): 0.026648316660947424,\n",
       " (126, 'book'): 0.0006414939679711799,\n",
       " (126, 'cyberslav'): 0.0017066545019107468,\n",
       " (126, 'dworin'): 0.000568884833970249,\n",
       " (126, 'hundr'): 0.0007742043256649271,\n",
       " (126, 'lawrenc'): 0.0004120385545212397,\n",
       " (126, 'nine'): 0.0004654895501163737,\n",
       " (126, 'nineti'): 0.0003628296049899022,\n",
       " (126, 'one'): 0.0002956007376314317,\n",
       " (126, 'revolt'): 0.00046711493540540567,\n",
       " (126, 'thousand'): 0.0005573378560657161,\n",
       " (127, 'book'): 0.0014952268914656698,\n",
       " (127, 'dakota'): 0.01740356382108627,\n",
       " (127, 'north'): 0.005884014555967196,\n",
       " (127, 'rift'): 0.007418347713692182,\n",
       " (127, 'satterl'): 0.002088427658530352,\n",
       " (127, 'sean'): 0.005212948822988823,\n",
       " (127, 'world'): 0.000591991237082995,\n",
       " (128, 'bell'): 0.004354120829386779,\n",
       " (128, 'charl'): 0.010642641292804816,\n",
       " (128, 'danc'): 0.005102532758947878,\n",
       " (128, 'made'): 0.0009887842844767498,\n",
       " (129, 'conrad'): 0.0008062140397929121,\n",
       " (129, 'dark'): 0.0021396346223267015,\n",
       " (129, 'heart'): 0.0015903230281265426,\n",
       " (129, 'joseph'): 0.0006308196027749605,\n",
       " (130, 'day'): 0.002613148668803797,\n",
       " (130, 'detac'): 0.03939045247464538,\n",
       " (130, 'eighti'): 0.009193876726533903,\n",
       " (130, 'hundr'): 0.011991051656874663,\n",
       " (130, 'joe'): 0.013711041206159654,\n",
       " (130, 'june'): 0.004234759893030422,\n",
       " (130, 'mcdonaldland'): 0.031512361979716304,\n",
       " (130, 'nine'): 0.0038687918537363203,\n",
       " (130, 'one'): 0.0005503246431510847,\n",
       " (130, 'six'): 0.009649795796985732,\n",
       " (130, 'ten'): 0.007456569383228519,\n",
       " (130, 'thousand'): 0.004323353509585173,\n",
       " (131, 'dealer'): 0.006972145009172304,\n",
       " (131, 'robbi'): 0.02868202479157572,\n",
       " (131, 'white'): 0.0029277995925530657,\n",
       " (132, 'burrough'): 0.019653668766669706,\n",
       " (132, 'death'): 0.007579382139386497,\n",
       " (132, 'ms'): 0.005674489685912658,\n",
       " (132, 'william'): 0.013221930590315968,\n",
       " (133, 'andrew'): 0.01842104366880845,\n",
       " (133, 'deer'): 0.0816716461677255,\n",
       " (133, 'hundr'): 0.004146891886731405,\n",
       " (133, 'nine'): 0.0029434962353056156,\n",
       " (133, 'nineti'): 0.004588664025124521,\n",
       " (133, 'one'): 0.0007476856639674551,\n",
       " (133, 'thousand'): 0.0023495291222077963,\n",
       " (133, 'two'): 0.002688690096675869,\n",
       " (133, 'varga'): 0.024148526731381667,\n",
       " (134, 'descent'): 0.0070274829338551285,\n",
       " (134, 'maelstrom'): 0.005941576961694019,\n",
       " (135, 'diari'): 0.018072976935636715,\n",
       " (135, 'swarv'): 0.0012517946570348099,\n",
       " (136, 'bluebaugh'): 0.011808054362246108,\n",
       " (136, 'dice'): 0.13776565964087786,\n",
       " (136, 'dragon'): 0.006341109244695771,\n",
       " (136, 'dungeon'): 0.0077565344988227486,\n",
       " (136, 'game'): 0.029100589852475975,\n",
       " (136, 'guid'): 0.004306461499043236,\n",
       " (136, 'reid'): 0.017712081543369163,\n",
       " (137, 'heap'): 0.004735397795983232,\n",
       " (137, 'lucillu'): 0.020526611787921364,\n",
       " (137, 'manli'): 0.06466505212274615,\n",
       " (137, 'testosteron'): 0.018778917356420653,\n",
       " (137, 'wager'): 0.02554683438737992,\n",
       " (138, '11th'): 0.01029152776041756,\n",
       " (138, 'aldebaran'): 0.02255649972389209,\n",
       " (138, 'disco'): 0.05110508887612424,\n",
       " (138, 'fun'): 0.01412176111713469,\n",
       " (138, 'hour'): 0.004728058908814286,\n",
       " (138, 'product'): 0.005744321272408273,\n",
       " (139, '11th'): 0.01029152776041756,\n",
       " (139, 'aldebaran'): 0.02255649972389209,\n",
       " (139, 'disco'): 0.05110508887612424,\n",
       " (139, 'fun'): 0.01412176111713469,\n",
       " (139, 'hour'): 0.004728058908814286,\n",
       " (139, 'product'): 0.005744321272408273,\n",
       " (140, 'arnheim'): 0.009061995208235385,\n",
       " (140, 'domain'): 0.007331944238055013,\n",
       " (141, 'denni'): 0.15907118748807367,\n",
       " (141, 'dopey'): 0.036995282104392214,\n",
       " (141, 'stori'): 0.0007607025113380498,\n",
       " (142, 'dream'): 0.004319680455055549,\n",
       " (142, 'novella'): 0.000645482136445328,\n",
       " (142, 'school'): 0.0089101504250008,\n",
       " (143, 'andrew'): 0.008983924336307448,\n",
       " (143, 'dad'): 0.07911424934202027,\n",
       " (143, 'pickup'): 0.010157484707098085,\n",
       " (143, 'varga'): 0.011777212023843157,\n",
       " (144, 'drie'): 0.042508995704085985,\n",
       " (144, 'dwarf'): 0.017222103646033406,\n",
       " (144, 'jeroen'): 0.056678660938781315,\n",
       " (144, 'van'): 0.02222829685646741,\n",
       " (145, 'alex'): 0.11519042623718416,\n",
       " (145, 'fiction'): 0.00020564864443844416,\n",
       " (146, 'elv'): 0.1339460763940186,\n",
       " (146, 'shoemak'): 0.30428085902393553,\n",
       " (147, 'emperor'): 0.14728225251340418,\n",
       " (147, 'leo'): 0.013302161829044012,\n",
       " (147, 'question'): 0.019946871162968477,\n",
       " (147, 'three'): 0.005194285235519164,\n",
       " (147, 'tolstoy'): 0.015238327137870676,\n",
       " (148, 'cloth'): 0.029563854636658744,\n",
       " (148, 'emperor'): 0.12904730696412559,\n",
       " (148, 'new'): 0.00928142058526425,\n",
       " (149, 'empress'): 0.07056070810499362,\n",
       " (149, 'jowka'): 0.11842231075306153,\n",
       " (150, 'adventur'): 0.002830550646681432,\n",
       " (150, 'empti'): 0.0021748396233650033,\n",
       " (150, 'hou'): 0.003392434783765516,\n",
       " (151, 'bost'): 0.009614708007309004,\n",
       " (151, 'encod'): 0.007565050639139244,\n",
       " (151, 'gay'): 0.011734432440593513,\n",
       " (151, 'strand'): 0.008198629472679035,\n",
       " (152, 'encamp'): 0.11504825224292259,\n",
       " (152, 'lucillu'): 0.05843158202205836,\n",
       " (152, 'night'): 0.01132046884399006,\n",
       " (152, 'saturday'): 0.049375442818121236,\n",
       " (152, 'shindar'): 0.21686498190642184,\n",
       " (153, 'bob'): 0.0016626828894769382,\n",
       " (153, 'duplic'): 0.004851607113152587,\n",
       " (153, 'enchant'): 0.004930540112979543,\n",
       " (153, 'shaw'): 0.0022347826759115627,\n",
       " (153, 'walt'): 0.002328304890219824,\n",
       " (153, 'willi'): 0.0023490392704088522,\n",
       " (154, 'adventur'): 0.001331139380746094,\n",
       " (154, 'engin'): 0.0063697560949367935,\n",
       " (154, 'thumb'): 0.006858403291664885,\n",
       " (155, 'celt'): 0.012197719824274244,\n",
       " (155, 'english'): 0.011646370423354,\n",
       " (155, 'enya'): 0.018447945800726527,\n",
       " (155, 'moon'): 0.005812561071090186,\n",
       " (155, 'shepherd'): 0.008849182720119917,\n",
       " (155, 'translat'): 0.04887102006104626,\n",
       " (155, 'watermark'): 0.0073186318945645465,\n",
       " (156, 'avocado'): 0.08662271724205242,\n",
       " (156, 'boy'): 0.004096543819403892,\n",
       " (156, 'death'): 0.0039560324716072645,\n",
       " (156, 'snarkout'): 0.01817623639235785,\n",
       " (157, 'avocado'): 0.09572647557434545,\n",
       " (157, 'boy'): 0.003772564079732231,\n",
       " (157, 'daniel'): 0.013888378624187793,\n",
       " (157, 'death'): 0.0036431652286857763,\n",
       " (157, 'excerpt'): 0.014771733380886937,\n",
       " (157, 'manu'): 0.01673874845271619,\n",
       " (157, 'pinkwat'): 0.01673874845271619,\n",
       " (157, 'relev'): 0.013888378624187793,\n",
       " (157, 'snarkout'): 0.01673874845271619,\n",
       " (158, 'argon'): 0.007603823763081821,\n",
       " (158, 'eye'): 0.0019138957523192794,\n",
       " (158, 'jim'): 0.0009614204299811751,\n",
       " (158, 'thei'): 0.001564149297583874,\n",
       " (159, 'bost'): 0.008282591248220247,\n",
       " (159, 'ez'): 0.03418646040773694,\n",
       " (159, 'gay'): 0.010108628089527791,\n",
       " (159, 'work'): 0.0032957807891278597,\n",
       " (160, 'ben'): 0.006400106084674577,\n",
       " (160, 'blumenberg'): 0.008410634800559057,\n",
       " (160, 'fabl'): 0.01791865361115653,\n",
       " (161, 'gerald'): 0.010692651080055468,\n",
       " (161, 'gregg'): 0.01285116870520071,\n",
       " (161, 'pricilla'): 0.006425584352600355,\n",
       " (161, 'princess'): 0.06966023498302862,\n",
       " (161, 'trout'): 0.0651559623794346,\n",
       " (162, 'blab'): 0.005547412071217193,\n",
       " (162, 'fantasi'): 0.0053621835813936316,\n",
       " (162, 'novel'): 0.004656988312903387,\n",
       " (163, 'blab'): 0.0056435877312590995,\n",
       " (163, 'disk'): 0.004119853627697227,\n",
       " (163, 'edit'): 0.003596560658014193,\n",
       " (163, 'fantasi'): 0.0054551479291986525,\n",
       " (163, 'novel'): 0.004737726667842766,\n",
       " (163, 'rip'): 0.0025211303129421855,\n",
       " (163, 'slip'): 0.0018761133846337112,\n",
       " (164, 'five'): 0.0035853147696189728,\n",
       " (164, 'hoop'): 0.15027655626446462,\n",
       " (164, 'hula'): 0.20147492755582422,\n",
       " (164, 'hundr'): 0.0019850888719154594,\n",
       " (164, 'nanci'): 0.03277741366128069,\n",
       " (164, 'nine'): 0.0028180631570965697,\n",
       " (164, 'nineti'): 0.004393124364962964,\n",
       " (164, 'one'): 0.0005726592471750736,\n",
       " (164, 'thousand'): 0.00224940714256826,\n",
       " (164, 'tinker'): 0.14326902773394318,\n",
       " (164, 'toy'): 0.1567036836959719,\n",
       " (164, 'vanworm'): 0.046494214051344046,\n",
       " (165, 'aiken'): 0.014618455341331873,\n",
       " (165, 'four'): 0.003029021150026089,\n",
       " (165, 'hundr'): 0.0022504067082584275,\n",
       " (165, 'klingon'): 0.029236910682663746,\n",
       " (165, 'nine'): 0.003194712500154565,\n",
       " (165, 'nineti'): 0.0062253614189491276,\n",
       " (165, 'one'): 0.001460696050765405,\n",
       " (165, 'shawn'): 0.015337114121731905,\n",
       " (165, 'thousand'): 0.003187565677069353,\n",
       " (165, 'waterlog'): 0.02635420828675218,\n",
       " (166, 'derouen'): 0.03191728078160873,\n",
       " (166, 'four'): 0.004593460645094509,\n",
       " (166, 'hundr'): 0.0025595285088433764,\n",
       " (166, 'joe'): 0.021462215905124146,\n",
       " (166, 'nine'): 0.003633546634791181,\n",
       " (166, 'nineti'): 0.005664394785593272,\n",
       " (166, 'one'): 0.0007383738278594355,\n",
       " (166, 'result'): 0.017294036455101802,\n",
       " (166, 'survey'): 0.10117107508462957,\n",
       " (166, 'thousand'): 0.0029003344841905766,\n",
       " (167, 'fear'): 0.003395778822498246,\n",
       " (167, 'grow'): 0.004141115410820784,\n",
       " (167, 'old'): 0.011432805424885296,\n",
       " (168, 'board'): 0.02084992003566956,\n",
       " (168, 'burrough'): 0.06935843106689245,\n",
       " (168, 'eighti'): 0.01520845156569866,\n",
       " (168, 'fear'): 0.018928728404119258,\n",
       " (168, 'four'): 0.008090417781360005,\n",
       " (168, 'hundr'): 0.006762109189492662,\n",
       " (168, 'monkey'): 0.10012728574820076,\n",
       " (168, 'nine'): 0.009599595786754766,\n",
       " (168, 'one'): 0.0009753680080917382,\n",
       " (168, 'ouija'): 0.032579716175803464,\n",
       " (168, 'poem'): 0.039450656033023626,\n",
       " (168, 'thousand'): 0.007662496588877685,\n",
       " (168, 'william'): 0.03110707971141004,\n",
       " (169, 'father'): 0.01210762031684191,\n",
       " (169, 'good'): 0.0008364803467513811,\n",
       " (169, 'list'): 0.0008006380564520954,\n",
       " (169, 'stori'): 0.0006310385613516192,\n",
       " (170, 'aiken'): 0.003430861967863603,\n",
       " (170, 'beacon'): 0.015031490659395465,\n",
       " (170, 'five'): 0.0006359439651831083,\n",
       " (170, 'hundr'): 0.0005281566764279983,\n",
       " (170, 'light'): 0.0026754199543542125,\n",
       " (170, 'nine'): 0.0006248162202683248,\n",
       " (170, 'nineti'): 0.00038961445615191825,\n",
       " (170, 'one'): 0.000342816420077595,\n",
       " (170, 'shawn'): 0.0035995267836717738,\n",
       " (170, 'thousand'): 0.0005984817189599602,\n",
       " (171, 'davi'): 0.002699188560025082,\n",
       " (171, 'ed'): 0.0019173278659344376,\n",
       " (171, 'experi'): 0.00471336808359969,\n",
       " (171, 'hundr'): 0.0008111540597677765,\n",
       " (171, 'nine'): 0.0003290077052397985,\n",
       " (171, 'nineti'): 0.0007693431723716235,\n",
       " (171, 'one'): 0.0001671443242169369,\n",
       " (171, 'thousand'): 0.0007878520539144551,\n",
       " (171, 'three'): 0.0013877269509819854,\n",
       " (172, 'davi'): 0.005972152770407746,\n",
       " (172, 'ed'): 0.004242228607479693,\n",
       " (172, 'hundr'): 0.0006837096701704908,\n",
       " (172, 'nine'): 0.00048530246149608235,\n",
       " (172, 'nineti'): 0.0007565458788977316,\n",
       " (172, 'one'): 0.00022189144998173104,\n",
       " (172, 'ouija'): 0.022235178114112443,\n",
       " (172, 'thousand'): 0.00038737344138161804,\n",
       " (172, 'three'): 0.0011372028585591122,\n",
       " (172, 'warn'): 0.002924673083679302,\n",
       " (173, 'close'): 0.0021282810577549836,\n",
       " (173, 'differ'): 0.002377610021625163,\n",
       " (173, 'encount'): 0.011293080777680401,\n",
       " (173, 'hundr'): 0.0013831181372015867,\n",
       " (173, 'kind'): 0.0021917378199630536,\n",
       " (173, 'nine'): 0.0015707968824988003,\n",
       " (173, 'nineti'): 0.0012243703693325125,\n",
       " (173, 'one'): 0.0005586034778461525,\n",
       " (173, 'ramsey'): 0.011994907380640232,\n",
       " (173, 'sylvia'): 0.012958007399899529,\n",
       " (173, 'thousand'): 0.0015672828863500144,\n",
       " (173, 'three'): 0.001840413810684739,\n",
       " (174, 'davi'): 0.0031144483384904793,\n",
       " (174, 'ed'): 0.002212301383770505,\n",
       " (174, 'hundr'): 0.000935946992039742,\n",
       " (174, 'imp'): 0.04134257418970214,\n",
       " (174, 'nine'): 0.00037962427527669056,\n",
       " (174, 'nineti'): 0.0005918024402858643,\n",
       " (174, 'one'): 0.00046286120552382524,\n",
       " (174, 'thousand'): 0.0009090600622089867,\n",
       " (174, 'three'): 0.0017791371166435712,\n",
       " (175, 'chanc'): 0.004935377221216066,\n",
       " (175, 'derouen'): 0.011404996928506786,\n",
       " (175, 'joe'): 0.007669090238349336,\n",
       " (175, 'meet'): 0.0037244814343217582,\n",
       " (175, 'park'): 0.012947580829220274,\n",
       " (176, 'doug'): 0.046117406458899876,\n",
       " (176, 'fish'): 0.07897843324753648,\n",
       " (176, 'rosentrat'): 0.04982028415851782,\n",
       " (177, 'adam'): 0.025632234534009653,\n",
       " (177, 'flea'): 0.14648496315256118,\n",
       " (177, 'hundr'): 0.00419250769748545,\n",
       " (177, 'nine'): 0.00396783292519197,\n",
       " (177, 'nineti'): 0.006185519105867853,\n",
       " (177, 'one'): 0.0018141844950506328,\n",
       " (177, 'poszar'): 0.03809739147838205,\n",
       " (177, 'stori'): 0.0024920614271434515,\n",
       " ...}"
      ]
     },
     "execution_count": 50,
     "metadata": {},
     "output_type": "execute_result"
    }
   ],
   "source": [
    "tf_idf_title"
   ]
  },
  {
   "cell_type": "code",
   "execution_count": 64,
   "metadata": {},
   "outputs": [
    {
     "data": {
      "text/plain": [
       "(dict, 344378)"
      ]
     },
     "execution_count": 64,
     "metadata": {},
     "output_type": "execute_result"
    }
   ],
   "source": [
    "type(tf_idf), len(tf_idf)"
   ]
  },
  {
   "cell_type": "code",
   "execution_count": 66,
   "metadata": {},
   "outputs": [
    {
     "data": {
      "text/plain": [
       "(dict, 2450)"
      ]
     },
     "execution_count": 66,
     "metadata": {},
     "output_type": "execute_result"
    }
   ],
   "source": [
    "type(tf_idf_title), len(tf_idf_title)"
   ]
  },
  {
   "cell_type": "code",
   "execution_count": 67,
   "metadata": {},
   "outputs": [
    {
     "data": {
      "text/plain": [
       "0.0002906893990853149"
      ]
     },
     "execution_count": 67,
     "metadata": {},
     "output_type": "execute_result"
    }
   ],
   "source": [
    "tf_idf[(0,\"go\")]"
   ]
  },
  {
   "cell_type": "code",
   "execution_count": 68,
   "metadata": {},
   "outputs": [
    {
     "data": {
      "text/plain": [
       "0.0002906893990853149"
      ]
     },
     "execution_count": 68,
     "metadata": {},
     "output_type": "execute_result"
    }
   ],
   "source": [
    "tf_idf_title[(0,\"go\")]"
   ]
  },
  {
   "cell_type": "code",
   "execution_count": null,
   "metadata": {},
   "outputs": [],
   "source": []
  },
  {
   "cell_type": "markdown",
   "metadata": {},
   "source": [
    "## Merging the TF-IDF according to weights"
   ]
  },
  {
   "cell_type": "code",
   "execution_count": 69,
   "metadata": {},
   "outputs": [],
   "source": [
    "for i in tf_idf:\n",
    "    tf_idf[i] *= alpha"
   ]
  },
  {
   "cell_type": "code",
   "execution_count": 70,
   "metadata": {},
   "outputs": [],
   "source": [
    "for i in tf_idf_title:\n",
    "    tf_idf[i] = tf_idf_title[i]"
   ]
  },
  {
   "cell_type": "code",
   "execution_count": 72,
   "metadata": {},
   "outputs": [
    {
     "data": {
      "text/plain": [
       "(344378, dict)"
      ]
     },
     "execution_count": 72,
     "metadata": {},
     "output_type": "execute_result"
    }
   ],
   "source": [
    "len(tf_idf), type(tf_idf)"
   ]
  },
  {
   "cell_type": "code",
   "execution_count": null,
   "metadata": {},
   "outputs": [],
   "source": []
  },
  {
   "cell_type": "markdown",
   "metadata": {},
   "source": [
    "# TF-IDF Matching Score Ranking"
   ]
  },
  {
   "cell_type": "code",
   "execution_count": 73,
   "metadata": {},
   "outputs": [
    {
     "name": "stdout",
     "output_type": "stream",
     "text": [
      "Matching Score\n",
      "\n",
      "Query: Without the drive of Rebeccah's insistence, Kate lost her momentum. She stood next a slatted oak bench, canisters still clutched, surveying\n",
      "\n",
      "['without', 'drive', 'rebeccah', 'insist', 'kate', 'lost', 'momentum', 'stood', 'next', 'slat', 'oak', 'bench', 'canist', 'still', 'clutch', 'survey']\n",
      "\n",
      "[166, 200, 352, 433, 211, 350, 175, 187, 188, 294]\n"
     ]
    }
   ],
   "source": [
    "def matching_score(k, query):\n",
    "    preprocessed_query = preprocess(query)\n",
    "    tokens = word_tokenize(str(preprocessed_query))\n",
    "\n",
    "    print(\"Matching Score\")\n",
    "    print(\"\\nQuery:\", query)\n",
    "    print(\"\")\n",
    "    print(tokens)\n",
    "    \n",
    "    query_weights = {}\n",
    "\n",
    "    for key in tf_idf:\n",
    "        \n",
    "        if key[1] in tokens:\n",
    "            try:\n",
    "                query_weights[key[0]] += tf_idf[key]\n",
    "            except:\n",
    "                query_weights[key[0]] = tf_idf[key]\n",
    "    \n",
    "    query_weights = sorted(query_weights.items(), key=lambda x: x[1], reverse=True)\n",
    "\n",
    "    print(\"\")\n",
    "    \n",
    "    l = []\n",
    "    \n",
    "    for i in query_weights[:10]:\n",
    "        l.append(i[0])\n",
    "    \n",
    "    print(l)\n",
    "    \n",
    "\n",
    "matching_score(10, \"Without the drive of Rebeccah's insistence, Kate lost her momentum. She stood next a slatted oak bench, canisters still clutched, surveying\")"
   ]
  },
  {
   "cell_type": "code",
   "execution_count": null,
   "metadata": {},
   "outputs": [],
   "source": [
    "# print_doc(2)"
   ]
  },
  {
   "cell_type": "code",
   "execution_count": null,
   "metadata": {},
   "outputs": [],
   "source": []
  },
  {
   "cell_type": "markdown",
   "metadata": {},
   "source": [
    "# TF-IDF Cosine Similarity Ranking"
   ]
  },
  {
   "cell_type": "code",
   "execution_count": 74,
   "metadata": {},
   "outputs": [],
   "source": [
    "def cosine_sim(a, b):\n",
    "    cos_sim = np.dot(a, b)/(np.linalg.norm(a)*np.linalg.norm(b))\n",
    "    return cos_sim"
   ]
  },
  {
   "cell_type": "markdown",
   "metadata": {},
   "source": [
    "### Vectorising tf-idf"
   ]
  },
  {
   "cell_type": "code",
   "execution_count": 75,
   "metadata": {},
   "outputs": [],
   "source": [
    "D = np.zeros((N, total_vocab_size))\n",
    "for i in tf_idf:\n",
    "    try:\n",
    "        ind = total_vocab.index(i[1])\n",
    "        D[i[0]][ind] = tf_idf[i]\n",
    "    except:\n",
    "        pass"
   ]
  },
  {
   "cell_type": "code",
   "execution_count": 76,
   "metadata": {},
   "outputs": [],
   "source": [
    "def gen_vector(tokens):\n",
    "\n",
    "    Q = np.zeros((len(total_vocab)))\n",
    "    \n",
    "    counter = Counter(tokens)\n",
    "    words_count = len(tokens)\n",
    "\n",
    "    query_weights = {}\n",
    "    \n",
    "    for token in np.unique(tokens):\n",
    "        \n",
    "        tf = counter[token]/words_count\n",
    "        df = doc_freq(token)\n",
    "        idf = math.log((N+1)/(df+1))\n",
    "\n",
    "        try:\n",
    "            ind = total_vocab.index(token)\n",
    "            Q[ind] = tf*idf\n",
    "        except:\n",
    "            pass\n",
    "    return Q"
   ]
  },
  {
   "cell_type": "code",
   "execution_count": 77,
   "metadata": {},
   "outputs": [
    {
     "name": "stdout",
     "output_type": "stream",
     "text": [
      "Cosine Similarity\n",
      "\n",
      "Query: Without the drive of Rebeccah's insistence, Kate lost her momentum. She stood next a slatted oak bench, canisters still clutched, surveying\n",
      "\n",
      "['without', 'drive', 'rebeccah', 'insist', 'kate', 'lost', 'momentum', 'stood', 'next', 'slat', 'oak', 'bench', 'canist', 'still', 'clutch', 'survey']\n",
      "\n",
      "[200 166 433 402 175 169 369  87 151 183]\n"
     ]
    }
   ],
   "source": [
    "def cosine_similarity(k, query):\n",
    "    print(\"Cosine Similarity\")\n",
    "    preprocessed_query = preprocess(query)\n",
    "    tokens = word_tokenize(str(preprocessed_query))\n",
    "    \n",
    "    print(\"\\nQuery:\", query)\n",
    "    print(\"\")\n",
    "    print(tokens)\n",
    "    \n",
    "    d_cosines = []\n",
    "    \n",
    "    query_vector = gen_vector(tokens)\n",
    "    \n",
    "    for d in D:\n",
    "        d_cosines.append(cosine_sim(query_vector, d))\n",
    "        \n",
    "    out = np.array(d_cosines).argsort()[-k:][::-1]\n",
    "    \n",
    "    print(\"\")\n",
    "    \n",
    "    print(out)\n",
    "\n",
    "#     for i in out:\n",
    "#         print(i, dataset[i][0])\n",
    "\n",
    "Q = cosine_similarity(10, \"Without the drive of Rebeccah's insistence, Kate lost her momentum. She stood next a slatted oak bench, canisters still clutched, surveying\")"
   ]
  },
  {
   "cell_type": "code",
   "execution_count": null,
   "metadata": {},
   "outputs": [],
   "source": []
  },
  {
   "cell_type": "code",
   "execution_count": null,
   "metadata": {},
   "outputs": [],
   "source": []
  },
  {
   "cell_type": "code",
   "execution_count": null,
   "metadata": {},
   "outputs": [],
   "source": []
  },
  {
   "cell_type": "code",
   "execution_count": null,
   "metadata": {
    "scrolled": false
   },
   "outputs": [],
   "source": [
    "print_doc(200)"
   ]
  },
  {
   "cell_type": "code",
   "execution_count": null,
   "metadata": {},
   "outputs": [],
   "source": []
  },
  {
   "cell_type": "code",
   "execution_count": null,
   "metadata": {},
   "outputs": [],
   "source": []
  }
 ],
 "metadata": {
  "kernelspec": {
   "display_name": "Python 3",
   "language": "python",
   "name": "python3"
  },
  "language_info": {
   "codemirror_mode": {
    "name": "ipython",
    "version": 3
   },
   "file_extension": ".py",
   "mimetype": "text/x-python",
   "name": "python",
   "nbconvert_exporter": "python",
   "pygments_lexer": "ipython3",
   "version": "3.8.3"
  }
 },
 "nbformat": 4,
 "nbformat_minor": 2
}
