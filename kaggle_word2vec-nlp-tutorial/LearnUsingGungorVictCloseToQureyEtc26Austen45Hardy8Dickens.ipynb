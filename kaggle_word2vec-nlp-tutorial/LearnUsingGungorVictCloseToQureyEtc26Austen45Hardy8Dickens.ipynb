{
 "cells": [
  {
   "cell_type": "code",
   "execution_count": 1,
   "metadata": {},
   "outputs": [],
   "source": [
    "import pandas as pd\n",
    "\n",
    "pathToGungorVict = '..//..//DS7004//u1720146_DS7004_courseworkCodeAndData//preparationWorks//fromDS7003_Gungor2018VictorianAuthorAttribution_NGram//Gungor_2018_VictorianAuthorAttribution_data-train.csv'\n",
    "gungorVictRow = pd.read_csv(pathToGungorVict, encoding = 'ISO-8859-1')\n",
    "#26 Jane Austen 4441 rows/ 45 Thomas Hardy 2312 rows/ 8 Charles Dickens 6914 rows"
   ]
  },
  {
   "cell_type": "code",
   "execution_count": 2,
   "metadata": {},
   "outputs": [],
   "source": [
    " jausten = gungorVictRow.loc[gungorVictRow['author'] == 26]"
   ]
  },
  {
   "cell_type": "code",
   "execution_count": 3,
   "metadata": {},
   "outputs": [
    {
     "data": {
      "text/plain": [
       "((4441, 2), pandas.core.frame.DataFrame)"
      ]
     },
     "execution_count": 3,
     "metadata": {},
     "output_type": "execute_result"
    }
   ],
   "source": [
    "jausten.shape, type(jausten)"
   ]
  },
  {
   "cell_type": "code",
   "execution_count": 4,
   "metadata": {},
   "outputs": [],
   "source": [
    "thardy = gungorVictRow.loc[gungorVictRow['author'] == 45]"
   ]
  },
  {
   "cell_type": "code",
   "execution_count": 5,
   "metadata": {},
   "outputs": [
    {
     "data": {
      "text/plain": [
       "((2312, 2), pandas.core.frame.DataFrame)"
      ]
     },
     "execution_count": 5,
     "metadata": {},
     "output_type": "execute_result"
    }
   ],
   "source": [
    "thardy.shape, type(jausten)"
   ]
  },
  {
   "cell_type": "code",
   "execution_count": 6,
   "metadata": {},
   "outputs": [],
   "source": [
    "cdickens = gungorVictRow.loc[gungorVictRow['author'] == 8] #SCharles Dickens"
   ]
  },
  {
   "cell_type": "code",
   "execution_count": 7,
   "metadata": {},
   "outputs": [
    {
     "data": {
      "text/plain": [
       "((6914, 2), pandas.core.frame.DataFrame)"
      ]
     },
     "execution_count": 7,
     "metadata": {},
     "output_type": "execute_result"
    }
   ],
   "source": [
    "cdickens.shape, type(cdickens)"
   ]
  },
  {
   "cell_type": "code",
   "execution_count": 8,
   "metadata": {},
   "outputs": [],
   "source": [
    "# Import various modules for string cleaning\n",
    "from bs4 import BeautifulSoup\n",
    "import re\n",
    "from nltk.corpus import stopwords\n",
    "\n",
    "def review_to_wordlist( review, remove_stopwords=False ):\n",
    "    # Function to convert a document to a sequence of words,\n",
    "    # optionally removing stop words.  Returns a list of words.\n",
    "    #\n",
    "    # 1. Remove HTML\n",
    "    review_text = BeautifulSoup(review).get_text()\n",
    "    #  \n",
    "    # 2. Remove non-letters\n",
    "    review_text = re.sub(\"[^a-zA-Z]\",\" \", review_text)\n",
    "    #\n",
    "    # 3. Convert words to lower case and split them\n",
    "    words = review_text.lower().split()\n",
    "    #\n",
    "    # 4. Optionally remove stop words (false by default)\n",
    "    if remove_stopwords:\n",
    "        stops = set(stopwords.words(\"english\"))\n",
    "        words = [w for w in words if not w in stops]\n",
    "    #\n",
    "    # 5. Return a list of words\n",
    "    return(words)"
   ]
  },
  {
   "cell_type": "code",
   "execution_count": 9,
   "metadata": {},
   "outputs": [],
   "source": [
    "# Download the punkt tokenizer for sentence splitting\n",
    "import nltk.data\n",
    "#nltk.download() no need to use this line after using it once(?)   \n",
    "\n",
    "# Load the punkt tokenizer\n",
    "tokenizer = nltk.data.load('tokenizers/punkt/english.pickle')"
   ]
  },
  {
   "cell_type": "code",
   "execution_count": 10,
   "metadata": {},
   "outputs": [],
   "source": [
    "# Define a function to split a review into parsed sentences\n",
    "def review_to_sentences( review, tokenizer, remove_stopwords=False ):\n",
    "    # Function to split a review into parsed sentences. Returns a \n",
    "    # list of sentences, where each sentence is a list of words\n",
    "    #\n",
    "    # 1. Use the NLTK tokenizer to split the paragraph into sentences\n",
    "    raw_sentences = tokenizer.tokenize(review.strip())\n",
    "    #\n",
    "    # 2. Loop over each sentence\n",
    "    sentences = []\n",
    "    for raw_sentence in raw_sentences:\n",
    "        # If a sentence is empty, skip it\n",
    "        if len(raw_sentence) > 0:\n",
    "            # Otherwise, call review_to_wordlist to get a list of words\n",
    "            sentences.append( review_to_wordlist( raw_sentence, \\\n",
    "              remove_stopwords ))\n",
    "    #\n",
    "    # Return the list of sentences (each sentence is a list of words,\n",
    "    # so this returns a list of lists\n",
    "    return sentences"
   ]
  },
  {
   "cell_type": "code",
   "execution_count": 11,
   "metadata": {},
   "outputs": [],
   "source": [
    "def parsing_sentence_set(text_df):\n",
    "    sentences = []  # Initialize an empty list of sentences\n",
    "\n",
    "    print(\"Parsing sentences from training set\")\n",
    "    for review in text_df[\"text\"]:\n",
    "        sentences += review_to_sentences(review, tokenizer)\n",
    "    return sentences"
   ]
  },
  {
   "cell_type": "code",
   "execution_count": 12,
   "metadata": {},
   "outputs": [
    {
     "name": "stdout",
     "output_type": "stream",
     "text": [
      "Parsing sentences from training set\n"
     ]
    }
   ],
   "source": [
    "jausten_sentences = parsing_sentence_set(jausten)"
   ]
  },
  {
   "cell_type": "code",
   "execution_count": 18,
   "metadata": {},
   "outputs": [
    {
     "name": "stdout",
     "output_type": "stream",
     "text": [
      "Parsing sentences from training set\n"
     ]
    }
   ],
   "source": [
    "thardy_sentences = parsing_sentence_set(thardy)"
   ]
  },
  {
   "cell_type": "code",
   "execution_count": 19,
   "metadata": {},
   "outputs": [
    {
     "name": "stdout",
     "output_type": "stream",
     "text": [
      "Parsing sentences from training set\n"
     ]
    }
   ],
   "source": [
    "cdickens_sentences = parsing_sentence_set(cdickens)"
   ]
  },
  {
   "cell_type": "code",
   "execution_count": 20,
   "metadata": {},
   "outputs": [
    {
     "name": "stdout",
     "output_type": "stream",
     "text": [
      "4441\n"
     ]
    }
   ],
   "source": [
    "# Check how many paragraphs of jane austen's writing we have in total\n",
    "print(len(jausten_sentences))"
   ]
  },
  {
   "cell_type": "code",
   "execution_count": 16,
   "metadata": {},
   "outputs": [
    {
     "name": "stdout",
     "output_type": "stream",
     "text": [
      "2312\n"
     ]
    }
   ],
   "source": [
    "# Check how many paragraphs of thomas hardy's writing we have in total\n",
    "print(len(thardy_sentences))"
   ]
  },
  {
   "cell_type": "code",
   "execution_count": 21,
   "metadata": {},
   "outputs": [
    {
     "name": "stdout",
     "output_type": "stream",
     "text": [
      "6914\n"
     ]
    }
   ],
   "source": [
    "# Check how many paragraphs of charles dickens's writing we have in total\n",
    "print(len(cdickens_sentences))"
   ]
  },
  {
   "cell_type": "code",
   "execution_count": 22,
   "metadata": {},
   "outputs": [],
   "source": [
    "# Import the built-in logging module and configure it so that Word2Vec \n",
    "# creates nice output messages\n",
    "import logging\n",
    "logging.basicConfig(format='%(asctime)s : %(levelname)s : %(message)s',\\\n",
    "    level=logging.INFO)\n",
    "\n",
    "# Set values for various parameters\n",
    "#num_features = 300    # Word vector dimensionality                      \n",
    "#min_word_count = 40   # Minimum word count                        \n",
    "#num_workers = 4       # Number of threads to run in parallel\n",
    "#context = 10          # Context window size                                                                                    \n",
    "#downsampling = 1e-3   # Downsample setting for frequent words\n",
    "\n",
    "num_features = 300    # Word vector dimensionality                      \n",
    "min_word_count = 5    # Minimum word count                        \n",
    "num_workers = 4       # Number of threads to run in parallel\n",
    "context = 10          # Context window size                                                                                    \n",
    "downsampling = 1e-3   # Downsample setting for frequent words\n",
    "epochs=15             #number of epochs\n",
    "\n",
    "# Initialize and train the model (this will take some time)\n",
    "from gensim.models import word2vec\n",
    "def form_model_from_sentences(sentences):\n",
    "    print(\"Training model...\")\n",
    "    model = word2vec.Word2Vec(sentences, workers=num_workers, \\\n",
    "                size=num_features, min_count = min_word_count, \\\n",
    "                window = context, sample = downsampling, iter = epochs)\n",
    "\n",
    "    # If you don't plan to train the model any further, calling \n",
    "    # init_sims will make the model much more memory-efficient.\n",
    "    model.init_sims(replace=True)\n",
    "    return model"
   ]
  },
  {
   "cell_type": "code",
   "execution_count": 23,
   "metadata": {
    "scrolled": true
   },
   "outputs": [
    {
     "name": "stderr",
     "output_type": "stream",
     "text": [
      "2020-08-21 22:30:52,057 : INFO : collecting all words and their counts\n",
      "2020-08-21 22:30:52,058 : INFO : PROGRESS: at sentence #0, processed 0 words, keeping 0 word types\n"
     ]
    },
    {
     "name": "stdout",
     "output_type": "stream",
     "text": [
      "Training model...\n"
     ]
    },
    {
     "name": "stderr",
     "output_type": "stream",
     "text": [
      "2020-08-21 22:30:52,707 : INFO : collected 8998 word types from a corpus of 4409095 raw words and 4441 sentences\n",
      "2020-08-21 22:30:52,708 : INFO : Loading a fresh vocabulary\n",
      "2020-08-21 22:30:52,721 : INFO : effective_min_count=5 retains 8199 unique words (91% of original 8998, drops 799)\n",
      "2020-08-21 22:30:52,721 : INFO : effective_min_count=5 leaves 4407100 word corpus (99% of original 4409095, drops 1995)\n",
      "2020-08-21 22:30:52,742 : INFO : deleting the raw counts dictionary of 8998 items\n",
      "2020-08-21 22:30:52,743 : INFO : sample=0.001 downsamples 62 most-common words\n",
      "2020-08-21 22:30:52,744 : INFO : downsampling leaves estimated 3098040 word corpus (70.3% of prior 4407100)\n",
      "2020-08-21 22:30:52,764 : INFO : estimated required memory for 8199 words and 300 dimensions: 23777100 bytes\n",
      "2020-08-21 22:30:52,764 : INFO : resetting layer weights\n",
      "2020-08-21 22:30:54,101 : INFO : training model with 4 workers on 8199 vocabulary and 300 features, using sg=0 hs=0 sample=0.001 negative=5 window=10\n",
      "2020-08-21 22:30:55,115 : INFO : EPOCH 1 - PROGRESS: at 39.86% examples, 1218987 words/s, in_qsize 7, out_qsize 0\n",
      "2020-08-21 22:30:56,120 : INFO : EPOCH 1 - PROGRESS: at 79.71% examples, 1225286 words/s, in_qsize 7, out_qsize 0\n",
      "2020-08-21 22:30:56,591 : INFO : worker thread finished; awaiting finish of 3 more threads\n",
      "2020-08-21 22:30:56,595 : INFO : worker thread finished; awaiting finish of 2 more threads\n",
      "2020-08-21 22:30:56,598 : INFO : worker thread finished; awaiting finish of 1 more threads\n",
      "2020-08-21 22:30:56,601 : INFO : worker thread finished; awaiting finish of 0 more threads\n",
      "2020-08-21 22:30:56,602 : INFO : EPOCH - 1 : training on 4409095 raw words (3098336 effective words) took 2.5s, 1240684 effective words/s\n",
      "2020-08-21 22:30:57,610 : INFO : EPOCH 2 - PROGRESS: at 40.08% examples, 1230952 words/s, in_qsize 7, out_qsize 0\n",
      "2020-08-21 22:30:58,614 : INFO : EPOCH 2 - PROGRESS: at 80.39% examples, 1238676 words/s, in_qsize 7, out_qsize 0\n",
      "2020-08-21 22:30:59,105 : INFO : worker thread finished; awaiting finish of 3 more threads\n",
      "2020-08-21 22:30:59,106 : INFO : worker thread finished; awaiting finish of 2 more threads\n",
      "2020-08-21 22:30:59,119 : INFO : worker thread finished; awaiting finish of 1 more threads\n",
      "2020-08-21 22:30:59,120 : INFO : worker thread finished; awaiting finish of 0 more threads\n",
      "2020-08-21 22:30:59,121 : INFO : EPOCH - 2 : training on 4409095 raw words (3098572 effective words) took 2.5s, 1231337 effective words/s\n",
      "2020-08-21 22:31:00,129 : INFO : EPOCH 3 - PROGRESS: at 38.96% examples, 1195315 words/s, in_qsize 7, out_qsize 0\n",
      "2020-08-21 22:31:01,132 : INFO : EPOCH 3 - PROGRESS: at 79.71% examples, 1227629 words/s, in_qsize 8, out_qsize 0\n",
      "2020-08-21 22:31:01,650 : INFO : worker thread finished; awaiting finish of 3 more threads\n",
      "2020-08-21 22:31:01,654 : INFO : worker thread finished; awaiting finish of 2 more threads\n",
      "2020-08-21 22:31:01,659 : INFO : worker thread finished; awaiting finish of 1 more threads\n",
      "2020-08-21 22:31:01,660 : INFO : worker thread finished; awaiting finish of 0 more threads\n",
      "2020-08-21 22:31:01,661 : INFO : EPOCH - 3 : training on 4409095 raw words (3097276 effective words) took 2.5s, 1220489 effective words/s\n",
      "2020-08-21 22:31:02,673 : INFO : EPOCH 4 - PROGRESS: at 40.31% examples, 1231671 words/s, in_qsize 7, out_qsize 0\n",
      "2020-08-21 22:31:03,674 : INFO : EPOCH 4 - PROGRESS: at 79.49% examples, 1223757 words/s, in_qsize 7, out_qsize 0\n",
      "2020-08-21 22:31:04,162 : INFO : worker thread finished; awaiting finish of 3 more threads\n",
      "2020-08-21 22:31:04,170 : INFO : worker thread finished; awaiting finish of 2 more threads\n",
      "2020-08-21 22:31:04,179 : INFO : worker thread finished; awaiting finish of 1 more threads\n",
      "2020-08-21 22:31:04,181 : INFO : worker thread finished; awaiting finish of 0 more threads\n",
      "2020-08-21 22:31:04,182 : INFO : EPOCH - 4 : training on 4409095 raw words (3097661 effective words) took 2.5s, 1229454 effective words/s\n",
      "2020-08-21 22:31:05,193 : INFO : EPOCH 5 - PROGRESS: at 40.08% examples, 1227409 words/s, in_qsize 7, out_qsize 0\n",
      "2020-08-21 22:31:06,194 : INFO : EPOCH 5 - PROGRESS: at 79.26% examples, 1220860 words/s, in_qsize 7, out_qsize 0\n",
      "2020-08-21 22:31:06,725 : INFO : worker thread finished; awaiting finish of 3 more threads\n",
      "2020-08-21 22:31:06,761 : INFO : worker thread finished; awaiting finish of 2 more threads\n",
      "2020-08-21 22:31:06,763 : INFO : worker thread finished; awaiting finish of 1 more threads\n",
      "2020-08-21 22:31:06,771 : INFO : worker thread finished; awaiting finish of 0 more threads\n",
      "2020-08-21 22:31:06,772 : INFO : EPOCH - 5 : training on 4409095 raw words (3097510 effective words) took 2.6s, 1196911 effective words/s\n",
      "2020-08-21 22:31:07,792 : INFO : EPOCH 6 - PROGRESS: at 36.70% examples, 1122829 words/s, in_qsize 7, out_qsize 0\n",
      "2020-08-21 22:31:08,804 : INFO : EPOCH 6 - PROGRESS: at 74.76% examples, 1144304 words/s, in_qsize 7, out_qsize 0\n",
      "2020-08-21 22:31:09,431 : INFO : worker thread finished; awaiting finish of 3 more threads\n",
      "2020-08-21 22:31:09,441 : INFO : worker thread finished; awaiting finish of 2 more threads\n",
      "2020-08-21 22:31:09,442 : INFO : worker thread finished; awaiting finish of 1 more threads\n",
      "2020-08-21 22:31:09,447 : INFO : worker thread finished; awaiting finish of 0 more threads\n",
      "2020-08-21 22:31:09,448 : INFO : EPOCH - 6 : training on 4409095 raw words (3097781 effective words) took 2.7s, 1161655 effective words/s\n",
      "2020-08-21 22:31:10,454 : INFO : EPOCH 7 - PROGRESS: at 37.83% examples, 1163499 words/s, in_qsize 7, out_qsize 0\n",
      "2020-08-21 22:31:11,457 : INFO : EPOCH 7 - PROGRESS: at 76.11% examples, 1174225 words/s, in_qsize 7, out_qsize 0\n",
      "2020-08-21 22:31:12,086 : INFO : worker thread finished; awaiting finish of 3 more threads\n",
      "2020-08-21 22:31:12,099 : INFO : worker thread finished; awaiting finish of 2 more threads\n",
      "2020-08-21 22:31:12,102 : INFO : worker thread finished; awaiting finish of 1 more threads\n",
      "2020-08-21 22:31:12,106 : INFO : worker thread finished; awaiting finish of 0 more threads\n",
      "2020-08-21 22:31:12,107 : INFO : EPOCH - 7 : training on 4409095 raw words (3097501 effective words) took 2.7s, 1165753 effective words/s\n",
      "2020-08-21 22:31:13,109 : INFO : EPOCH 8 - PROGRESS: at 36.48% examples, 1126080 words/s, in_qsize 7, out_qsize 0\n",
      "2020-08-21 22:31:14,113 : INFO : EPOCH 8 - PROGRESS: at 71.38% examples, 1102833 words/s, in_qsize 7, out_qsize 0\n",
      "2020-08-21 22:31:14,898 : INFO : worker thread finished; awaiting finish of 3 more threads\n",
      "2020-08-21 22:31:14,911 : INFO : worker thread finished; awaiting finish of 2 more threads\n",
      "2020-08-21 22:31:14,915 : INFO : worker thread finished; awaiting finish of 1 more threads\n",
      "2020-08-21 22:31:14,918 : INFO : worker thread finished; awaiting finish of 0 more threads\n",
      "2020-08-21 22:31:14,918 : INFO : EPOCH - 8 : training on 4409095 raw words (3098747 effective words) took 2.8s, 1103370 effective words/s\n",
      "2020-08-21 22:31:15,923 : INFO : EPOCH 9 - PROGRESS: at 35.35% examples, 1088935 words/s, in_qsize 7, out_qsize 0\n",
      "2020-08-21 22:31:16,923 : INFO : EPOCH 9 - PROGRESS: at 70.93% examples, 1095765 words/s, in_qsize 7, out_qsize 0\n",
      "2020-08-21 22:31:17,724 : INFO : worker thread finished; awaiting finish of 3 more threads\n",
      "2020-08-21 22:31:17,738 : INFO : worker thread finished; awaiting finish of 2 more threads\n",
      "2020-08-21 22:31:17,739 : INFO : worker thread finished; awaiting finish of 1 more threads\n",
      "2020-08-21 22:31:17,741 : INFO : worker thread finished; awaiting finish of 0 more threads\n",
      "2020-08-21 22:31:17,742 : INFO : EPOCH - 9 : training on 4409095 raw words (3097299 effective words) took 2.8s, 1097587 effective words/s\n",
      "2020-08-21 22:31:18,756 : INFO : EPOCH 10 - PROGRESS: at 34.90% examples, 1066320 words/s, in_qsize 7, out_qsize 0\n",
      "2020-08-21 22:31:19,765 : INFO : EPOCH 10 - PROGRESS: at 70.48% examples, 1080258 words/s, in_qsize 7, out_qsize 0\n",
      "2020-08-21 22:31:20,572 : INFO : worker thread finished; awaiting finish of 3 more threads\n",
      "2020-08-21 22:31:20,578 : INFO : worker thread finished; awaiting finish of 2 more threads\n",
      "2020-08-21 22:31:20,580 : INFO : worker thread finished; awaiting finish of 1 more threads\n",
      "2020-08-21 22:31:20,587 : INFO : worker thread finished; awaiting finish of 0 more threads\n",
      "2020-08-21 22:31:20,589 : INFO : EPOCH - 10 : training on 4409095 raw words (3097247 effective words) took 2.8s, 1088682 effective words/s\n"
     ]
    },
    {
     "name": "stderr",
     "output_type": "stream",
     "text": [
      "2020-08-21 22:31:21,606 : INFO : EPOCH 11 - PROGRESS: at 33.33% examples, 1017761 words/s, in_qsize 7, out_qsize 0\n",
      "2020-08-21 22:31:22,612 : INFO : EPOCH 11 - PROGRESS: at 67.55% examples, 1035610 words/s, in_qsize 7, out_qsize 0\n",
      "2020-08-21 22:31:23,546 : INFO : worker thread finished; awaiting finish of 3 more threads\n",
      "2020-08-21 22:31:23,549 : INFO : worker thread finished; awaiting finish of 2 more threads\n",
      "2020-08-21 22:31:23,553 : INFO : worker thread finished; awaiting finish of 1 more threads\n",
      "2020-08-21 22:31:23,562 : INFO : worker thread finished; awaiting finish of 0 more threads\n",
      "2020-08-21 22:31:23,563 : INFO : EPOCH - 11 : training on 4409095 raw words (3097330 effective words) took 3.0s, 1042660 effective words/s\n",
      "2020-08-21 22:31:24,569 : INFO : EPOCH 12 - PROGRESS: at 33.55% examples, 1033318 words/s, in_qsize 7, out_qsize 0\n",
      "2020-08-21 22:31:25,573 : INFO : EPOCH 12 - PROGRESS: at 68.68% examples, 1059086 words/s, in_qsize 7, out_qsize 0\n",
      "2020-08-21 22:31:26,461 : INFO : worker thread finished; awaiting finish of 3 more threads\n",
      "2020-08-21 22:31:26,468 : INFO : worker thread finished; awaiting finish of 2 more threads\n",
      "2020-08-21 22:31:26,473 : INFO : worker thread finished; awaiting finish of 1 more threads\n",
      "2020-08-21 22:31:26,474 : INFO : worker thread finished; awaiting finish of 0 more threads\n",
      "2020-08-21 22:31:26,475 : INFO : EPOCH - 12 : training on 4409095 raw words (3097640 effective words) took 2.9s, 1065056 effective words/s\n",
      "2020-08-21 22:31:27,479 : INFO : EPOCH 13 - PROGRESS: at 33.10% examples, 1021303 words/s, in_qsize 7, out_qsize 0\n",
      "2020-08-21 22:31:28,485 : INFO : EPOCH 13 - PROGRESS: at 67.33% examples, 1037536 words/s, in_qsize 7, out_qsize 0\n",
      "2020-08-21 22:31:29,407 : INFO : worker thread finished; awaiting finish of 3 more threads\n",
      "2020-08-21 22:31:29,426 : INFO : worker thread finished; awaiting finish of 2 more threads\n",
      "2020-08-21 22:31:29,428 : INFO : worker thread finished; awaiting finish of 1 more threads\n",
      "2020-08-21 22:31:29,432 : INFO : worker thread finished; awaiting finish of 0 more threads\n",
      "2020-08-21 22:31:29,433 : INFO : EPOCH - 13 : training on 4409095 raw words (3097993 effective words) took 3.0s, 1047994 effective words/s\n",
      "2020-08-21 22:31:30,446 : INFO : EPOCH 14 - PROGRESS: at 35.13% examples, 1073647 words/s, in_qsize 7, out_qsize 0\n",
      "2020-08-21 22:31:31,446 : INFO : EPOCH 14 - PROGRESS: at 69.58% examples, 1070645 words/s, in_qsize 7, out_qsize 0\n",
      "2020-08-21 22:31:32,328 : INFO : worker thread finished; awaiting finish of 3 more threads\n",
      "2020-08-21 22:31:32,329 : INFO : worker thread finished; awaiting finish of 2 more threads\n",
      "2020-08-21 22:31:32,333 : INFO : worker thread finished; awaiting finish of 1 more threads\n",
      "2020-08-21 22:31:32,338 : INFO : worker thread finished; awaiting finish of 0 more threads\n",
      "2020-08-21 22:31:32,339 : INFO : EPOCH - 14 : training on 4409095 raw words (3097423 effective words) took 2.9s, 1066610 effective words/s\n",
      "2020-08-21 22:31:33,343 : INFO : EPOCH 15 - PROGRESS: at 33.78% examples, 1042011 words/s, in_qsize 7, out_qsize 0\n",
      "2020-08-21 22:31:34,349 : INFO : EPOCH 15 - PROGRESS: at 68.23% examples, 1052420 words/s, in_qsize 7, out_qsize 0\n",
      "2020-08-21 22:31:35,332 : INFO : worker thread finished; awaiting finish of 3 more threads\n",
      "2020-08-21 22:31:35,334 : INFO : worker thread finished; awaiting finish of 2 more threads\n",
      "2020-08-21 22:31:35,342 : INFO : worker thread finished; awaiting finish of 1 more threads\n",
      "2020-08-21 22:31:35,343 : INFO : worker thread finished; awaiting finish of 0 more threads\n",
      "2020-08-21 22:31:35,343 : INFO : EPOCH - 15 : training on 4409095 raw words (3098082 effective words) took 3.0s, 1032068 effective words/s\n",
      "2020-08-21 22:31:35,344 : INFO : training on a 66136425 raw words (46466398 effective words) took 41.2s, 1126689 effective words/s\n",
      "2020-08-21 22:31:35,345 : INFO : precomputing L2-norms of word weight vectors\n"
     ]
    }
   ],
   "source": [
    "jausten_model = form_model_from_sentences(jausten_sentences)"
   ]
  },
  {
   "cell_type": "code",
   "execution_count": 24,
   "metadata": {},
   "outputs": [
    {
     "name": "stderr",
     "output_type": "stream",
     "text": [
      "<ipython-input-24-d24306086988>:1: DeprecationWarning: Call to deprecated `doesnt_match` (Method will be removed in 4.0.0, use self.wv.doesnt_match() instead).\n",
      "  jausten_model.doesnt_match(\"man woman child kitchen\".split())\n",
      "C:\\Users\\Eric\\anaconda3\\lib\\site-packages\\gensim\\models\\keyedvectors.py:877: FutureWarning: arrays to stack must be passed as a \"sequence\" type such as list or tuple. Support for non-sequence iterables such as generators is deprecated as of NumPy 1.16 and will raise an error in the future.\n",
      "  vectors = vstack(self.word_vec(word, use_norm=True) for word in used_words).astype(REAL)\n"
     ]
    },
    {
     "data": {
      "text/plain": [
       "'kitchen'"
      ]
     },
     "execution_count": 24,
     "metadata": {},
     "output_type": "execute_result"
    }
   ],
   "source": [
    "jausten_model.doesnt_match(\"man woman child kitchen\".split())"
   ]
  },
  {
   "cell_type": "code",
   "execution_count": 25,
   "metadata": {},
   "outputs": [
    {
     "name": "stderr",
     "output_type": "stream",
     "text": [
      "<ipython-input-25-a3bec1ffe496>:1: DeprecationWarning: Call to deprecated `doesnt_match` (Method will be removed in 4.0.0, use self.wv.doesnt_match() instead).\n",
      "  jausten_model.doesnt_match(\"paris bath london kitchen\".split())\n"
     ]
    },
    {
     "data": {
      "text/plain": [
       "'paris'"
      ]
     },
     "execution_count": 25,
     "metadata": {},
     "output_type": "execute_result"
    }
   ],
   "source": [
    "jausten_model.doesnt_match(\"paris bath london kitchen\".split())"
   ]
  },
  {
   "cell_type": "code",
   "execution_count": 26,
   "metadata": {},
   "outputs": [
    {
     "name": "stderr",
     "output_type": "stream",
     "text": [
      "<ipython-input-26-f51a07e79a64>:1: DeprecationWarning: Call to deprecated `most_similar` (Method will be removed in 4.0.0, use self.wv.most_similar() instead).\n",
      "  jausten_model.most_similar(positive=['king', 'woman'], negative=['man'])\n"
     ]
    },
    {
     "data": {
      "text/plain": [
       "[('bids', 0.27594566345214844),\n",
       " ('marble', 0.2721642553806305),\n",
       " ('flown', 0.27040964365005493),\n",
       " ('bathed', 0.26802968978881836),\n",
       " ('shakespeare', 0.26359665393829346),\n",
       " ('queen', 0.2634279131889343),\n",
       " ('published', 0.2630871832370758),\n",
       " ('vo', 0.2612764835357666),\n",
       " ('lofty', 0.2598876953125),\n",
       " ('songs', 0.25884634256362915)]"
      ]
     },
     "execution_count": 26,
     "metadata": {},
     "output_type": "execute_result"
    }
   ],
   "source": [
    "jausten_model.most_similar(positive=['king', 'woman'], negative=['man'])"
   ]
  },
  {
   "cell_type": "code",
   "execution_count": 27,
   "metadata": {},
   "outputs": [
    {
     "name": "stderr",
     "output_type": "stream",
     "text": [
      "<ipython-input-27-8cbd6bff1b7d>:1: DeprecationWarning: Call to deprecated `most_similar` (Method will be removed in 4.0.0, use self.wv.most_similar() instead).\n",
      "  jausten_model.most_similar(\"man\")\n"
     ]
    },
    {
     "data": {
      "text/plain": [
       "[('woman', 0.5145279169082642),\n",
       " ('fellow', 0.44151949882507324),\n",
       " ('associated', 0.3969119191169739),\n",
       " ('person', 0.3726927638053894),\n",
       " ('people', 0.36004072427749634),\n",
       " ('men', 0.351967453956604),\n",
       " ('scholar', 0.3365447521209717),\n",
       " ('girl', 0.3285280168056488),\n",
       " ('blunt', 0.3281540870666504),\n",
       " ('proprietor', 0.32804304361343384)]"
      ]
     },
     "execution_count": 27,
     "metadata": {},
     "output_type": "execute_result"
    }
   ],
   "source": [
    "jausten_model.most_similar(\"man\")"
   ]
  },
  {
   "cell_type": "code",
   "execution_count": 28,
   "metadata": {},
   "outputs": [
    {
     "name": "stderr",
     "output_type": "stream",
     "text": [
      "<ipython-input-28-4efcc6cfe590>:1: DeprecationWarning: Call to deprecated `most_similar` (Method will be removed in 4.0.0, use self.wv.most_similar() instead).\n",
      "  jausten_model.most_similar(\"woman\")\n"
     ]
    },
    {
     "data": {
      "text/plain": [
       "[('man', 0.5145279169082642),\n",
       " ('girl', 0.4219675064086914),\n",
       " ('women', 0.38523733615875244),\n",
       " ('person', 0.35929715633392334),\n",
       " ('inexperienced', 0.3492203950881958),\n",
       " ('associated', 0.32224810123443604),\n",
       " ('creature', 0.3205755949020386),\n",
       " ('amiable', 0.3195722699165344),\n",
       " ('figure', 0.312466025352478),\n",
       " ('heroine', 0.2851046323776245)]"
      ]
     },
     "execution_count": 28,
     "metadata": {},
     "output_type": "execute_result"
    }
   ],
   "source": [
    "jausten_model.most_similar(\"woman\")"
   ]
  },
  {
   "cell_type": "code",
   "execution_count": 29,
   "metadata": {
    "scrolled": true
   },
   "outputs": [
    {
     "name": "stderr",
     "output_type": "stream",
     "text": [
      "2020-08-21 22:31:35,436 : INFO : collecting all words and their counts\n",
      "2020-08-21 22:31:35,437 : INFO : PROGRESS: at sentence #0, processed 0 words, keeping 0 word types\n"
     ]
    },
    {
     "name": "stdout",
     "output_type": "stream",
     "text": [
      "Training model...\n"
     ]
    },
    {
     "name": "stderr",
     "output_type": "stream",
     "text": [
      "2020-08-21 22:31:36,304 : INFO : collected 9952 word types from a corpus of 2292403 raw words and 2312 sentences\n",
      "2020-08-21 22:31:36,305 : INFO : Loading a fresh vocabulary\n",
      "2020-08-21 22:31:36,337 : INFO : effective_min_count=5 retains 9517 unique words (95% of original 9952, drops 435)\n",
      "2020-08-21 22:31:36,338 : INFO : effective_min_count=5 leaves 2291116 word corpus (99% of original 2292403, drops 1287)\n",
      "2020-08-21 22:31:36,402 : INFO : deleting the raw counts dictionary of 9952 items\n",
      "2020-08-21 22:31:36,403 : INFO : sample=0.001 downsamples 52 most-common words\n",
      "2020-08-21 22:31:36,404 : INFO : downsampling leaves estimated 1627151 word corpus (71.0% of prior 2291116)\n",
      "2020-08-21 22:31:36,459 : INFO : estimated required memory for 9517 words and 300 dimensions: 27599300 bytes\n",
      "2020-08-21 22:31:36,460 : INFO : resetting layer weights\n",
      "2020-08-21 22:31:38,770 : INFO : training model with 4 workers on 9517 vocabulary and 300 features, using sg=0 hs=0 sample=0.001 negative=5 window=10\n",
      "2020-08-21 22:31:39,773 : INFO : EPOCH 1 - PROGRESS: at 64.45% examples, 1047203 words/s, in_qsize 8, out_qsize 0\n",
      "2020-08-21 22:31:40,352 : INFO : worker thread finished; awaiting finish of 3 more threads\n",
      "2020-08-21 22:31:40,355 : INFO : worker thread finished; awaiting finish of 2 more threads\n",
      "2020-08-21 22:31:40,366 : INFO : worker thread finished; awaiting finish of 1 more threads\n",
      "2020-08-21 22:31:40,369 : INFO : worker thread finished; awaiting finish of 0 more threads\n",
      "2020-08-21 22:31:40,370 : INFO : EPOCH - 1 : training on 2292403 raw words (1627584 effective words) took 1.6s, 1018615 effective words/s\n",
      "2020-08-21 22:31:41,375 : INFO : EPOCH 2 - PROGRESS: at 60.99% examples, 987141 words/s, in_qsize 7, out_qsize 0\n",
      "2020-08-21 22:31:41,989 : INFO : worker thread finished; awaiting finish of 3 more threads\n",
      "2020-08-21 22:31:41,992 : INFO : worker thread finished; awaiting finish of 2 more threads\n",
      "2020-08-21 22:31:41,999 : INFO : worker thread finished; awaiting finish of 1 more threads\n",
      "2020-08-21 22:31:42,002 : INFO : worker thread finished; awaiting finish of 0 more threads\n",
      "2020-08-21 22:31:42,003 : INFO : EPOCH - 2 : training on 2292403 raw words (1626671 effective words) took 1.6s, 998118 effective words/s\n",
      "2020-08-21 22:31:43,005 : INFO : EPOCH 3 - PROGRESS: at 60.99% examples, 989160 words/s, in_qsize 7, out_qsize 0\n",
      "2020-08-21 22:31:43,603 : INFO : worker thread finished; awaiting finish of 3 more threads\n",
      "2020-08-21 22:31:43,608 : INFO : worker thread finished; awaiting finish of 2 more threads\n",
      "2020-08-21 22:31:43,611 : INFO : worker thread finished; awaiting finish of 1 more threads\n",
      "2020-08-21 22:31:43,617 : INFO : worker thread finished; awaiting finish of 0 more threads\n",
      "2020-08-21 22:31:43,618 : INFO : EPOCH - 3 : training on 2292403 raw words (1627463 effective words) took 1.6s, 1008936 effective words/s\n",
      "2020-08-21 22:31:44,624 : INFO : EPOCH 4 - PROGRESS: at 62.72% examples, 1015782 words/s, in_qsize 7, out_qsize 0\n",
      "2020-08-21 22:31:45,172 : INFO : worker thread finished; awaiting finish of 3 more threads\n",
      "2020-08-21 22:31:45,174 : INFO : worker thread finished; awaiting finish of 2 more threads\n",
      "2020-08-21 22:31:45,177 : INFO : worker thread finished; awaiting finish of 1 more threads\n",
      "2020-08-21 22:31:45,190 : INFO : worker thread finished; awaiting finish of 0 more threads\n",
      "2020-08-21 22:31:45,190 : INFO : EPOCH - 4 : training on 2292403 raw words (1627153 effective words) took 1.6s, 1036740 effective words/s\n",
      "2020-08-21 22:31:46,200 : INFO : EPOCH 5 - PROGRESS: at 63.58% examples, 1025777 words/s, in_qsize 7, out_qsize 0\n",
      "2020-08-21 22:31:46,750 : INFO : worker thread finished; awaiting finish of 3 more threads\n",
      "2020-08-21 22:31:46,751 : INFO : worker thread finished; awaiting finish of 2 more threads\n",
      "2020-08-21 22:31:46,757 : INFO : worker thread finished; awaiting finish of 1 more threads\n",
      "2020-08-21 22:31:46,763 : INFO : worker thread finished; awaiting finish of 0 more threads\n",
      "2020-08-21 22:31:46,764 : INFO : EPOCH - 5 : training on 2292403 raw words (1628018 effective words) took 1.6s, 1035427 effective words/s\n",
      "2020-08-21 22:31:47,770 : INFO : EPOCH 6 - PROGRESS: at 65.31% examples, 1058864 words/s, in_qsize 7, out_qsize 0\n",
      "2020-08-21 22:31:48,629 : INFO : worker thread finished; awaiting finish of 3 more threads\n",
      "2020-08-21 22:31:48,637 : INFO : worker thread finished; awaiting finish of 2 more threads\n",
      "2020-08-21 22:31:48,642 : INFO : worker thread finished; awaiting finish of 1 more threads\n",
      "2020-08-21 22:31:48,662 : INFO : worker thread finished; awaiting finish of 0 more threads\n",
      "2020-08-21 22:31:48,664 : INFO : EPOCH - 6 : training on 2292403 raw words (1627444 effective words) took 1.9s, 858037 effective words/s\n",
      "2020-08-21 22:31:49,674 : INFO : EPOCH 7 - PROGRESS: at 35.90% examples, 579100 words/s, in_qsize 7, out_qsize 0\n",
      "2020-08-21 22:31:50,678 : INFO : EPOCH 7 - PROGRESS: at 73.53% examples, 595163 words/s, in_qsize 7, out_qsize 0\n",
      "2020-08-21 22:31:51,125 : INFO : worker thread finished; awaiting finish of 3 more threads\n",
      "2020-08-21 22:31:51,132 : INFO : worker thread finished; awaiting finish of 2 more threads\n",
      "2020-08-21 22:31:51,137 : INFO : worker thread finished; awaiting finish of 1 more threads\n",
      "2020-08-21 22:31:51,144 : INFO : worker thread finished; awaiting finish of 0 more threads\n",
      "2020-08-21 22:31:51,145 : INFO : EPOCH - 7 : training on 2292403 raw words (1627517 effective words) took 2.5s, 657230 effective words/s\n",
      "2020-08-21 22:31:52,148 : INFO : EPOCH 8 - PROGRESS: at 61.42% examples, 997216 words/s, in_qsize 7, out_qsize 0\n",
      "2020-08-21 22:31:52,748 : INFO : worker thread finished; awaiting finish of 3 more threads\n",
      "2020-08-21 22:31:52,751 : INFO : worker thread finished; awaiting finish of 2 more threads\n",
      "2020-08-21 22:31:52,759 : INFO : worker thread finished; awaiting finish of 1 more threads\n",
      "2020-08-21 22:31:52,763 : INFO : worker thread finished; awaiting finish of 0 more threads\n",
      "2020-08-21 22:31:52,764 : INFO : EPOCH - 8 : training on 2292403 raw words (1627060 effective words) took 1.6s, 1006552 effective words/s\n",
      "2020-08-21 22:31:53,770 : INFO : EPOCH 9 - PROGRESS: at 63.15% examples, 1023560 words/s, in_qsize 7, out_qsize 0\n",
      "2020-08-21 22:31:54,322 : INFO : worker thread finished; awaiting finish of 3 more threads\n",
      "2020-08-21 22:31:54,323 : INFO : worker thread finished; awaiting finish of 2 more threads\n",
      "2020-08-21 22:31:54,324 : INFO : worker thread finished; awaiting finish of 1 more threads\n",
      "2020-08-21 22:31:54,336 : INFO : worker thread finished; awaiting finish of 0 more threads\n",
      "2020-08-21 22:31:54,337 : INFO : EPOCH - 9 : training on 2292403 raw words (1626925 effective words) took 1.6s, 1036267 effective words/s\n",
      "2020-08-21 22:31:55,343 : INFO : EPOCH 10 - PROGRESS: at 64.45% examples, 1043172 words/s, in_qsize 7, out_qsize 0\n",
      "2020-08-21 22:31:55,868 : INFO : worker thread finished; awaiting finish of 3 more threads\n",
      "2020-08-21 22:31:55,870 : INFO : worker thread finished; awaiting finish of 2 more threads\n",
      "2020-08-21 22:31:55,878 : INFO : worker thread finished; awaiting finish of 1 more threads\n",
      "2020-08-21 22:31:55,887 : INFO : worker thread finished; awaiting finish of 0 more threads\n",
      "2020-08-21 22:31:55,888 : INFO : EPOCH - 10 : training on 2292403 raw words (1627008 effective words) took 1.5s, 1050221 effective words/s\n",
      "2020-08-21 22:31:56,892 : INFO : EPOCH 11 - PROGRESS: at 60.12% examples, 972962 words/s, in_qsize 7, out_qsize 0\n",
      "2020-08-21 22:31:57,652 : INFO : worker thread finished; awaiting finish of 3 more threads\n",
      "2020-08-21 22:31:57,667 : INFO : worker thread finished; awaiting finish of 2 more threads\n",
      "2020-08-21 22:31:57,676 : INFO : worker thread finished; awaiting finish of 1 more threads\n",
      "2020-08-21 22:31:57,683 : INFO : worker thread finished; awaiting finish of 0 more threads\n",
      "2020-08-21 22:31:57,685 : INFO : EPOCH - 11 : training on 2292403 raw words (1627033 effective words) took 1.8s, 906527 effective words/s\n",
      "2020-08-21 22:31:58,694 : INFO : EPOCH 12 - PROGRESS: at 35.90% examples, 579736 words/s, in_qsize 7, out_qsize 0\n",
      "2020-08-21 22:31:59,697 : INFO : EPOCH 12 - PROGRESS: at 72.66% examples, 588852 words/s, in_qsize 7, out_qsize 0\n",
      "2020-08-21 22:32:00,338 : INFO : worker thread finished; awaiting finish of 3 more threads\n"
     ]
    },
    {
     "name": "stderr",
     "output_type": "stream",
     "text": [
      "2020-08-21 22:32:00,341 : INFO : worker thread finished; awaiting finish of 2 more threads\n",
      "2020-08-21 22:32:00,346 : INFO : worker thread finished; awaiting finish of 1 more threads\n",
      "2020-08-21 22:32:00,351 : INFO : worker thread finished; awaiting finish of 0 more threads\n",
      "2020-08-21 22:32:00,352 : INFO : EPOCH - 12 : training on 2292403 raw words (1627363 effective words) took 2.7s, 611592 effective words/s\n",
      "2020-08-21 22:32:01,355 : INFO : EPOCH 13 - PROGRESS: at 67.04% examples, 1088976 words/s, in_qsize 7, out_qsize 0\n",
      "2020-08-21 22:32:01,839 : INFO : worker thread finished; awaiting finish of 3 more threads\n",
      "2020-08-21 22:32:01,847 : INFO : worker thread finished; awaiting finish of 2 more threads\n",
      "2020-08-21 22:32:01,851 : INFO : worker thread finished; awaiting finish of 1 more threads\n",
      "2020-08-21 22:32:01,856 : INFO : worker thread finished; awaiting finish of 0 more threads\n",
      "2020-08-21 22:32:01,856 : INFO : EPOCH - 13 : training on 2292403 raw words (1627790 effective words) took 1.5s, 1083701 effective words/s\n",
      "2020-08-21 22:32:02,863 : INFO : EPOCH 14 - PROGRESS: at 64.88% examples, 1048861 words/s, in_qsize 7, out_qsize 0\n",
      "2020-08-21 22:32:03,373 : INFO : worker thread finished; awaiting finish of 3 more threads\n",
      "2020-08-21 22:32:03,379 : INFO : worker thread finished; awaiting finish of 2 more threads\n",
      "2020-08-21 22:32:03,385 : INFO : worker thread finished; awaiting finish of 1 more threads\n",
      "2020-08-21 22:32:03,390 : INFO : worker thread finished; awaiting finish of 0 more threads\n",
      "2020-08-21 22:32:03,391 : INFO : EPOCH - 14 : training on 2292403 raw words (1626687 effective words) took 1.5s, 1061818 effective words/s\n",
      "2020-08-21 22:32:04,394 : INFO : EPOCH 15 - PROGRESS: at 67.47% examples, 1095511 words/s, in_qsize 7, out_qsize 0\n",
      "2020-08-21 22:32:04,872 : INFO : worker thread finished; awaiting finish of 3 more threads\n",
      "2020-08-21 22:32:04,873 : INFO : worker thread finished; awaiting finish of 2 more threads\n",
      "2020-08-21 22:32:04,882 : INFO : worker thread finished; awaiting finish of 1 more threads\n",
      "2020-08-21 22:32:04,887 : INFO : worker thread finished; awaiting finish of 0 more threads\n",
      "2020-08-21 22:32:04,888 : INFO : EPOCH - 15 : training on 2292403 raw words (1627665 effective words) took 1.5s, 1089211 effective words/s\n",
      "2020-08-21 22:32:04,888 : INFO : training on a 34386045 raw words (24409381 effective words) took 26.1s, 934614 effective words/s\n",
      "2020-08-21 22:32:04,888 : INFO : precomputing L2-norms of word weight vectors\n"
     ]
    }
   ],
   "source": [
    "thardy_model = form_model_from_sentences(thardy_sentences)"
   ]
  },
  {
   "cell_type": "code",
   "execution_count": 30,
   "metadata": {},
   "outputs": [
    {
     "name": "stderr",
     "output_type": "stream",
     "text": [
      "<ipython-input-30-e5a623de7caf>:1: DeprecationWarning: Call to deprecated `doesnt_match` (Method will be removed in 4.0.0, use self.wv.doesnt_match() instead).\n",
      "  thardy_model.doesnt_match(\"man woman child kitchen\".split())\n"
     ]
    },
    {
     "data": {
      "text/plain": [
       "'kitchen'"
      ]
     },
     "execution_count": 30,
     "metadata": {},
     "output_type": "execute_result"
    }
   ],
   "source": [
    "thardy_model.doesnt_match(\"man woman child kitchen\".split())"
   ]
  },
  {
   "cell_type": "code",
   "execution_count": 31,
   "metadata": {},
   "outputs": [
    {
     "name": "stderr",
     "output_type": "stream",
     "text": [
      "<ipython-input-31-9d9b13329596>:1: DeprecationWarning: Call to deprecated `doesnt_match` (Method will be removed in 4.0.0, use self.wv.doesnt_match() instead).\n",
      "  thardy_model.doesnt_match(\"paris bath london kitchen\".split())\n"
     ]
    },
    {
     "data": {
      "text/plain": [
       "'kitchen'"
      ]
     },
     "execution_count": 31,
     "metadata": {},
     "output_type": "execute_result"
    }
   ],
   "source": [
    "thardy_model.doesnt_match(\"paris bath london kitchen\".split())"
   ]
  },
  {
   "cell_type": "code",
   "execution_count": 32,
   "metadata": {
    "scrolled": true
   },
   "outputs": [
    {
     "name": "stderr",
     "output_type": "stream",
     "text": [
      "<ipython-input-32-7108fa9f8ec2>:1: DeprecationWarning: Call to deprecated `most_similar` (Method will be removed in 4.0.0, use self.wv.most_similar() instead).\n",
      "  thardy_model.most_similar(positive=['king', 'woman'], negative=['man'])\n"
     ]
    },
    {
     "data": {
      "text/plain": [
       "[('st', 0.39107972383499146),\n",
       " ('daughter', 0.36646023392677307),\n",
       " ('court', 0.36549362540245056),\n",
       " ('princess', 0.3591286838054657),\n",
       " ('feast', 0.35720276832580566),\n",
       " ('castle', 0.3356744647026062),\n",
       " ('graciously', 0.33558088541030884),\n",
       " ('situated', 0.3263382315635681),\n",
       " ('edward', 0.32416361570358276),\n",
       " ('rev', 0.32398712635040283)]"
      ]
     },
     "execution_count": 32,
     "metadata": {},
     "output_type": "execute_result"
    }
   ],
   "source": [
    "thardy_model.most_similar(positive=['king', 'woman'], negative=['man'])"
   ]
  },
  {
   "cell_type": "code",
   "execution_count": 33,
   "metadata": {},
   "outputs": [
    {
     "name": "stderr",
     "output_type": "stream",
     "text": [
      "<ipython-input-33-0710a1c3ca7f>:1: DeprecationWarning: Call to deprecated `most_similar` (Method will be removed in 4.0.0, use self.wv.most_similar() instead).\n",
      "  thardy_model.most_similar(\"man\")\n"
     ]
    },
    {
     "data": {
      "text/plain": [
       "[('woman', 0.5533199906349182),\n",
       " ('gentleman', 0.5480035543441772),\n",
       " ('fellow', 0.5450979471206665),\n",
       " ('person', 0.49691176414489746),\n",
       " ('nobleman', 0.4953759014606476),\n",
       " ('traveller', 0.44964003562927246),\n",
       " ('soldier', 0.44952404499053955),\n",
       " ('creature', 0.4448680579662323),\n",
       " ('foreigner', 0.44305747747421265),\n",
       " ('girl', 0.4378548562526703)]"
      ]
     },
     "execution_count": 33,
     "metadata": {},
     "output_type": "execute_result"
    }
   ],
   "source": [
    "thardy_model.most_similar(\"man\")"
   ]
  },
  {
   "cell_type": "code",
   "execution_count": 34,
   "metadata": {},
   "outputs": [
    {
     "name": "stderr",
     "output_type": "stream",
     "text": [
      "<ipython-input-34-375cdea8604a>:1: DeprecationWarning: Call to deprecated `most_similar` (Method will be removed in 4.0.0, use self.wv.most_similar() instead).\n",
      "  thardy_model.most_similar(\"woman\")\n"
     ]
    },
    {
     "data": {
      "text/plain": [
       "[('girl', 0.5574241876602173),\n",
       " ('man', 0.5533199906349182),\n",
       " ('creature', 0.49580860137939453),\n",
       " ('lover', 0.45769014954566956),\n",
       " ('lady', 0.4545402228832245),\n",
       " ('person', 0.4490666687488556),\n",
       " ('criminal', 0.40846365690231323),\n",
       " ('foreigner', 0.3867684006690979),\n",
       " ('maid', 0.3711322247982025),\n",
       " ('gentleman', 0.353089302778244)]"
      ]
     },
     "execution_count": 34,
     "metadata": {},
     "output_type": "execute_result"
    }
   ],
   "source": [
    "thardy_model.most_similar(\"woman\")"
   ]
  },
  {
   "cell_type": "code",
   "execution_count": 36,
   "metadata": {
    "scrolled": true
   },
   "outputs": [
    {
     "name": "stderr",
     "output_type": "stream",
     "text": [
      "2020-08-21 22:32:54,071 : INFO : collecting all words and their counts\n",
      "2020-08-21 22:32:54,072 : INFO : PROGRESS: at sentence #0, processed 0 words, keeping 0 word types\n"
     ]
    },
    {
     "name": "stdout",
     "output_type": "stream",
     "text": [
      "Training model...\n"
     ]
    },
    {
     "name": "stderr",
     "output_type": "stream",
     "text": [
      "2020-08-21 22:32:55,358 : INFO : collected 9970 word types from a corpus of 6855141 raw words and 6914 sentences\n",
      "2020-08-21 22:32:55,358 : INFO : Loading a fresh vocabulary\n",
      "2020-08-21 22:32:55,374 : INFO : effective_min_count=5 retains 9931 unique words (99% of original 9970, drops 39)\n",
      "2020-08-21 22:32:55,374 : INFO : effective_min_count=5 leaves 6855037 word corpus (99% of original 6855141, drops 104)\n",
      "2020-08-21 22:32:55,403 : INFO : deleting the raw counts dictionary of 9970 items\n",
      "2020-08-21 22:32:55,404 : INFO : sample=0.001 downsamples 57 most-common words\n",
      "2020-08-21 22:32:55,404 : INFO : downsampling leaves estimated 4840154 word corpus (70.6% of prior 6855037)\n",
      "2020-08-21 22:32:55,431 : INFO : estimated required memory for 9931 words and 300 dimensions: 28799900 bytes\n",
      "2020-08-21 22:32:55,431 : INFO : resetting layer weights\n",
      "2020-08-21 22:32:57,076 : INFO : training model with 4 workers on 9931 vocabulary and 300 features, using sg=0 hs=0 sample=0.001 negative=5 window=10\n",
      "2020-08-21 22:32:58,079 : INFO : EPOCH 1 - PROGRESS: at 24.73% examples, 1188771 words/s, in_qsize 7, out_qsize 0\n",
      "2020-08-21 22:32:59,100 : INFO : EPOCH 1 - PROGRESS: at 47.30% examples, 1128223 words/s, in_qsize 7, out_qsize 0\n",
      "2020-08-21 22:33:00,112 : INFO : EPOCH 1 - PROGRESS: at 67.98% examples, 1085425 words/s, in_qsize 7, out_qsize 0\n",
      "2020-08-21 22:33:01,116 : INFO : EPOCH 1 - PROGRESS: at 93.14% examples, 1116335 words/s, in_qsize 7, out_qsize 0\n",
      "2020-08-21 22:33:01,385 : INFO : worker thread finished; awaiting finish of 3 more threads\n",
      "2020-08-21 22:33:01,387 : INFO : worker thread finished; awaiting finish of 2 more threads\n",
      "2020-08-21 22:33:01,391 : INFO : worker thread finished; awaiting finish of 1 more threads\n",
      "2020-08-21 22:33:01,398 : INFO : worker thread finished; awaiting finish of 0 more threads\n",
      "2020-08-21 22:33:01,399 : INFO : EPOCH - 1 : training on 6855141 raw words (4841430 effective words) took 4.3s, 1120491 effective words/s\n",
      "2020-08-21 22:33:02,403 : INFO : EPOCH 2 - PROGRESS: at 24.15% examples, 1158247 words/s, in_qsize 7, out_qsize 0\n",
      "2020-08-21 22:33:03,405 : INFO : EPOCH 2 - PROGRESS: at 47.30% examples, 1138676 words/s, in_qsize 7, out_qsize 0\n",
      "2020-08-21 22:33:04,406 : INFO : EPOCH 2 - PROGRESS: at 70.00% examples, 1127983 words/s, in_qsize 7, out_qsize 0\n",
      "2020-08-21 22:33:05,411 : INFO : EPOCH 2 - PROGRESS: at 93.14% examples, 1123921 words/s, in_qsize 7, out_qsize 0\n",
      "2020-08-21 22:33:05,676 : INFO : worker thread finished; awaiting finish of 3 more threads\n",
      "2020-08-21 22:33:05,683 : INFO : worker thread finished; awaiting finish of 2 more threads\n",
      "2020-08-21 22:33:05,684 : INFO : worker thread finished; awaiting finish of 1 more threads\n",
      "2020-08-21 22:33:05,685 : INFO : worker thread finished; awaiting finish of 0 more threads\n",
      "2020-08-21 22:33:05,686 : INFO : EPOCH - 2 : training on 6855141 raw words (4840573 effective words) took 4.3s, 1129881 effective words/s\n",
      "2020-08-21 22:33:06,691 : INFO : EPOCH 3 - PROGRESS: at 22.71% examples, 1087725 words/s, in_qsize 7, out_qsize 0\n",
      "2020-08-21 22:33:07,703 : INFO : EPOCH 3 - PROGRESS: at 40.93% examples, 979772 words/s, in_qsize 7, out_qsize 0\n",
      "2020-08-21 22:33:08,707 : INFO : EPOCH 3 - PROGRESS: at 61.61% examples, 987849 words/s, in_qsize 7, out_qsize 0\n",
      "2020-08-21 22:33:09,708 : INFO : EPOCH 3 - PROGRESS: at 83.89% examples, 1009625 words/s, in_qsize 8, out_qsize 0\n",
      "2020-08-21 22:33:10,390 : INFO : worker thread finished; awaiting finish of 3 more threads\n",
      "2020-08-21 22:33:10,399 : INFO : worker thread finished; awaiting finish of 2 more threads\n",
      "2020-08-21 22:33:10,399 : INFO : worker thread finished; awaiting finish of 1 more threads\n",
      "2020-08-21 22:33:10,405 : INFO : worker thread finished; awaiting finish of 0 more threads\n",
      "2020-08-21 22:33:10,406 : INFO : EPOCH - 3 : training on 6855141 raw words (4839282 effective words) took 4.7s, 1025880 effective words/s\n",
      "2020-08-21 22:33:11,420 : INFO : EPOCH 4 - PROGRESS: at 13.88% examples, 660367 words/s, in_qsize 7, out_qsize 0\n",
      "2020-08-21 22:33:12,439 : INFO : EPOCH 4 - PROGRESS: at 26.61% examples, 629981 words/s, in_qsize 7, out_qsize 0\n",
      "2020-08-21 22:33:13,453 : INFO : EPOCH 4 - PROGRESS: at 39.49% examples, 625207 words/s, in_qsize 7, out_qsize 0\n",
      "2020-08-21 22:33:14,455 : INFO : EPOCH 4 - PROGRESS: at 60.75% examples, 726323 words/s, in_qsize 7, out_qsize 0\n",
      "2020-08-21 22:33:15,462 : INFO : EPOCH 4 - PROGRESS: at 83.60% examples, 800571 words/s, in_qsize 7, out_qsize 0\n",
      "2020-08-21 22:33:16,170 : INFO : worker thread finished; awaiting finish of 3 more threads\n",
      "2020-08-21 22:33:16,172 : INFO : worker thread finished; awaiting finish of 2 more threads\n",
      "2020-08-21 22:33:16,175 : INFO : worker thread finished; awaiting finish of 1 more threads\n",
      "2020-08-21 22:33:16,182 : INFO : worker thread finished; awaiting finish of 0 more threads\n",
      "2020-08-21 22:33:16,184 : INFO : EPOCH - 4 : training on 6855141 raw words (4840311 effective words) took 5.8s, 838143 effective words/s\n",
      "2020-08-21 22:33:17,197 : INFO : EPOCH 5 - PROGRESS: at 21.98% examples, 1046833 words/s, in_qsize 7, out_qsize 0\n",
      "2020-08-21 22:33:18,198 : INFO : EPOCH 5 - PROGRESS: at 44.26% examples, 1061780 words/s, in_qsize 7, out_qsize 0\n",
      "2020-08-21 22:33:19,206 : INFO : EPOCH 5 - PROGRESS: at 58.43% examples, 936415 words/s, in_qsize 7, out_qsize 0\n",
      "2020-08-21 22:33:20,217 : INFO : EPOCH 5 - PROGRESS: at 69.71% examples, 837701 words/s, in_qsize 7, out_qsize 0\n",
      "2020-08-21 22:33:21,227 : INFO : EPOCH 5 - PROGRESS: at 81.28% examples, 780712 words/s, in_qsize 7, out_qsize 0\n",
      "2020-08-21 22:33:22,226 : INFO : EPOCH 5 - PROGRESS: at 99.07% examples, 794039 words/s, in_qsize 7, out_qsize 0\n",
      "2020-08-21 22:33:22,253 : INFO : worker thread finished; awaiting finish of 3 more threads\n",
      "2020-08-21 22:33:22,258 : INFO : worker thread finished; awaiting finish of 2 more threads\n",
      "2020-08-21 22:33:22,262 : INFO : worker thread finished; awaiting finish of 1 more threads\n",
      "2020-08-21 22:33:22,267 : INFO : worker thread finished; awaiting finish of 0 more threads\n",
      "2020-08-21 22:33:22,267 : INFO : EPOCH - 5 : training on 6855141 raw words (4841035 effective words) took 6.1s, 796093 effective words/s\n",
      "2020-08-21 22:33:23,282 : INFO : EPOCH 6 - PROGRESS: at 23.00% examples, 1093568 words/s, in_qsize 7, out_qsize 0\n",
      "2020-08-21 22:33:24,281 : INFO : EPOCH 6 - PROGRESS: at 46.14% examples, 1106549 words/s, in_qsize 7, out_qsize 0\n",
      "2020-08-21 22:33:25,283 : INFO : EPOCH 6 - PROGRESS: at 67.98% examples, 1092724 words/s, in_qsize 7, out_qsize 0\n",
      "2020-08-21 22:33:26,301 : INFO : EPOCH 6 - PROGRESS: at 87.65% examples, 1051926 words/s, in_qsize 8, out_qsize 0\n",
      "2020-08-21 22:33:27,317 : INFO : EPOCH 6 - PROGRESS: at 98.35% examples, 943370 words/s, in_qsize 8, out_qsize 0\n",
      "2020-08-21 22:33:27,432 : INFO : worker thread finished; awaiting finish of 3 more threads\n",
      "2020-08-21 22:33:27,434 : INFO : worker thread finished; awaiting finish of 2 more threads\n",
      "2020-08-21 22:33:27,435 : INFO : worker thread finished; awaiting finish of 1 more threads\n",
      "2020-08-21 22:33:27,456 : INFO : worker thread finished; awaiting finish of 0 more threads\n",
      "2020-08-21 22:33:27,458 : INFO : EPOCH - 6 : training on 6855141 raw words (4841248 effective words) took 5.2s, 933114 effective words/s\n",
      "2020-08-21 22:33:28,465 : INFO : EPOCH 7 - PROGRESS: at 12.15% examples, 584821 words/s, in_qsize 7, out_qsize 0\n",
      "2020-08-21 22:33:29,470 : INFO : EPOCH 7 - PROGRESS: at 25.02% examples, 599297 words/s, in_qsize 7, out_qsize 0\n",
      "2020-08-21 22:33:30,472 : INFO : EPOCH 7 - PROGRESS: at 44.84% examples, 718770 words/s, in_qsize 7, out_qsize 0\n",
      "2020-08-21 22:33:31,474 : INFO : EPOCH 7 - PROGRESS: at 67.25% examples, 811768 words/s, in_qsize 7, out_qsize 0\n",
      "2020-08-21 22:33:32,476 : INFO : EPOCH 7 - PROGRESS: at 89.96% examples, 868174 words/s, in_qsize 7, out_qsize 0\n",
      "2020-08-21 22:33:32,907 : INFO : worker thread finished; awaiting finish of 3 more threads\n",
      "2020-08-21 22:33:32,918 : INFO : worker thread finished; awaiting finish of 2 more threads\n",
      "2020-08-21 22:33:32,923 : INFO : worker thread finished; awaiting finish of 1 more threads\n",
      "2020-08-21 22:33:32,926 : INFO : worker thread finished; awaiting finish of 0 more threads\n",
      "2020-08-21 22:33:32,927 : INFO : EPOCH - 7 : training on 6855141 raw words (4839512 effective words) took 5.5s, 885659 effective words/s\n"
     ]
    },
    {
     "name": "stderr",
     "output_type": "stream",
     "text": [
      "2020-08-21 22:33:33,945 : INFO : EPOCH 8 - PROGRESS: at 21.84% examples, 1034289 words/s, in_qsize 7, out_qsize 0\n",
      "2020-08-21 22:33:34,971 : INFO : EPOCH 8 - PROGRESS: at 35.29% examples, 832254 words/s, in_qsize 7, out_qsize 0\n",
      "2020-08-21 22:33:35,977 : INFO : EPOCH 8 - PROGRESS: at 47.58% examples, 753119 words/s, in_qsize 8, out_qsize 0\n",
      "2020-08-21 22:33:36,988 : INFO : EPOCH 8 - PROGRESS: at 59.44% examples, 708639 words/s, in_qsize 7, out_qsize 0\n",
      "2020-08-21 22:33:37,989 : INFO : EPOCH 8 - PROGRESS: at 79.11% examples, 757007 words/s, in_qsize 7, out_qsize 0\n",
      "2020-08-21 22:33:38,878 : INFO : worker thread finished; awaiting finish of 3 more threads\n",
      "2020-08-21 22:33:38,887 : INFO : worker thread finished; awaiting finish of 2 more threads\n",
      "2020-08-21 22:33:38,891 : INFO : worker thread finished; awaiting finish of 1 more threads\n",
      "2020-08-21 22:33:38,892 : INFO : worker thread finished; awaiting finish of 0 more threads\n",
      "2020-08-21 22:33:38,892 : INFO : EPOCH - 8 : training on 6855141 raw words (4840547 effective words) took 6.0s, 811762 effective words/s\n",
      "2020-08-21 22:33:39,897 : INFO : EPOCH 9 - PROGRESS: at 22.56% examples, 1082078 words/s, in_qsize 7, out_qsize 0\n",
      "2020-08-21 22:33:40,898 : INFO : EPOCH 9 - PROGRESS: at 44.98% examples, 1083405 words/s, in_qsize 7, out_qsize 0\n",
      "2020-08-21 22:33:41,903 : INFO : EPOCH 9 - PROGRESS: at 60.17% examples, 967787 words/s, in_qsize 8, out_qsize 0\n",
      "2020-08-21 22:33:42,920 : INFO : EPOCH 9 - PROGRESS: at 72.32% examples, 869725 words/s, in_qsize 7, out_qsize 0\n",
      "2020-08-21 22:33:43,932 : INFO : EPOCH 9 - PROGRESS: at 84.76% examples, 813735 words/s, in_qsize 7, out_qsize 0\n",
      "2020-08-21 22:33:44,904 : INFO : worker thread finished; awaiting finish of 3 more threads\n",
      "2020-08-21 22:33:44,912 : INFO : worker thread finished; awaiting finish of 2 more threads\n",
      "2020-08-21 22:33:44,913 : INFO : worker thread finished; awaiting finish of 1 more threads\n",
      "2020-08-21 22:33:44,915 : INFO : worker thread finished; awaiting finish of 0 more threads\n",
      "2020-08-21 22:33:44,916 : INFO : EPOCH - 9 : training on 6855141 raw words (4839970 effective words) took 6.0s, 803795 effective words/s\n",
      "2020-08-21 22:33:45,924 : INFO : EPOCH 10 - PROGRESS: at 23.00% examples, 1099026 words/s, in_qsize 7, out_qsize 0\n",
      "2020-08-21 22:33:46,924 : INFO : EPOCH 10 - PROGRESS: at 46.14% examples, 1109517 words/s, in_qsize 7, out_qsize 0\n",
      "2020-08-21 22:33:47,927 : INFO : EPOCH 10 - PROGRESS: at 68.12% examples, 1096669 words/s, in_qsize 7, out_qsize 0\n",
      "2020-08-21 22:33:48,929 : INFO : EPOCH 10 - PROGRESS: at 87.07% examples, 1050068 words/s, in_qsize 7, out_qsize 0\n",
      "2020-08-21 22:33:49,936 : INFO : EPOCH 10 - PROGRESS: at 99.51% examples, 959826 words/s, in_qsize 4, out_qsize 0\n",
      "2020-08-21 22:33:49,939 : INFO : worker thread finished; awaiting finish of 3 more threads\n",
      "2020-08-21 22:33:49,953 : INFO : worker thread finished; awaiting finish of 2 more threads\n",
      "2020-08-21 22:33:49,965 : INFO : worker thread finished; awaiting finish of 1 more threads\n",
      "2020-08-21 22:33:49,974 : INFO : worker thread finished; awaiting finish of 0 more threads\n",
      "2020-08-21 22:33:49,975 : INFO : EPOCH - 10 : training on 6855141 raw words (4840399 effective words) took 5.1s, 957151 effective words/s\n",
      "2020-08-21 22:33:50,984 : INFO : EPOCH 11 - PROGRESS: at 12.44% examples, 597211 words/s, in_qsize 7, out_qsize 0\n",
      "2020-08-21 22:33:51,991 : INFO : EPOCH 11 - PROGRESS: at 25.46% examples, 608301 words/s, in_qsize 7, out_qsize 0\n",
      "2020-08-21 22:33:52,995 : INFO : EPOCH 11 - PROGRESS: at 47.01% examples, 751949 words/s, in_qsize 7, out_qsize 0\n",
      "2020-08-21 22:33:53,998 : INFO : EPOCH 11 - PROGRESS: at 69.86% examples, 841453 words/s, in_qsize 7, out_qsize 0\n",
      "2020-08-21 22:33:55,003 : INFO : EPOCH 11 - PROGRESS: at 92.86% examples, 894068 words/s, in_qsize 7, out_qsize 0\n",
      "2020-08-21 22:33:55,307 : INFO : worker thread finished; awaiting finish of 3 more threads\n",
      "2020-08-21 22:33:55,309 : INFO : worker thread finished; awaiting finish of 2 more threads\n",
      "2020-08-21 22:33:55,320 : INFO : worker thread finished; awaiting finish of 1 more threads\n",
      "2020-08-21 22:33:55,323 : INFO : worker thread finished; awaiting finish of 0 more threads\n",
      "2020-08-21 22:33:55,324 : INFO : EPOCH - 11 : training on 6855141 raw words (4838965 effective words) took 5.3s, 905352 effective words/s\n",
      "2020-08-21 22:33:56,335 : INFO : EPOCH 12 - PROGRESS: at 19.96% examples, 951915 words/s, in_qsize 7, out_qsize 0\n",
      "2020-08-21 22:33:57,346 : INFO : EPOCH 12 - PROGRESS: at 32.54% examples, 775435 words/s, in_qsize 7, out_qsize 0\n",
      "2020-08-21 22:33:58,359 : INFO : EPOCH 12 - PROGRESS: at 44.84% examples, 713121 words/s, in_qsize 7, out_qsize 0\n",
      "2020-08-21 22:33:59,372 : INFO : EPOCH 12 - PROGRESS: at 57.56% examples, 687851 words/s, in_qsize 7, out_qsize 0\n",
      "2020-08-21 22:34:00,381 : INFO : EPOCH 12 - PROGRESS: at 78.25% examples, 748862 words/s, in_qsize 7, out_qsize 0\n",
      "2020-08-21 22:34:01,293 : INFO : worker thread finished; awaiting finish of 3 more threads\n",
      "2020-08-21 22:34:01,294 : INFO : worker thread finished; awaiting finish of 2 more threads\n",
      "2020-08-21 22:34:01,304 : INFO : worker thread finished; awaiting finish of 1 more threads\n",
      "2020-08-21 22:34:01,308 : INFO : worker thread finished; awaiting finish of 0 more threads\n",
      "2020-08-21 22:34:01,309 : INFO : EPOCH - 12 : training on 6855141 raw words (4838027 effective words) took 6.0s, 808736 effective words/s\n",
      "2020-08-21 22:34:02,322 : INFO : EPOCH 13 - PROGRESS: at 22.56% examples, 1075112 words/s, in_qsize 7, out_qsize 0\n",
      "2020-08-21 22:34:03,327 : INFO : EPOCH 13 - PROGRESS: at 45.27% examples, 1085585 words/s, in_qsize 7, out_qsize 0\n",
      "2020-08-21 22:34:04,338 : INFO : EPOCH 13 - PROGRESS: at 60.46% examples, 967387 words/s, in_qsize 7, out_qsize 0\n",
      "2020-08-21 22:34:05,338 : INFO : EPOCH 13 - PROGRESS: at 73.04% examples, 878691 words/s, in_qsize 8, out_qsize 0\n",
      "2020-08-21 22:34:06,354 : INFO : EPOCH 13 - PROGRESS: at 85.91% examples, 824388 words/s, in_qsize 7, out_qsize 0\n",
      "2020-08-21 22:34:07,358 : INFO : EPOCH 13 - PROGRESS: at 99.07% examples, 793333 words/s, in_qsize 7, out_qsize 0\n",
      "2020-08-21 22:34:07,378 : INFO : worker thread finished; awaiting finish of 3 more threads\n",
      "2020-08-21 22:34:07,385 : INFO : worker thread finished; awaiting finish of 2 more threads\n",
      "2020-08-21 22:34:07,387 : INFO : worker thread finished; awaiting finish of 1 more threads\n",
      "2020-08-21 22:34:07,395 : INFO : worker thread finished; awaiting finish of 0 more threads\n",
      "2020-08-21 22:34:07,396 : INFO : EPOCH - 13 : training on 6855141 raw words (4840396 effective words) took 6.1s, 795829 effective words/s\n",
      "2020-08-21 22:34:08,405 : INFO : EPOCH 14 - PROGRESS: at 21.41% examples, 1022217 words/s, in_qsize 7, out_qsize 0\n",
      "2020-08-21 22:34:09,408 : INFO : EPOCH 14 - PROGRESS: at 43.10% examples, 1034138 words/s, in_qsize 7, out_qsize 0\n",
      "2020-08-21 22:34:10,415 : INFO : EPOCH 14 - PROGRESS: at 65.37% examples, 1049380 words/s, in_qsize 7, out_qsize 0\n",
      "2020-08-21 22:34:11,435 : INFO : EPOCH 14 - PROGRESS: at 88.52% examples, 1060803 words/s, in_qsize 7, out_qsize 0\n",
      "2020-08-21 22:34:12,238 : INFO : worker thread finished; awaiting finish of 3 more threads\n",
      "2020-08-21 22:34:12,243 : INFO : worker thread finished; awaiting finish of 2 more threads\n",
      "2020-08-21 22:34:12,251 : INFO : worker thread finished; awaiting finish of 1 more threads\n",
      "2020-08-21 22:34:12,259 : INFO : worker thread finished; awaiting finish of 0 more threads\n",
      "2020-08-21 22:34:12,261 : INFO : EPOCH - 14 : training on 6855141 raw words (4840223 effective words) took 4.9s, 995256 effective words/s\n",
      "2020-08-21 22:34:13,279 : INFO : EPOCH 15 - PROGRESS: at 12.29% examples, 585374 words/s, in_qsize 7, out_qsize 0\n",
      "2020-08-21 22:34:14,281 : INFO : EPOCH 15 - PROGRESS: at 24.15% examples, 576203 words/s, in_qsize 7, out_qsize 0\n",
      "2020-08-21 22:34:15,295 : INFO : EPOCH 15 - PROGRESS: at 36.01% examples, 572716 words/s, in_qsize 7, out_qsize 0\n",
      "2020-08-21 22:34:16,304 : INFO : EPOCH 15 - PROGRESS: at 58.29% examples, 697970 words/s, in_qsize 7, out_qsize 0\n",
      "2020-08-21 22:34:17,310 : INFO : EPOCH 15 - PROGRESS: at 81.57% examples, 782724 words/s, in_qsize 7, out_qsize 0\n",
      "2020-08-21 22:34:18,106 : INFO : worker thread finished; awaiting finish of 3 more threads\n",
      "2020-08-21 22:34:18,109 : INFO : worker thread finished; awaiting finish of 2 more threads\n"
     ]
    },
    {
     "name": "stderr",
     "output_type": "stream",
     "text": [
      "2020-08-21 22:34:18,113 : INFO : worker thread finished; awaiting finish of 1 more threads\n",
      "2020-08-21 22:34:18,114 : INFO : worker thread finished; awaiting finish of 0 more threads\n",
      "2020-08-21 22:34:18,115 : INFO : EPOCH - 15 : training on 6855141 raw words (4840008 effective words) took 5.8s, 827499 effective words/s\n",
      "2020-08-21 22:34:18,116 : INFO : training on a 102827115 raw words (72601926 effective words) took 81.0s, 895882 effective words/s\n",
      "2020-08-21 22:34:18,116 : INFO : precomputing L2-norms of word weight vectors\n"
     ]
    }
   ],
   "source": [
    "cdickens_model = form_model_from_sentences(cdickens_sentences)"
   ]
  },
  {
   "cell_type": "code",
   "execution_count": 37,
   "metadata": {},
   "outputs": [
    {
     "name": "stderr",
     "output_type": "stream",
     "text": [
      "<ipython-input-37-4d4030d416e9>:1: DeprecationWarning: Call to deprecated `doesnt_match` (Method will be removed in 4.0.0, use self.wv.doesnt_match() instead).\n",
      "  cdickens_model.doesnt_match(\"man woman child kitchen\".split())\n"
     ]
    },
    {
     "data": {
      "text/plain": [
       "'kitchen'"
      ]
     },
     "execution_count": 37,
     "metadata": {},
     "output_type": "execute_result"
    }
   ],
   "source": [
    "cdickens_model.doesnt_match(\"man woman child kitchen\".split())"
   ]
  },
  {
   "cell_type": "code",
   "execution_count": 38,
   "metadata": {},
   "outputs": [
    {
     "name": "stderr",
     "output_type": "stream",
     "text": [
      "<ipython-input-38-25d03882a25b>:1: DeprecationWarning: Call to deprecated `doesnt_match` (Method will be removed in 4.0.0, use self.wv.doesnt_match() instead).\n",
      "  cdickens_model.doesnt_match(\"paris bath london kitchen\".split())\n"
     ]
    },
    {
     "data": {
      "text/plain": [
       "'bath'"
      ]
     },
     "execution_count": 38,
     "metadata": {},
     "output_type": "execute_result"
    }
   ],
   "source": [
    "cdickens_model.doesnt_match(\"paris bath london kitchen\".split())"
   ]
  },
  {
   "cell_type": "code",
   "execution_count": 39,
   "metadata": {},
   "outputs": [
    {
     "name": "stderr",
     "output_type": "stream",
     "text": [
      "<ipython-input-39-08444b34ff55>:1: DeprecationWarning: Call to deprecated `most_similar` (Method will be removed in 4.0.0, use self.wv.most_similar() instead).\n",
      "  cdickens_model.most_similar(positive=['king', 'woman'], negative=['man'])\n"
     ]
    },
    {
     "data": {
      "text/plain": [
       "[('queen', 0.5306344032287598),\n",
       " ('princess', 0.3572227954864502),\n",
       " ('earl', 0.3498882055282593),\n",
       " ('france', 0.34229129552841187),\n",
       " ('england', 0.32383811473846436),\n",
       " ('duke', 0.31832751631736755),\n",
       " ('she', 0.31116506457328796),\n",
       " ('prince', 0.3074086904525757),\n",
       " ('clergy', 0.3068374991416931),\n",
       " ('castle', 0.30129289627075195)]"
      ]
     },
     "execution_count": 39,
     "metadata": {},
     "output_type": "execute_result"
    }
   ],
   "source": [
    "cdickens_model.most_similar(positive=['king', 'woman'], negative=['man'])"
   ]
  },
  {
   "cell_type": "code",
   "execution_count": 40,
   "metadata": {},
   "outputs": [
    {
     "name": "stderr",
     "output_type": "stream",
     "text": [
      "<ipython-input-40-87b35789ec91>:1: DeprecationWarning: Call to deprecated `most_similar` (Method will be removed in 4.0.0, use self.wv.most_similar() instead).\n",
      "  cdickens_model.most_similar(\"man\")\n"
     ]
    },
    {
     "data": {
      "text/plain": [
       "[('gentleman', 0.5247000455856323),\n",
       " ('woman', 0.49636879563331604),\n",
       " ('chap', 0.4661363959312439),\n",
       " ('fellow', 0.44961440563201904),\n",
       " ('madman', 0.4260881245136261),\n",
       " ('person', 0.4052414000034332),\n",
       " ('liar', 0.3811708688735962),\n",
       " ('dog', 0.3796888589859009),\n",
       " ('jew', 0.37754103541374207),\n",
       " ('scoundrel', 0.3694858253002167)]"
      ]
     },
     "execution_count": 40,
     "metadata": {},
     "output_type": "execute_result"
    }
   ],
   "source": [
    "cdickens_model.most_similar(\"man\")"
   ]
  },
  {
   "cell_type": "code",
   "execution_count": 41,
   "metadata": {},
   "outputs": [
    {
     "name": "stderr",
     "output_type": "stream",
     "text": [
      "<ipython-input-41-dfbe8c43d0ad>:1: DeprecationWarning: Call to deprecated `most_similar` (Method will be removed in 4.0.0, use self.wv.most_similar() instead).\n",
      "  cdickens_model.most_similar(\"woman\")\n"
     ]
    },
    {
     "data": {
      "text/plain": [
       "[('lady', 0.5765020847320557),\n",
       " ('man', 0.49636879563331604),\n",
       " ('girl', 0.44128143787384033),\n",
       " ('creature', 0.4041684865951538),\n",
       " ('chap', 0.38590413331985474),\n",
       " ('lover', 0.38030850887298584),\n",
       " ('person', 0.3802489638328552),\n",
       " ('mistress', 0.3741688132286072),\n",
       " ('she', 0.3709544539451599),\n",
       " ('un', 0.3691060543060303)]"
      ]
     },
     "execution_count": 41,
     "metadata": {},
     "output_type": "execute_result"
    }
   ],
   "source": [
    "cdickens_model.most_similar(\"woman\")"
   ]
  },
  {
   "cell_type": "code",
   "execution_count": null,
   "metadata": {},
   "outputs": [],
   "source": []
  },
  {
   "cell_type": "code",
   "execution_count": null,
   "metadata": {},
   "outputs": [],
   "source": []
  }
 ],
 "metadata": {
  "kernelspec": {
   "display_name": "Python 3",
   "language": "python",
   "name": "python3"
  },
  "language_info": {
   "codemirror_mode": {
    "name": "ipython",
    "version": 3
   },
   "file_extension": ".py",
   "mimetype": "text/x-python",
   "name": "python",
   "nbconvert_exporter": "python",
   "pygments_lexer": "ipython3",
   "version": "3.8.3"
  }
 },
 "nbformat": 4,
 "nbformat_minor": 4
}
