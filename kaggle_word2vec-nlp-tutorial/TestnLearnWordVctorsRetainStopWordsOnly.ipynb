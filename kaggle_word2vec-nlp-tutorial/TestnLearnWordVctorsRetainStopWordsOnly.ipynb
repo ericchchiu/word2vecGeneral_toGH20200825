{
 "cells": [
  {
   "cell_type": "code",
   "execution_count": 1,
   "metadata": {},
   "outputs": [],
   "source": [
    "import pandas as pd\n",
    "\n",
    "# Read data from files \n",
    "train = pd.read_csv( \"labeledTrainData.tsv\", header=0, \n",
    " delimiter=\"\\t\", quoting=3 )\n",
    "test = pd.read_csv( \"testData.tsv\", header=0, delimiter=\"\\t\", quoting=3 )\n",
    "unlabeled_train = pd.read_csv( \"unlabeledTrainData.tsv\", header=0, \n",
    " delimiter=\"\\t\", quoting=3 )"
   ]
  },
  {
   "cell_type": "code",
   "execution_count": 2,
   "metadata": {},
   "outputs": [
    {
     "name": "stdout",
     "output_type": "stream",
     "text": [
      "Read 25000 labeled train reviews, 25000 labeled test reviews, and 50000 unlabeled reviews\n",
      "\n"
     ]
    }
   ],
   "source": [
    "# Verify the number of reviews that were read (100,000 in total)\n",
    "haha = train[\"review\"].size; hihi = test[\"review\"].size\n",
    "hoho = unlabeled_train[\"review\"].size\n",
    "print(f\"Read {haha} labeled train reviews, {hihi} labeled test reviews, and {hoho} unlabeled reviews\\n\")\n",
    "#print(f\"Read {train[\"review\"].size} labeled train reviews, {hihi} labeled test reviews, and {hoho} unlabeled reviews\\n\")"
   ]
  },
  {
   "cell_type": "code",
   "execution_count": 3,
   "metadata": {},
   "outputs": [],
   "source": [
    "# Import various modules for string cleaning\n",
    "from bs4 import BeautifulSoup\n",
    "import re\n",
    "from nltk.corpus import stopwords\n",
    "\n",
    "def review_to_wordlist( review, remove_stopwords=False ):\n",
    "    # Function to convert a document to a sequence of words,\n",
    "    # optionally removing stop words.  Returns a list of words.\n",
    "    #\n",
    "    # 1. Remove HTML\n",
    "    review_text = BeautifulSoup(review).get_text()\n",
    "    #  \n",
    "    # 2. Remove non-letters\n",
    "    review_text = re.sub(\"[^a-zA-Z]\",\" \", review_text)\n",
    "    #\n",
    "    # 3. Convert words to lower case and split them\n",
    "    words = review_text.lower().split()\n",
    "    #\n",
    "    # 4. Optionally remove stop words (false by default)\n",
    "    if remove_stopwords:\n",
    "        stops = set(stopwords.words(\"english\"))\n",
    "        words = [w for w in words if not w in stops]\n",
    "    #\n",
    "    # 5. Return a list of words\n",
    "    return(words)"
   ]
  },
  {
   "cell_type": "code",
   "execution_count": 4,
   "metadata": {},
   "outputs": [
    {
     "name": "stderr",
     "output_type": "stream",
     "text": [
      "[nltk_data] Downloading package punkt to\n",
      "[nltk_data]     C:\\Users\\Eric\\anaconda3\\nltk_data...\n",
      "[nltk_data]   Package punkt is already up-to-date!\n"
     ]
    }
   ],
   "source": [
    "# Download the punkt tokenizer for sentence splitting\n",
    "import nltk.data\n",
    "#No need to run the below line again after it has been run \n",
    "#nltk.download()\n",
    "nltk.download('punkt')\n",
    "tokenizer = nltk.data.load('tokenizers/punkt/english.pickle')\n"
   ]
  },
  {
   "cell_type": "code",
   "execution_count": 5,
   "metadata": {},
   "outputs": [],
   "source": [
    "# Define a function to split a review into parsed sentences\n",
    "def review_to_sentences( review, tokenizer, remove_stopwords=False ):\n",
    "    # Function to split a review into parsed sentences. Returns a \n",
    "    # list of sentences, where each sentence is a list of words\n",
    "    #\n",
    "    # 1. Use the NLTK tokenizer to split the paragraph into sentences\n",
    "    raw_sentences = tokenizer.tokenize(review.strip())\n",
    "    #\n",
    "    # 2. Loop over each sentence\n",
    "    sentences = []\n",
    "    for raw_sentence in raw_sentences:\n",
    "        # If a sentence is empty, skip it\n",
    "        if len(raw_sentence) > 0:\n",
    "            # Otherwise, call review_to_wordlist to get a list of words\n",
    "            sentences.append( review_to_wordlist( raw_sentence, \\\n",
    "              remove_stopwords ))\n",
    "    #\n",
    "    # Return the list of sentences (each sentence is a list of words,\n",
    "    # so this returns a list of lists\n",
    "    return sentences"
   ]
  },
  {
   "cell_type": "code",
   "execution_count": 6,
   "metadata": {
    "scrolled": true
   },
   "outputs": [
    {
     "name": "stdout",
     "output_type": "stream",
     "text": [
      "Parsing sentences from training set\n"
     ]
    },
    {
     "name": "stderr",
     "output_type": "stream",
     "text": [
      "C:\\Users\\Eric\\anaconda3\\lib\\site-packages\\bs4\\__init__.py:329: MarkupResemblesLocatorWarning: \".\" looks like a filename, not markup. You should probably open this file and pass the filehandle into Beautiful Soup.\n",
      "  warnings.warn(\n",
      "C:\\Users\\Eric\\anaconda3\\lib\\site-packages\\bs4\\__init__.py:329: MarkupResemblesLocatorWarning: \"...\" looks like a filename, not markup. You should probably open this file and pass the filehandle into Beautiful Soup.\n",
      "  warnings.warn(\n",
      "C:\\Users\\Eric\\anaconda3\\lib\\site-packages\\bs4\\__init__.py:414: MarkupResemblesLocatorWarning: \"http://www.happierabroad.com\"\" looks like a URL. Beautiful Soup is not an HTTP client. You should probably use an HTTP client like requests to get the document behind the URL, and feed that document to Beautiful Soup.\n",
      "  warnings.warn(\n"
     ]
    },
    {
     "name": "stdout",
     "output_type": "stream",
     "text": [
      "Parsing sentences from unlabeled set\n"
     ]
    },
    {
     "name": "stderr",
     "output_type": "stream",
     "text": [
      "C:\\Users\\Eric\\anaconda3\\lib\\site-packages\\bs4\\__init__.py:414: MarkupResemblesLocatorWarning: \"http://www.archive.org/details/LovefromaStranger\"\" looks like a URL. Beautiful Soup is not an HTTP client. You should probably use an HTTP client like requests to get the document behind the URL, and feed that document to Beautiful Soup.\n",
      "  warnings.warn(\n",
      "C:\\Users\\Eric\\anaconda3\\lib\\site-packages\\bs4\\__init__.py:414: MarkupResemblesLocatorWarning: \"http://www.loosechangeguide.com/LooseChangeGuide.html\"\" looks like a URL. Beautiful Soup is not an HTTP client. You should probably use an HTTP client like requests to get the document behind the URL, and feed that document to Beautiful Soup.\n",
      "  warnings.warn(\n",
      "C:\\Users\\Eric\\anaconda3\\lib\\site-packages\\bs4\\__init__.py:329: MarkupResemblesLocatorWarning: \"... ...\" looks like a filename, not markup. You should probably open this file and pass the filehandle into Beautiful Soup.\n",
      "  warnings.warn(\n",
      "C:\\Users\\Eric\\anaconda3\\lib\\site-packages\\bs4\\__init__.py:329: MarkupResemblesLocatorWarning: \"....\" looks like a filename, not markup. You should probably open this file and pass the filehandle into Beautiful Soup.\n",
      "  warnings.warn(\n",
      "C:\\Users\\Eric\\anaconda3\\lib\\site-packages\\bs4\\__init__.py:414: MarkupResemblesLocatorWarning: \"http://www.msnbc.msn.com/id/4972055/site/newsweek/\"\" looks like a URL. Beautiful Soup is not an HTTP client. You should probably use an HTTP client like requests to get the document behind the URL, and feed that document to Beautiful Soup.\n",
      "  warnings.warn(\n",
      "C:\\Users\\Eric\\anaconda3\\lib\\site-packages\\bs4\\__init__.py:329: MarkupResemblesLocatorWarning: \"..\" looks like a filename, not markup. You should probably open this file and pass the filehandle into Beautiful Soup.\n",
      "  warnings.warn(\n",
      "C:\\Users\\Eric\\anaconda3\\lib\\site-packages\\bs4\\__init__.py:414: MarkupResemblesLocatorWarning: \"http://www.youtube.com/watch?v=a0KSqelmgN8\"\" looks like a URL. Beautiful Soup is not an HTTP client. You should probably use an HTTP client like requests to get the document behind the URL, and feed that document to Beautiful Soup.\n",
      "  warnings.warn(\n",
      "C:\\Users\\Eric\\anaconda3\\lib\\site-packages\\bs4\\__init__.py:329: MarkupResemblesLocatorWarning: \".. .\" looks like a filename, not markup. You should probably open this file and pass the filehandle into Beautiful Soup.\n",
      "  warnings.warn(\n",
      "C:\\Users\\Eric\\anaconda3\\lib\\site-packages\\bs4\\__init__.py:414: MarkupResemblesLocatorWarning: \"http://jake-weird.blogspot.com/2007/08/beneath.html\"\" looks like a URL. Beautiful Soup is not an HTTP client. You should probably use an HTTP client like requests to get the document behind the URL, and feed that document to Beautiful Soup.\n",
      "  warnings.warn(\n"
     ]
    }
   ],
   "source": [
    "sentences = []  # Initialize an empty list of sentences\n",
    "\n",
    "print(\"Parsing sentences from training set\")\n",
    "for review in train[\"review\"]:\n",
    "    sentences += review_to_sentences(review, tokenizer)\n",
    "\n",
    "print(\"Parsing sentences from unlabeled set\")\n",
    "for review in unlabeled_train[\"review\"]:\n",
    "    sentences += review_to_sentences(review, tokenizer)"
   ]
  },
  {
   "cell_type": "code",
   "execution_count": 7,
   "metadata": {
    "scrolled": true
   },
   "outputs": [
    {
     "name": "stdout",
     "output_type": "stream",
     "text": [
      "795538\n"
     ]
    }
   ],
   "source": [
    "print(len(sentences))"
   ]
  },
  {
   "cell_type": "code",
   "execution_count": 8,
   "metadata": {},
   "outputs": [
    {
     "name": "stdout",
     "output_type": "stream",
     "text": [
      "['with', 'all', 'this', 'stuff', 'going', 'down', 'at', 'the', 'moment', 'with', 'mj', 'i', 've', 'started', 'listening', 'to', 'his', 'music', 'watching', 'the', 'odd', 'documentary', 'here', 'and', 'there', 'watched', 'the', 'wiz', 'and', 'watched', 'moonwalker', 'again']\n"
     ]
    }
   ],
   "source": [
    "print(sentences[0])"
   ]
  },
  {
   "cell_type": "code",
   "execution_count": 9,
   "metadata": {},
   "outputs": [
    {
     "name": "stdout",
     "output_type": "stream",
     "text": [
      "['maybe', 'i', 'just', 'want', 'to', 'get', 'a', 'certain', 'insight', 'into', 'this', 'guy', 'who', 'i', 'thought', 'was', 'really', 'cool', 'in', 'the', 'eighties', 'just', 'to', 'maybe', 'make', 'up', 'my', 'mind', 'whether', 'he', 'is', 'guilty', 'or', 'innocent']\n"
     ]
    }
   ],
   "source": [
    "print(sentences[1])"
   ]
  },
  {
   "cell_type": "code",
   "execution_count": 10,
   "metadata": {},
   "outputs": [
    {
     "name": "stderr",
     "output_type": "stream",
     "text": [
      "2020-08-18 18:42:29,893 : INFO : collecting all words and their counts\n",
      "2020-08-18 18:42:29,894 : INFO : PROGRESS: at sentence #0, processed 0 words, keeping 0 word types\n",
      "2020-08-18 18:42:29,937 : INFO : PROGRESS: at sentence #10000, processed 225803 words, keeping 17776 word types\n",
      "2020-08-18 18:42:29,982 : INFO : PROGRESS: at sentence #20000, processed 451892 words, keeping 24948 word types\n",
      "2020-08-18 18:42:30,029 : INFO : PROGRESS: at sentence #30000, processed 671315 words, keeping 30034 word types\n"
     ]
    },
    {
     "name": "stdout",
     "output_type": "stream",
     "text": [
      "Training model...\n"
     ]
    },
    {
     "name": "stderr",
     "output_type": "stream",
     "text": [
      "2020-08-18 18:42:30,076 : INFO : PROGRESS: at sentence #40000, processed 897815 words, keeping 34348 word types\n",
      "2020-08-18 18:42:30,132 : INFO : PROGRESS: at sentence #50000, processed 1116963 words, keeping 37761 word types\n",
      "2020-08-18 18:42:30,173 : INFO : PROGRESS: at sentence #60000, processed 1338404 words, keeping 40723 word types\n",
      "2020-08-18 18:42:30,230 : INFO : PROGRESS: at sentence #70000, processed 1561580 words, keeping 43333 word types\n",
      "2020-08-18 18:42:30,282 : INFO : PROGRESS: at sentence #80000, processed 1780887 words, keeping 45714 word types\n",
      "2020-08-18 18:42:30,328 : INFO : PROGRESS: at sentence #90000, processed 2004996 words, keeping 48135 word types\n",
      "2020-08-18 18:42:30,379 : INFO : PROGRESS: at sentence #100000, processed 2226966 words, keeping 50207 word types\n",
      "2020-08-18 18:42:30,423 : INFO : PROGRESS: at sentence #110000, processed 2446580 words, keeping 52081 word types\n",
      "2020-08-18 18:42:30,468 : INFO : PROGRESS: at sentence #120000, processed 2668775 words, keeping 54119 word types\n",
      "2020-08-18 18:42:30,517 : INFO : PROGRESS: at sentence #130000, processed 2894303 words, keeping 55847 word types\n",
      "2020-08-18 18:42:30,561 : INFO : PROGRESS: at sentence #140000, processed 3107005 words, keeping 57346 word types\n",
      "2020-08-18 18:42:30,610 : INFO : PROGRESS: at sentence #150000, processed 3332627 words, keeping 59055 word types\n",
      "2020-08-18 18:42:30,652 : INFO : PROGRESS: at sentence #160000, processed 3555315 words, keeping 60617 word types\n",
      "2020-08-18 18:42:30,705 : INFO : PROGRESS: at sentence #170000, processed 3778655 words, keeping 62077 word types\n",
      "2020-08-18 18:42:30,761 : INFO : PROGRESS: at sentence #180000, processed 3999236 words, keeping 63496 word types\n",
      "2020-08-18 18:42:30,806 : INFO : PROGRESS: at sentence #190000, processed 4224449 words, keeping 64794 word types\n",
      "2020-08-18 18:42:30,853 : INFO : PROGRESS: at sentence #200000, processed 4448603 words, keeping 66087 word types\n",
      "2020-08-18 18:42:30,896 : INFO : PROGRESS: at sentence #210000, processed 4669967 words, keeping 67390 word types\n",
      "2020-08-18 18:42:30,944 : INFO : PROGRESS: at sentence #220000, processed 4894968 words, keeping 68697 word types\n",
      "2020-08-18 18:42:30,991 : INFO : PROGRESS: at sentence #230000, processed 5117545 words, keeping 69958 word types\n",
      "2020-08-18 18:42:31,038 : INFO : PROGRESS: at sentence #240000, processed 5345050 words, keeping 71167 word types\n",
      "2020-08-18 18:42:31,084 : INFO : PROGRESS: at sentence #250000, processed 5559165 words, keeping 72351 word types\n",
      "2020-08-18 18:42:31,132 : INFO : PROGRESS: at sentence #260000, processed 5779146 words, keeping 73478 word types\n",
      "2020-08-18 18:42:31,177 : INFO : PROGRESS: at sentence #270000, processed 6000435 words, keeping 74767 word types\n",
      "2020-08-18 18:42:31,224 : INFO : PROGRESS: at sentence #280000, processed 6226314 words, keeping 76369 word types\n",
      "2020-08-18 18:42:31,275 : INFO : PROGRESS: at sentence #290000, processed 6449474 words, keeping 77839 word types\n",
      "2020-08-18 18:42:31,342 : INFO : PROGRESS: at sentence #300000, processed 6674077 words, keeping 79171 word types\n",
      "2020-08-18 18:42:31,394 : INFO : PROGRESS: at sentence #310000, processed 6899391 words, keeping 80480 word types\n",
      "2020-08-18 18:42:31,437 : INFO : PROGRESS: at sentence #320000, processed 7124278 words, keeping 81808 word types\n",
      "2020-08-18 18:42:31,482 : INFO : PROGRESS: at sentence #330000, processed 7346021 words, keeping 83030 word types\n",
      "2020-08-18 18:42:31,532 : INFO : PROGRESS: at sentence #340000, processed 7575533 words, keeping 84280 word types\n",
      "2020-08-18 18:42:31,577 : INFO : PROGRESS: at sentence #350000, processed 7798803 words, keeping 85425 word types\n",
      "2020-08-18 18:42:31,623 : INFO : PROGRESS: at sentence #360000, processed 8019427 words, keeping 86596 word types\n",
      "2020-08-18 18:42:31,674 : INFO : PROGRESS: at sentence #370000, processed 8246619 words, keeping 87708 word types\n",
      "2020-08-18 18:42:31,720 : INFO : PROGRESS: at sentence #380000, processed 8471766 words, keeping 88878 word types\n",
      "2020-08-18 18:42:31,771 : INFO : PROGRESS: at sentence #390000, processed 8701497 words, keeping 89907 word types\n",
      "2020-08-18 18:42:31,821 : INFO : PROGRESS: at sentence #400000, processed 8924446 words, keeping 90916 word types\n",
      "2020-08-18 18:42:31,868 : INFO : PROGRESS: at sentence #410000, processed 9145796 words, keeping 91880 word types\n",
      "2020-08-18 18:42:31,912 : INFO : PROGRESS: at sentence #420000, processed 9366876 words, keeping 92912 word types\n",
      "2020-08-18 18:42:31,962 : INFO : PROGRESS: at sentence #430000, processed 9594413 words, keeping 93932 word types\n",
      "2020-08-18 18:42:32,008 : INFO : PROGRESS: at sentence #440000, processed 9821166 words, keeping 94906 word types\n",
      "2020-08-18 18:42:32,057 : INFO : PROGRESS: at sentence #450000, processed 10044928 words, keeping 96036 word types\n",
      "2020-08-18 18:42:32,106 : INFO : PROGRESS: at sentence #460000, processed 10277688 words, keeping 97088 word types\n",
      "2020-08-18 18:42:32,158 : INFO : PROGRESS: at sentence #470000, processed 10505613 words, keeping 97933 word types\n",
      "2020-08-18 18:42:32,198 : INFO : PROGRESS: at sentence #480000, processed 10725997 words, keeping 98862 word types\n",
      "2020-08-18 18:42:32,248 : INFO : PROGRESS: at sentence #490000, processed 10952741 words, keeping 99871 word types\n",
      "2020-08-18 18:42:32,292 : INFO : PROGRESS: at sentence #500000, processed 11174397 words, keeping 100765 word types\n",
      "2020-08-18 18:42:32,343 : INFO : PROGRESS: at sentence #510000, processed 11399672 words, keeping 101699 word types\n",
      "2020-08-18 18:42:32,401 : INFO : PROGRESS: at sentence #520000, processed 11623020 words, keeping 102598 word types\n",
      "2020-08-18 18:42:32,465 : INFO : PROGRESS: at sentence #530000, processed 11847418 words, keeping 103400 word types\n",
      "2020-08-18 18:42:32,509 : INFO : PROGRESS: at sentence #540000, processed 12072033 words, keeping 104265 word types\n",
      "2020-08-18 18:42:32,557 : INFO : PROGRESS: at sentence #550000, processed 12297571 words, keeping 105133 word types\n",
      "2020-08-18 18:42:32,601 : INFO : PROGRESS: at sentence #560000, processed 12518861 words, keeping 105997 word types\n",
      "2020-08-18 18:42:32,648 : INFO : PROGRESS: at sentence #570000, processed 12747916 words, keeping 106787 word types\n",
      "2020-08-18 18:42:32,691 : INFO : PROGRESS: at sentence #580000, processed 12969412 words, keeping 107665 word types\n",
      "2020-08-18 18:42:32,739 : INFO : PROGRESS: at sentence #590000, processed 13194937 words, keeping 108501 word types\n",
      "2020-08-18 18:42:32,784 : INFO : PROGRESS: at sentence #600000, processed 13417135 words, keeping 109218 word types\n",
      "2020-08-18 18:42:32,828 : INFO : PROGRESS: at sentence #610000, processed 13638158 words, keeping 110092 word types\n",
      "2020-08-18 18:42:32,881 : INFO : PROGRESS: at sentence #620000, processed 13864483 words, keeping 110837 word types\n",
      "2020-08-18 18:42:32,930 : INFO : PROGRESS: at sentence #630000, processed 14088769 words, keeping 111610 word types\n",
      "2020-08-18 18:42:32,973 : INFO : PROGRESS: at sentence #640000, processed 14309552 words, keeping 112416 word types\n",
      "2020-08-18 18:42:33,019 : INFO : PROGRESS: at sentence #650000, processed 14535308 words, keeping 113196 word types\n",
      "2020-08-18 18:42:33,064 : INFO : PROGRESS: at sentence #660000, processed 14758098 words, keeping 113945 word types\n",
      "2020-08-18 18:42:33,111 : INFO : PROGRESS: at sentence #670000, processed 14981482 words, keeping 114643 word types\n",
      "2020-08-18 18:42:33,159 : INFO : PROGRESS: at sentence #680000, processed 15206314 words, keeping 115354 word types\n",
      "2020-08-18 18:42:33,205 : INFO : PROGRESS: at sentence #690000, processed 15428507 words, keeping 116131 word types\n",
      "2020-08-18 18:42:33,252 : INFO : PROGRESS: at sentence #700000, processed 15657213 words, keeping 116943 word types\n",
      "2020-08-18 18:42:33,296 : INFO : PROGRESS: at sentence #710000, processed 15880202 words, keeping 117596 word types\n",
      "2020-08-18 18:42:33,343 : INFO : PROGRESS: at sentence #720000, processed 16105489 words, keeping 118221 word types\n",
      "2020-08-18 18:42:33,388 : INFO : PROGRESS: at sentence #730000, processed 16331870 words, keeping 118954 word types\n",
      "2020-08-18 18:42:33,433 : INFO : PROGRESS: at sentence #740000, processed 16552903 words, keeping 119668 word types\n",
      "2020-08-18 18:42:33,485 : INFO : PROGRESS: at sentence #750000, processed 16771230 words, keeping 120295 word types\n"
     ]
    },
    {
     "name": "stderr",
     "output_type": "stream",
     "text": [
      "2020-08-18 18:42:33,540 : INFO : PROGRESS: at sentence #760000, processed 16990622 words, keeping 120930 word types\n",
      "2020-08-18 18:42:33,585 : INFO : PROGRESS: at sentence #770000, processed 17217759 words, keeping 121703 word types\n",
      "2020-08-18 18:42:33,632 : INFO : PROGRESS: at sentence #780000, processed 17447905 words, keeping 122402 word types\n",
      "2020-08-18 18:42:33,678 : INFO : PROGRESS: at sentence #790000, processed 17674981 words, keeping 123066 word types\n",
      "2020-08-18 18:42:33,703 : INFO : collected 123504 word types from a corpus of 17798082 raw words and 795538 sentences\n",
      "2020-08-18 18:42:33,704 : INFO : Loading a fresh vocabulary\n",
      "2020-08-18 18:42:34,495 : INFO : effective_min_count=40 retains 16490 unique words (13% of original 123504, drops 107014)\n",
      "2020-08-18 18:42:34,496 : INFO : effective_min_count=40 leaves 17238940 word corpus (96% of original 17798082, drops 559142)\n",
      "2020-08-18 18:42:34,547 : INFO : deleting the raw counts dictionary of 123504 items\n",
      "2020-08-18 18:42:34,551 : INFO : sample=0.001 downsamples 48 most-common words\n",
      "2020-08-18 18:42:34,552 : INFO : downsampling leaves estimated 12749658 word corpus (74.0% of prior 17238940)\n",
      "2020-08-18 18:42:34,600 : INFO : estimated required memory for 16490 words and 300 dimensions: 47821000 bytes\n",
      "2020-08-18 18:42:34,601 : INFO : resetting layer weights\n",
      "2020-08-18 18:42:37,381 : INFO : training model with 4 workers on 16490 vocabulary and 300 features, using sg=0 hs=0 sample=0.001 negative=5 window=10\n",
      "2020-08-18 18:42:38,391 : INFO : EPOCH 1 - PROGRESS: at 8.50% examples, 1077187 words/s, in_qsize 6, out_qsize 1\n",
      "2020-08-18 18:42:39,393 : INFO : EPOCH 1 - PROGRESS: at 17.24% examples, 1088156 words/s, in_qsize 7, out_qsize 0\n",
      "2020-08-18 18:42:40,399 : INFO : EPOCH 1 - PROGRESS: at 25.97% examples, 1092333 words/s, in_qsize 7, out_qsize 0\n",
      "2020-08-18 18:42:41,405 : INFO : EPOCH 1 - PROGRESS: at 34.33% examples, 1082132 words/s, in_qsize 7, out_qsize 0\n",
      "2020-08-18 18:42:42,414 : INFO : EPOCH 1 - PROGRESS: at 42.80% examples, 1081395 words/s, in_qsize 7, out_qsize 0\n",
      "2020-08-18 18:42:43,415 : INFO : EPOCH 1 - PROGRESS: at 51.31% examples, 1082053 words/s, in_qsize 7, out_qsize 0\n",
      "2020-08-18 18:42:44,418 : INFO : EPOCH 1 - PROGRESS: at 59.61% examples, 1080320 words/s, in_qsize 7, out_qsize 0\n",
      "2020-08-18 18:42:45,426 : INFO : EPOCH 1 - PROGRESS: at 68.03% examples, 1078205 words/s, in_qsize 7, out_qsize 0\n",
      "2020-08-18 18:42:46,429 : INFO : EPOCH 1 - PROGRESS: at 76.22% examples, 1074032 words/s, in_qsize 7, out_qsize 0\n",
      "2020-08-18 18:42:47,433 : INFO : EPOCH 1 - PROGRESS: at 83.68% examples, 1061480 words/s, in_qsize 7, out_qsize 0\n",
      "2020-08-18 18:42:48,436 : INFO : EPOCH 1 - PROGRESS: at 91.76% examples, 1058943 words/s, in_qsize 7, out_qsize 0\n",
      "2020-08-18 18:42:49,417 : INFO : worker thread finished; awaiting finish of 3 more threads\n",
      "2020-08-18 18:42:49,418 : INFO : worker thread finished; awaiting finish of 2 more threads\n",
      "2020-08-18 18:42:49,428 : INFO : worker thread finished; awaiting finish of 1 more threads\n",
      "2020-08-18 18:42:49,437 : INFO : EPOCH 1 - PROGRESS: at 100.00% examples, 1058074 words/s, in_qsize 0, out_qsize 1\n",
      "2020-08-18 18:42:49,438 : INFO : worker thread finished; awaiting finish of 0 more threads\n",
      "2020-08-18 18:42:49,439 : INFO : EPOCH - 1 : training on 17798082 raw words (12749027 effective words) took 12.1s, 1057960 effective words/s\n",
      "2020-08-18 18:42:50,447 : INFO : EPOCH 2 - PROGRESS: at 7.88% examples, 998136 words/s, in_qsize 7, out_qsize 0\n",
      "2020-08-18 18:42:51,451 : INFO : EPOCH 2 - PROGRESS: at 15.95% examples, 1008888 words/s, in_qsize 7, out_qsize 0\n",
      "2020-08-18 18:42:52,456 : INFO : EPOCH 2 - PROGRESS: at 24.09% examples, 1013923 words/s, in_qsize 7, out_qsize 0\n",
      "2020-08-18 18:42:53,463 : INFO : EPOCH 2 - PROGRESS: at 32.34% examples, 1019130 words/s, in_qsize 7, out_qsize 0\n",
      "2020-08-18 18:42:54,466 : INFO : EPOCH 2 - PROGRESS: at 40.58% examples, 1024839 words/s, in_qsize 7, out_qsize 0\n",
      "2020-08-18 18:42:55,469 : INFO : EPOCH 2 - PROGRESS: at 48.37% examples, 1020303 words/s, in_qsize 7, out_qsize 0\n",
      "2020-08-18 18:42:56,477 : INFO : EPOCH 2 - PROGRESS: at 56.27% examples, 1017273 words/s, in_qsize 7, out_qsize 0\n",
      "2020-08-18 18:42:57,492 : INFO : EPOCH 2 - PROGRESS: at 64.00% examples, 1012623 words/s, in_qsize 7, out_qsize 0\n",
      "2020-08-18 18:42:58,513 : INFO : EPOCH 2 - PROGRESS: at 68.83% examples, 966344 words/s, in_qsize 7, out_qsize 0\n",
      "2020-08-18 18:42:59,518 : INFO : EPOCH 2 - PROGRESS: at 73.50% examples, 929537 words/s, in_qsize 7, out_qsize 0\n",
      "2020-08-18 18:43:00,520 : INFO : EPOCH 2 - PROGRESS: at 78.31% examples, 901032 words/s, in_qsize 7, out_qsize 0\n",
      "2020-08-18 18:43:01,525 : INFO : EPOCH 2 - PROGRESS: at 85.79% examples, 904850 words/s, in_qsize 7, out_qsize 0\n",
      "2020-08-18 18:43:02,543 : INFO : EPOCH 2 - PROGRESS: at 94.27% examples, 916990 words/s, in_qsize 7, out_qsize 0\n",
      "2020-08-18 18:43:03,215 : INFO : worker thread finished; awaiting finish of 3 more threads\n",
      "2020-08-18 18:43:03,225 : INFO : worker thread finished; awaiting finish of 2 more threads\n",
      "2020-08-18 18:43:03,230 : INFO : worker thread finished; awaiting finish of 1 more threads\n",
      "2020-08-18 18:43:03,233 : INFO : worker thread finished; awaiting finish of 0 more threads\n",
      "2020-08-18 18:43:03,234 : INFO : EPOCH - 2 : training on 17798082 raw words (12747336 effective words) took 13.8s, 924387 effective words/s\n",
      "2020-08-18 18:43:04,245 : INFO : EPOCH 3 - PROGRESS: at 7.94% examples, 1003928 words/s, in_qsize 7, out_qsize 0\n",
      "2020-08-18 18:43:05,246 : INFO : EPOCH 3 - PROGRESS: at 15.90% examples, 1006137 words/s, in_qsize 7, out_qsize 0\n",
      "2020-08-18 18:43:06,250 : INFO : EPOCH 3 - PROGRESS: at 24.04% examples, 1012470 words/s, in_qsize 7, out_qsize 0\n",
      "2020-08-18 18:43:07,251 : INFO : EPOCH 3 - PROGRESS: at 32.29% examples, 1020065 words/s, in_qsize 7, out_qsize 0\n",
      "2020-08-18 18:43:08,272 : INFO : EPOCH 3 - PROGRESS: at 39.13% examples, 986374 words/s, in_qsize 8, out_qsize 0\n",
      "2020-08-18 18:43:09,289 : INFO : EPOCH 3 - PROGRESS: at 44.15% examples, 926841 words/s, in_qsize 7, out_qsize 0\n",
      "2020-08-18 18:43:10,290 : INFO : EPOCH 3 - PROGRESS: at 48.37% examples, 872346 words/s, in_qsize 7, out_qsize 0\n",
      "2020-08-18 18:43:11,298 : INFO : EPOCH 3 - PROGRESS: at 52.67% examples, 830634 words/s, in_qsize 7, out_qsize 0\n",
      "2020-08-18 18:43:12,300 : INFO : EPOCH 3 - PROGRESS: at 59.51% examples, 836565 words/s, in_qsize 7, out_qsize 0\n",
      "2020-08-18 18:43:13,311 : INFO : EPOCH 3 - PROGRESS: at 66.69% examples, 843491 words/s, in_qsize 7, out_qsize 0\n",
      "2020-08-18 18:43:14,314 : INFO : EPOCH 3 - PROGRESS: at 74.46% examples, 856967 words/s, in_qsize 7, out_qsize 0\n",
      "2020-08-18 18:43:15,322 : INFO : EPOCH 3 - PROGRESS: at 82.15% examples, 866533 words/s, in_qsize 7, out_qsize 0\n",
      "2020-08-18 18:43:16,324 : INFO : EPOCH 3 - PROGRESS: at 89.68% examples, 873948 words/s, in_qsize 7, out_qsize 0\n",
      "2020-08-18 18:43:17,337 : INFO : EPOCH 3 - PROGRESS: at 97.72% examples, 883735 words/s, in_qsize 7, out_qsize 0\n",
      "2020-08-18 18:43:17,628 : INFO : worker thread finished; awaiting finish of 3 more threads\n",
      "2020-08-18 18:43:17,632 : INFO : worker thread finished; awaiting finish of 2 more threads\n",
      "2020-08-18 18:43:17,641 : INFO : worker thread finished; awaiting finish of 1 more threads\n",
      "2020-08-18 18:43:17,643 : INFO : worker thread finished; awaiting finish of 0 more threads\n",
      "2020-08-18 18:43:17,644 : INFO : EPOCH - 3 : training on 17798082 raw words (12749926 effective words) took 14.4s, 885252 effective words/s\n",
      "2020-08-18 18:43:18,650 : INFO : EPOCH 4 - PROGRESS: at 6.04% examples, 771981 words/s, in_qsize 7, out_qsize 0\n",
      "2020-08-18 18:43:19,695 : INFO : EPOCH 4 - PROGRESS: at 10.53% examples, 653409 words/s, in_qsize 8, out_qsize 0\n",
      "2020-08-18 18:43:20,702 : INFO : EPOCH 4 - PROGRESS: at 14.51% examples, 602245 words/s, in_qsize 8, out_qsize 0\n",
      "2020-08-18 18:43:21,704 : INFO : EPOCH 4 - PROGRESS: at 18.75% examples, 585631 words/s, in_qsize 7, out_qsize 0\n",
      "2020-08-18 18:43:22,704 : INFO : EPOCH 4 - PROGRESS: at 25.51% examples, 639460 words/s, in_qsize 7, out_qsize 0\n",
      "2020-08-18 18:43:23,708 : INFO : EPOCH 4 - PROGRESS: at 33.66% examples, 703372 words/s, in_qsize 7, out_qsize 0\n",
      "2020-08-18 18:43:24,709 : INFO : EPOCH 4 - PROGRESS: at 41.37% examples, 743544 words/s, in_qsize 7, out_qsize 0\n"
     ]
    },
    {
     "name": "stderr",
     "output_type": "stream",
     "text": [
      "2020-08-18 18:43:25,710 : INFO : EPOCH 4 - PROGRESS: at 49.21% examples, 776313 words/s, in_qsize 7, out_qsize 0\n",
      "2020-08-18 18:43:26,714 : INFO : EPOCH 4 - PROGRESS: at 56.88% examples, 798407 words/s, in_qsize 7, out_qsize 0\n",
      "2020-08-18 18:43:27,714 : INFO : EPOCH 4 - PROGRESS: at 64.79% examples, 819911 words/s, in_qsize 7, out_qsize 0\n",
      "2020-08-18 18:43:28,720 : INFO : EPOCH 4 - PROGRESS: at 70.10% examples, 806715 words/s, in_qsize 8, out_qsize 0\n",
      "2020-08-18 18:43:29,725 : INFO : EPOCH 4 - PROGRESS: at 74.68% examples, 788267 words/s, in_qsize 7, out_qsize 0\n",
      "2020-08-18 18:43:30,733 : INFO : EPOCH 4 - PROGRESS: at 78.84% examples, 767931 words/s, in_qsize 8, out_qsize 1\n",
      "2020-08-18 18:43:31,736 : INFO : EPOCH 4 - PROGRESS: at 84.78% examples, 767078 words/s, in_qsize 7, out_qsize 0\n",
      "2020-08-18 18:43:32,742 : INFO : EPOCH 4 - PROGRESS: at 92.68% examples, 782736 words/s, in_qsize 7, out_qsize 0\n",
      "2020-08-18 18:43:33,639 : INFO : worker thread finished; awaiting finish of 3 more threads\n",
      "2020-08-18 18:43:33,640 : INFO : worker thread finished; awaiting finish of 2 more threads\n",
      "2020-08-18 18:43:33,651 : INFO : worker thread finished; awaiting finish of 1 more threads\n",
      "2020-08-18 18:43:33,658 : INFO : worker thread finished; awaiting finish of 0 more threads\n",
      "2020-08-18 18:43:33,659 : INFO : EPOCH - 4 : training on 17798082 raw words (12749743 effective words) took 16.0s, 796371 effective words/s\n",
      "2020-08-18 18:43:34,667 : INFO : EPOCH 5 - PROGRESS: at 7.94% examples, 1006458 words/s, in_qsize 7, out_qsize 0\n",
      "2020-08-18 18:43:35,669 : INFO : EPOCH 5 - PROGRESS: at 16.11% examples, 1020909 words/s, in_qsize 7, out_qsize 0\n",
      "2020-08-18 18:43:36,673 : INFO : EPOCH 5 - PROGRESS: at 23.98% examples, 1010619 words/s, in_qsize 6, out_qsize 1\n",
      "2020-08-18 18:43:37,680 : INFO : EPOCH 5 - PROGRESS: at 30.26% examples, 956129 words/s, in_qsize 7, out_qsize 0\n",
      "2020-08-18 18:43:38,688 : INFO : EPOCH 5 - PROGRESS: at 35.05% examples, 883953 words/s, in_qsize 7, out_qsize 0\n",
      "2020-08-18 18:43:39,688 : INFO : EPOCH 5 - PROGRESS: at 39.75% examples, 836834 words/s, in_qsize 7, out_qsize 0\n",
      "2020-08-18 18:43:40,704 : INFO : EPOCH 5 - PROGRESS: at 44.50% examples, 802404 words/s, in_qsize 7, out_qsize 0\n",
      "2020-08-18 18:43:41,706 : INFO : EPOCH 5 - PROGRESS: at 52.21% examples, 825113 words/s, in_qsize 7, out_qsize 0\n",
      "2020-08-18 18:43:42,707 : INFO : EPOCH 5 - PROGRESS: at 60.47% examples, 851570 words/s, in_qsize 7, out_qsize 2\n",
      "2020-08-18 18:43:43,709 : INFO : EPOCH 5 - PROGRESS: at 68.93% examples, 874212 words/s, in_qsize 7, out_qsize 0\n",
      "2020-08-18 18:43:44,709 : INFO : EPOCH 5 - PROGRESS: at 76.88% examples, 887028 words/s, in_qsize 7, out_qsize 0\n",
      "2020-08-18 18:43:45,712 : INFO : EPOCH 5 - PROGRESS: at 85.00% examples, 899261 words/s, in_qsize 7, out_qsize 0\n",
      "2020-08-18 18:43:46,714 : INFO : EPOCH 5 - PROGRESS: at 91.98% examples, 898717 words/s, in_qsize 6, out_qsize 1\n",
      "2020-08-18 18:43:47,730 : INFO : EPOCH 5 - PROGRESS: at 96.75% examples, 876453 words/s, in_qsize 7, out_qsize 0\n",
      "2020-08-18 18:43:48,361 : INFO : worker thread finished; awaiting finish of 3 more threads\n",
      "2020-08-18 18:43:48,368 : INFO : worker thread finished; awaiting finish of 2 more threads\n",
      "2020-08-18 18:43:48,396 : INFO : worker thread finished; awaiting finish of 1 more threads\n",
      "2020-08-18 18:43:48,402 : INFO : worker thread finished; awaiting finish of 0 more threads\n",
      "2020-08-18 18:43:48,404 : INFO : EPOCH - 5 : training on 17798082 raw words (12750233 effective words) took 14.7s, 865087 effective words/s\n",
      "2020-08-18 18:43:48,406 : INFO : training on a 88990410 raw words (63746265 effective words) took 71.0s, 897530 effective words/s\n",
      "2020-08-18 18:43:48,409 : INFO : precomputing L2-norms of word weight vectors\n",
      "2020-08-18 18:43:48,441 : INFO : saving Word2Vec object under 300features_40minwords_10context, separately None\n",
      "2020-08-18 18:43:48,444 : INFO : not storing attribute vectors_norm\n",
      "2020-08-18 18:43:48,445 : INFO : not storing attribute cum_table\n",
      "2020-08-18 18:43:52,023 : INFO : saved 300features_40minwords_10context\n"
     ]
    }
   ],
   "source": [
    "# Import the built-in logging module and configure it so that Word2Vec \n",
    "# creates nice output messages\n",
    "import logging\n",
    "logging.basicConfig(format='%(asctime)s : %(levelname)s : %(message)s',\\\n",
    "    level=logging.INFO)\n",
    "\n",
    "# Set values for various parameters\n",
    "num_features = 300    # Word vector dimensionality                      \n",
    "min_word_count = 40   # Minimum word count                        \n",
    "num_workers = 4       # Number of threads to run in parallel\n",
    "context = 10          # Context window size                                                                                    \n",
    "downsampling = 1e-3   # Downsample setting for frequent words\n",
    "\n",
    "# Initialize and train the model (this will take some time)\n",
    "from gensim.models import word2vec\n",
    "print(\"Training model...\")\n",
    "model = word2vec.Word2Vec(sentences, workers=num_workers, \\\n",
    "            size=num_features, min_count = min_word_count, \\\n",
    "            window = context, sample = downsampling)\n",
    "\n",
    "# If you don't plan to train the model any further, calling \n",
    "# init_sims will make the model much more memory-efficient.\n",
    "model.init_sims(replace=True)\n",
    "\n",
    "# It can be helpful to create a meaningful model name and \n",
    "# save the model for later use. You can load it later using Word2Vec.load()\n",
    "model_name = \"300features_40minwords_10context\"\n",
    "model.save(model_name)"
   ]
  },
  {
   "cell_type": "code",
   "execution_count": 11,
   "metadata": {},
   "outputs": [
    {
     "name": "stderr",
     "output_type": "stream",
     "text": [
      "<ipython-input-11-c4c7e8da36b4>:1: DeprecationWarning: Call to deprecated `doesnt_match` (Method will be removed in 4.0.0, use self.wv.doesnt_match() instead).\n",
      "  model.doesnt_match(\"man woman child kitchen\".split())\n",
      "C:\\Users\\Eric\\anaconda3\\lib\\site-packages\\gensim\\models\\keyedvectors.py:877: FutureWarning: arrays to stack must be passed as a \"sequence\" type such as list or tuple. Support for non-sequence iterables such as generators is deprecated as of NumPy 1.16 and will raise an error in the future.\n",
      "  vectors = vstack(self.word_vec(word, use_norm=True) for word in used_words).astype(REAL)\n"
     ]
    },
    {
     "data": {
      "text/plain": [
       "'kitchen'"
      ]
     },
     "execution_count": 11,
     "metadata": {},
     "output_type": "execute_result"
    }
   ],
   "source": [
    "model.doesnt_match(\"man woman child kitchen\".split())"
   ]
  },
  {
   "cell_type": "code",
   "execution_count": 12,
   "metadata": {},
   "outputs": [
    {
     "name": "stderr",
     "output_type": "stream",
     "text": [
      "<ipython-input-12-45844e2ac28d>:1: DeprecationWarning: Call to deprecated `doesnt_match` (Method will be removed in 4.0.0, use self.wv.doesnt_match() instead).\n",
      "  model.doesnt_match(\"paris berlin london austria\".split())\n"
     ]
    },
    {
     "data": {
      "text/plain": [
       "'paris'"
      ]
     },
     "execution_count": 12,
     "metadata": {},
     "output_type": "execute_result"
    }
   ],
   "source": [
    "model.doesnt_match(\"paris berlin london austria\".split())"
   ]
  },
  {
   "cell_type": "code",
   "execution_count": 13,
   "metadata": {},
   "outputs": [
    {
     "name": "stderr",
     "output_type": "stream",
     "text": [
      "<ipython-input-13-216414787a03>:1: DeprecationWarning: Call to deprecated `most_similar` (Method will be removed in 4.0.0, use self.wv.most_similar() instead).\n",
      "  model.most_similar(\"man\")\n"
     ]
    },
    {
     "data": {
      "text/plain": [
       "[('woman', 0.6304882168769836),\n",
       " ('lad', 0.5952304005622864),\n",
       " ('lady', 0.5862138867378235),\n",
       " ('soldier', 0.5298150777816772),\n",
       " ('guy', 0.5144491195678711),\n",
       " ('men', 0.5124490857124329),\n",
       " ('farmer', 0.5104303359985352),\n",
       " ('chap', 0.5053516626358032),\n",
       " ('poet', 0.5001262426376343),\n",
       " ('monk', 0.4985868036746979)]"
      ]
     },
     "execution_count": 13,
     "metadata": {},
     "output_type": "execute_result"
    }
   ],
   "source": [
    "model.most_similar(\"man\")"
   ]
  },
  {
   "cell_type": "code",
   "execution_count": 14,
   "metadata": {},
   "outputs": [
    {
     "name": "stderr",
     "output_type": "stream",
     "text": [
      "<ipython-input-14-631ed7059b1a>:1: DeprecationWarning: Call to deprecated `most_similar` (Method will be removed in 4.0.0, use self.wv.most_similar() instead).\n",
      "  model.most_similar(\"asian\")\n"
     ]
    },
    {
     "data": {
      "text/plain": [
       "[('indian', 0.6352517604827881),\n",
       " ('italian', 0.6323878765106201),\n",
       " ('hispanic', 0.6223514080047607),\n",
       " ('chinese', 0.6198261976242065),\n",
       " ('european', 0.602661669254303),\n",
       " ('japanese', 0.580132246017456),\n",
       " ('american', 0.5754120945930481),\n",
       " ('african', 0.5719794034957886),\n",
       " ('afro', 0.5574480891227722),\n",
       " ('korean', 0.5480692386627197)]"
      ]
     },
     "execution_count": 14,
     "metadata": {},
     "output_type": "execute_result"
    }
   ],
   "source": [
    "model.most_similar(\"asian\")"
   ]
  },
  {
   "cell_type": "code",
   "execution_count": 15,
   "metadata": {},
   "outputs": [
    {
     "name": "stderr",
     "output_type": "stream",
     "text": [
      "<ipython-input-15-efd9e43fbdfc>:1: DeprecationWarning: Call to deprecated `most_similar` (Method will be removed in 4.0.0, use self.wv.most_similar() instead).\n",
      "  model.most_similar(\"awful\")\n"
     ]
    },
    {
     "data": {
      "text/plain": [
       "[('terrible', 0.7755510807037354),\n",
       " ('horrible', 0.7380619049072266),\n",
       " ('atrocious', 0.7331347465515137),\n",
       " ('dreadful', 0.7232122421264648),\n",
       " ('abysmal', 0.7059292793273926),\n",
       " ('appalling', 0.6836127042770386),\n",
       " ('horrendous', 0.6766362190246582),\n",
       " ('horrid', 0.676304280757904),\n",
       " ('lousy', 0.6320223808288574),\n",
       " ('amateurish', 0.6204963326454163)]"
      ]
     },
     "execution_count": 15,
     "metadata": {},
     "output_type": "execute_result"
    }
   ],
   "source": [
    "model.most_similar(\"awful\")"
   ]
  },
  {
   "cell_type": "code",
   "execution_count": 16,
   "metadata": {},
   "outputs": [
    {
     "data": {
      "text/plain": [
       "(array([-0.13040787, -0.0387306 , -0.02428757,  0.03284191,  0.00774023,\n",
       "        -0.02209255,  0.1190803 ,  0.15986356,  0.06376628, -0.01328486,\n",
       "         0.0607137 , -0.06253612,  0.01057846,  0.0115566 ,  0.12447701,\n",
       "        -0.05760406, -0.15813698, -0.07051598,  0.03741488, -0.05992971,\n",
       "         0.02909673,  0.0772497 , -0.02052126,  0.01426938,  0.01180677,\n",
       "         0.06953558,  0.08850285, -0.07516508,  0.03543423, -0.00883125,\n",
       "        -0.0226506 , -0.05088933, -0.0665429 , -0.0685086 , -0.01138698,\n",
       "         0.04999544,  0.02665504, -0.0590856 , -0.06763619, -0.0189209 ,\n",
       "        -0.02010874, -0.04241288,  0.08553794,  0.09579083, -0.11264968,\n",
       "         0.00942093,  0.06050405, -0.04189688, -0.010866  , -0.03346559,\n",
       "         0.01149091, -0.00743175,  0.02160575, -0.02055809,  0.04755779,\n",
       "        -0.01132907,  0.02819855,  0.03973909,  0.02506342, -0.04406499,\n",
       "         0.04346847, -0.07829822,  0.0120181 , -0.02365987,  0.08024968,\n",
       "        -0.0107654 , -0.02055994,  0.04025637, -0.09667367,  0.04277181,\n",
       "         0.01021729,  0.00762382, -0.04165151, -0.04954086,  0.05553357,\n",
       "         0.00119273, -0.01133435, -0.0352875 ,  0.02279742,  0.05421943,\n",
       "        -0.01061318, -0.01607542, -0.03002359, -0.01758629, -0.07864942,\n",
       "        -0.04393623, -0.10302558,  0.02840538,  0.01063753, -0.01468062,\n",
       "         0.02717423, -0.01258963,  0.13425733,  0.01045114, -0.04613027,\n",
       "        -0.11780066, -0.01046478, -0.05414123,  0.02041123,  0.06008569,\n",
       "         0.10249607, -0.03796203,  0.02437627,  0.00461478, -0.04421623,\n",
       "         0.11207914,  0.00529835,  0.05459435, -0.02583095, -0.06875557,\n",
       "         0.0187541 ,  0.01797258,  0.01767596, -0.06392888,  0.02860263,\n",
       "        -0.02300051, -0.16969033, -0.00871076, -0.06735852, -0.01617745,\n",
       "         0.03599871,  0.05400439,  0.02777008, -0.07659566,  0.0599583 ,\n",
       "        -0.02363457, -0.12892507,  0.00485638,  0.00246722,  0.02624022,\n",
       "         0.00561408, -0.01745855,  0.02437156, -0.05110013, -0.13823894,\n",
       "         0.01538644,  0.01297111, -0.13921013,  0.00735768, -0.11308419,\n",
       "         0.05850618,  0.04329923,  0.03142165,  0.01512944,  0.06254082,\n",
       "         0.02294847, -0.06885104,  0.07443733,  0.04542058,  0.03136288,\n",
       "         0.02032098,  0.011614  , -0.00146667,  0.02243961,  0.02541074,\n",
       "        -0.0841089 ,  0.01660747,  0.03338077,  0.02064325, -0.07400313,\n",
       "         0.05843711,  0.01704713, -0.08146483,  0.10631358, -0.05429903,\n",
       "        -0.09499884, -0.01030121,  0.09637287,  0.08541048, -0.05893493,\n",
       "        -0.00513978,  0.11984847,  0.01219207, -0.0031946 ,  0.03451534,\n",
       "         0.08655685, -0.02610818, -0.03971921,  0.0745158 , -0.05225774,\n",
       "        -0.10117656, -0.05893426,  0.00504145, -0.02447227, -0.06982528,\n",
       "         0.02364294, -0.0055453 ,  0.04500349, -0.02828407, -0.01022342,\n",
       "         0.06784583, -0.02129261,  0.14494681, -0.01643336,  0.00657066,\n",
       "        -0.08747944,  0.01257819, -0.02888772, -0.13348362, -0.0153761 ,\n",
       "        -0.0055284 , -0.09713639,  0.00093802,  0.01937592, -0.0235839 ,\n",
       "         0.15555638,  0.01665542,  0.02342321, -0.06534021,  0.00055607,\n",
       "        -0.02714623, -0.04440381,  0.03805946, -0.12134516, -0.07279237,\n",
       "         0.04749197, -0.00439681,  0.05536181,  0.03475792, -0.05145613,\n",
       "        -0.02531865, -0.04376993, -0.15688942, -0.04733396, -0.04212477,\n",
       "        -0.02953704,  0.05435691, -0.01873305,  0.00357145,  0.02573255,\n",
       "        -0.06849115, -0.04706832, -0.01019415, -0.02944508,  0.05164626,\n",
       "        -0.01079515, -0.05106789,  0.06904972, -0.05346182,  0.07501166,\n",
       "         0.00214862, -0.06509595, -0.02954968, -0.03711735, -0.07172474,\n",
       "         0.04211183, -0.03827425,  0.17518981, -0.07083079, -0.03853531,\n",
       "        -0.0012346 , -0.00883837,  0.04923458,  0.03399397, -0.0212983 ,\n",
       "         0.00136739, -0.05756468,  0.11158467, -0.01899227,  0.05949298,\n",
       "        -0.06257213,  0.00197235, -0.01969727, -0.01820393,  0.0164989 ,\n",
       "         0.07150643,  0.02567502,  0.01602517,  0.01099815, -0.08020593,\n",
       "         0.02880202, -0.0663396 , -0.05984945,  0.04020764, -0.07374781,\n",
       "        -0.01472748, -0.07808211, -0.07565569,  0.01613835, -0.09419298,\n",
       "         0.01479938,  0.02062246, -0.00165239, -0.00189957, -0.01503626,\n",
       "        -0.04754621, -0.05635796,  0.11908894, -0.02432172, -0.06748921,\n",
       "         0.01798262, -0.03644255, -0.00467417,  0.01703622,  0.0237531 ,\n",
       "        -0.07984813,  0.00244523, -0.04703172,  0.03692813,  0.02351169],\n",
       "       dtype=float32),\n",
       " 300)"
      ]
     },
     "execution_count": 16,
     "metadata": {},
     "output_type": "execute_result"
    }
   ],
   "source": [
    "haha = model.wv['awful']\n",
    "haha, haha.size"
   ]
  },
  {
   "cell_type": "code",
   "execution_count": 17,
   "metadata": {},
   "outputs": [],
   "source": [
    "#part 3 started here\n",
    "#changes below were made according to \n",
    "#https://groups.google.com/g/gensim/c/hlYgjqEVocw\n",
    "#some methods and attributes were moved to\n",
    "#KeyedVectors class from word2vec class\n",
    "from gensim.models import Word2Vec, KeyedVectors"
   ]
  },
  {
   "cell_type": "code",
   "execution_count": 18,
   "metadata": {},
   "outputs": [
    {
     "name": "stderr",
     "output_type": "stream",
     "text": [
      "2020-08-18 18:43:52,170 : INFO : loading Word2VecKeyedVectors object from 300features_40minwords_10context\n",
      "2020-08-18 18:43:52,466 : INFO : loading wv recursively from 300features_40minwords_10context.wv.* with mmap=None\n",
      "2020-08-18 18:43:52,467 : INFO : setting ignored attribute vectors_norm to None\n",
      "2020-08-18 18:43:52,468 : INFO : loading vocabulary recursively from 300features_40minwords_10context.vocabulary.* with mmap=None\n",
      "2020-08-18 18:43:52,468 : INFO : loading trainables recursively from 300features_40minwords_10context.trainables.* with mmap=None\n",
      "2020-08-18 18:43:52,468 : INFO : setting ignored attribute cum_table to None\n",
      "2020-08-18 18:43:52,469 : INFO : loaded 300features_40minwords_10context\n"
     ]
    }
   ],
   "source": [
    "model = KeyedVectors.load(\"300features_40minwords_10context\")"
   ]
  },
  {
   "cell_type": "code",
   "execution_count": 19,
   "metadata": {},
   "outputs": [
    {
     "name": "stderr",
     "output_type": "stream",
     "text": [
      "<ipython-input-19-04073011a372>:2: DeprecationWarning: Call to deprecated `syn0` (Attribute will be removed in 4.0.0, use self.vectors instead).\n",
      "  type(model.wv.syn0)\n"
     ]
    },
    {
     "data": {
      "text/plain": [
       "numpy.ndarray"
      ]
     },
     "execution_count": 19,
     "metadata": {},
     "output_type": "execute_result"
    }
   ],
   "source": [
    "#changed: wv. added\n",
    "type(model.wv.syn0)"
   ]
  },
  {
   "cell_type": "code",
   "execution_count": 20,
   "metadata": {},
   "outputs": [
    {
     "name": "stderr",
     "output_type": "stream",
     "text": [
      "<ipython-input-20-b77a3a51ff8b>:1: DeprecationWarning: Call to deprecated `syn0` (Attribute will be removed in 4.0.0, use self.vectors instead).\n",
      "  model.wv.syn0.shape\n"
     ]
    },
    {
     "data": {
      "text/plain": [
       "(16490, 300)"
      ]
     },
     "execution_count": 20,
     "metadata": {},
     "output_type": "execute_result"
    }
   ],
   "source": [
    "model.wv.syn0.shape"
   ]
  },
  {
   "cell_type": "raw",
   "metadata": {},
   "source": [
    "model.wv['flower']"
   ]
  },
  {
   "cell_type": "code",
   "execution_count": 21,
   "metadata": {},
   "outputs": [
    {
     "data": {
      "text/plain": [
       "{'a',\n",
       " 'about',\n",
       " 'above',\n",
       " 'across',\n",
       " 'after',\n",
       " 'afterwards',\n",
       " 'again',\n",
       " 'against',\n",
       " 'all',\n",
       " 'almost',\n",
       " 'alone',\n",
       " 'along',\n",
       " 'already',\n",
       " 'also',\n",
       " 'although',\n",
       " 'always',\n",
       " 'am',\n",
       " 'among',\n",
       " 'amongst',\n",
       " 'amoungst',\n",
       " 'amount',\n",
       " 'an',\n",
       " 'and',\n",
       " 'another',\n",
       " 'any',\n",
       " 'anyhow',\n",
       " 'anyone',\n",
       " 'anything',\n",
       " 'anyway',\n",
       " 'anywhere',\n",
       " 'are',\n",
       " 'around',\n",
       " 'as',\n",
       " 'at',\n",
       " 'back',\n",
       " 'be',\n",
       " 'became',\n",
       " 'because',\n",
       " 'become',\n",
       " 'becomes',\n",
       " 'becoming',\n",
       " 'been',\n",
       " 'before',\n",
       " 'beforehand',\n",
       " 'behind',\n",
       " 'being',\n",
       " 'below',\n",
       " 'beside',\n",
       " 'besides',\n",
       " 'between',\n",
       " 'beyond',\n",
       " 'bill',\n",
       " 'both',\n",
       " 'bottom',\n",
       " 'but',\n",
       " 'by',\n",
       " 'call',\n",
       " 'can',\n",
       " 'cannot',\n",
       " 'cant',\n",
       " 'co',\n",
       " 'computer',\n",
       " 'con',\n",
       " 'could',\n",
       " 'couldnt',\n",
       " 'cry',\n",
       " 'de',\n",
       " 'describe',\n",
       " 'detail',\n",
       " 'did',\n",
       " 'didn',\n",
       " 'do',\n",
       " 'does',\n",
       " 'doesn',\n",
       " 'doing',\n",
       " 'don',\n",
       " 'done',\n",
       " 'down',\n",
       " 'due',\n",
       " 'during',\n",
       " 'each',\n",
       " 'eg',\n",
       " 'eight',\n",
       " 'either',\n",
       " 'eleven',\n",
       " 'else',\n",
       " 'elsewhere',\n",
       " 'empty',\n",
       " 'enough',\n",
       " 'etc',\n",
       " 'even',\n",
       " 'ever',\n",
       " 'every',\n",
       " 'everyone',\n",
       " 'everything',\n",
       " 'everywhere',\n",
       " 'except',\n",
       " 'few',\n",
       " 'fifteen',\n",
       " 'fifty',\n",
       " 'fill',\n",
       " 'find',\n",
       " 'fire',\n",
       " 'first',\n",
       " 'five',\n",
       " 'for',\n",
       " 'former',\n",
       " 'formerly',\n",
       " 'forty',\n",
       " 'found',\n",
       " 'four',\n",
       " 'from',\n",
       " 'front',\n",
       " 'full',\n",
       " 'further',\n",
       " 'get',\n",
       " 'give',\n",
       " 'go',\n",
       " 'had',\n",
       " 'has',\n",
       " 'hasnt',\n",
       " 'have',\n",
       " 'he',\n",
       " 'hence',\n",
       " 'her',\n",
       " 'here',\n",
       " 'hereafter',\n",
       " 'hereby',\n",
       " 'herein',\n",
       " 'hereupon',\n",
       " 'hers',\n",
       " 'herself',\n",
       " 'him',\n",
       " 'himself',\n",
       " 'his',\n",
       " 'how',\n",
       " 'however',\n",
       " 'hundred',\n",
       " 'i',\n",
       " 'ie',\n",
       " 'if',\n",
       " 'in',\n",
       " 'inc',\n",
       " 'indeed',\n",
       " 'interest',\n",
       " 'into',\n",
       " 'is',\n",
       " 'it',\n",
       " 'its',\n",
       " 'itself',\n",
       " 'just',\n",
       " 'keep',\n",
       " 'kg',\n",
       " 'km',\n",
       " 'last',\n",
       " 'latter',\n",
       " 'latterly',\n",
       " 'least',\n",
       " 'less',\n",
       " 'ltd',\n",
       " 'made',\n",
       " 'make',\n",
       " 'many',\n",
       " 'may',\n",
       " 'me',\n",
       " 'meanwhile',\n",
       " 'might',\n",
       " 'mill',\n",
       " 'mine',\n",
       " 'more',\n",
       " 'moreover',\n",
       " 'most',\n",
       " 'mostly',\n",
       " 'move',\n",
       " 'much',\n",
       " 'must',\n",
       " 'my',\n",
       " 'myself',\n",
       " 'name',\n",
       " 'namely',\n",
       " 'neither',\n",
       " 'never',\n",
       " 'nevertheless',\n",
       " 'next',\n",
       " 'nine',\n",
       " 'no',\n",
       " 'nobody',\n",
       " 'none',\n",
       " 'noone',\n",
       " 'nor',\n",
       " 'not',\n",
       " 'nothing',\n",
       " 'now',\n",
       " 'nowhere',\n",
       " 'of',\n",
       " 'off',\n",
       " 'often',\n",
       " 'on',\n",
       " 'once',\n",
       " 'one',\n",
       " 'only',\n",
       " 'onto',\n",
       " 'or',\n",
       " 'other',\n",
       " 'others',\n",
       " 'otherwise',\n",
       " 'our',\n",
       " 'ours',\n",
       " 'ourselves',\n",
       " 'out',\n",
       " 'over',\n",
       " 'own',\n",
       " 'part',\n",
       " 'per',\n",
       " 'perhaps',\n",
       " 'please',\n",
       " 'put',\n",
       " 'quite',\n",
       " 'rather',\n",
       " 're',\n",
       " 'really',\n",
       " 'regarding',\n",
       " 'same',\n",
       " 'say',\n",
       " 'see',\n",
       " 'seem',\n",
       " 'seemed',\n",
       " 'seeming',\n",
       " 'seems',\n",
       " 'serious',\n",
       " 'several',\n",
       " 'she',\n",
       " 'should',\n",
       " 'show',\n",
       " 'side',\n",
       " 'since',\n",
       " 'sincere',\n",
       " 'six',\n",
       " 'sixty',\n",
       " 'so',\n",
       " 'some',\n",
       " 'somehow',\n",
       " 'someone',\n",
       " 'something',\n",
       " 'sometime',\n",
       " 'sometimes',\n",
       " 'somewhere',\n",
       " 'still',\n",
       " 'such',\n",
       " 'system',\n",
       " 'take',\n",
       " 'ten',\n",
       " 'than',\n",
       " 'that',\n",
       " 'the',\n",
       " 'their',\n",
       " 'them',\n",
       " 'themselves',\n",
       " 'then',\n",
       " 'thence',\n",
       " 'there',\n",
       " 'thereafter',\n",
       " 'thereby',\n",
       " 'therefore',\n",
       " 'therein',\n",
       " 'thereupon',\n",
       " 'these',\n",
       " 'they',\n",
       " 'thick',\n",
       " 'thin',\n",
       " 'third',\n",
       " 'this',\n",
       " 'those',\n",
       " 'though',\n",
       " 'three',\n",
       " 'through',\n",
       " 'throughout',\n",
       " 'thru',\n",
       " 'thus',\n",
       " 'to',\n",
       " 'together',\n",
       " 'too',\n",
       " 'top',\n",
       " 'toward',\n",
       " 'towards',\n",
       " 'twelve',\n",
       " 'twenty',\n",
       " 'two',\n",
       " 'un',\n",
       " 'under',\n",
       " 'unless',\n",
       " 'until',\n",
       " 'up',\n",
       " 'upon',\n",
       " 'us',\n",
       " 'used',\n",
       " 'using',\n",
       " 'various',\n",
       " 'very',\n",
       " 'via',\n",
       " 'was',\n",
       " 'we',\n",
       " 'well',\n",
       " 'were',\n",
       " 'what',\n",
       " 'whatever',\n",
       " 'when',\n",
       " 'whence',\n",
       " 'whenever',\n",
       " 'where',\n",
       " 'whereafter',\n",
       " 'whereas',\n",
       " 'whereby',\n",
       " 'wherein',\n",
       " 'whereupon',\n",
       " 'wherever',\n",
       " 'whether',\n",
       " 'which',\n",
       " 'while',\n",
       " 'whither',\n",
       " 'who',\n",
       " 'whoever',\n",
       " 'whole',\n",
       " 'whom',\n",
       " 'whose',\n",
       " 'why',\n",
       " 'will',\n",
       " 'with',\n",
       " 'within',\n",
       " 'without',\n",
       " 'would',\n",
       " 'yet',\n",
       " 'you',\n",
       " 'your',\n",
       " 'yours',\n",
       " 'yourself',\n",
       " 'yourselves'}"
      ]
     },
     "execution_count": 21,
     "metadata": {},
     "output_type": "execute_result"
    }
   ],
   "source": [
    "import gensim\n",
    "all_stopwords = set(gensim.parsing.preprocessing.STOPWORDS)\n",
    "all_stopwords"
   ]
  },
  {
   "cell_type": "code",
   "execution_count": 22,
   "metadata": {},
   "outputs": [],
   "source": [
    "#be careful: nword and counter must be integers --Chiu\n",
    "import numpy as np  # Make sure that numpy is imported\n",
    "\n",
    "def makeFeatureVec(words, model, num_features):\n",
    "    # Function to average all of the word vectors in a given\n",
    "    # paragraph\n",
    "    #\n",
    "    # Pre-initialize an empty numpy array (for speed)\n",
    "    featureVec = np.zeros((num_features,),dtype=\"float32\")\n",
    "    #\n",
    "    nwords = 0\n",
    "    # \n",
    "    # Index2word is a list that contains the names of the words in \n",
    "    # the model's vocabulary. Convert it to a set, for speed \n",
    "    index2word_set = set(model.wv.index2word)\n",
    "    index2word_set2 = all_stopwords\n",
    "    #\n",
    "    # Loop over each word in the review and, if it is in the model's\n",
    "    # vocaublary, add its feature vector to the total\n",
    "    for word in words:\n",
    "        if word in index2word_set and word in index2word_set2: \n",
    "            nwords = nwords + 1\n",
    "            featureVec = np.add(featureVec,model[word])\n",
    "    # \n",
    "    # Divide the result by the number of words to get the average\n",
    "    if nwords == 0:\n",
    "        nwords = 1\n",
    "    featureVec = np.divide(featureVec,nwords)\n",
    "    return featureVec\n",
    "\n",
    "\n",
    "def getAvgFeatureVecs(reviews, model, num_features):\n",
    "    # Given a set of reviews (each one a list of words), calculate \n",
    "    # the average feature vector for each one and return a 2D numpy array \n",
    "    # \n",
    "    # Initialize a counter\n",
    "    counter = 0\n",
    "    # \n",
    "    # Preallocate a 2D numpy array, for speed\n",
    "    reviewFeatureVecs = np.zeros((len(reviews),num_features),dtype=\"float32\")\n",
    "    # \n",
    "    # Loop through the reviews\n",
    "    for review in reviews:\n",
    "       #\n",
    "       # Print a status message every 1000th review\n",
    "        if counter%1000 == 0:\n",
    "            haha = counter; hihi = len(reviews)\n",
    "            print(f\"Review {haha} of {hihi}\") #% (counter, len(reviews))\n",
    "       # \n",
    "       # Call the function (defined above) that makes average feature vectors\n",
    "        #reviewFeatureVecs[counter] = makeFeatureVec(review, model, num_features)\n",
    "        reviewFeatureVecs[counter] = makeFeatureVec(review, model, num_features)\n",
    "       #\n",
    "       # Increment the counter\n",
    "        counter = counter + 1\n",
    "    return reviewFeatureVecs"
   ]
  },
  {
   "cell_type": "code",
   "execution_count": 23,
   "metadata": {
    "scrolled": true
   },
   "outputs": [
    {
     "name": "stdout",
     "output_type": "stream",
     "text": [
      "['noone', 'couldnt', 'ltd', 'hereupon', 'hereafter', 'amoungst', 'whither', 'thence', 'whereafter', 'whereupon', 'whence', 'thereupon', 'kg', 'hereby', 'hasnt', 'whereby', 'latterly', 'km']\n",
      "{'us', 'again', 'beside', 'there', 'once', 'often', 'had', 'same', 'even', 'forty', 'seeming', 'somewhere', 'more', 'than', 'whether', 'although', 'over', 'one', 'after', 'above', 'found', 'if', 'do', 'sometimes', 'becomes', 'keep', 'computer', 'them', 'otherwise', 'since', 'enough', 'everything', 'ie', 'before', 'nevertheless', 'describe', 'please', 'other', 'it', 'hence', 'amongst', 'co', 'am', 'noone', 'each', 'at', 'into', 'couldnt', 'make', 'him', 'that', 'whole', 'name', 'afterwards', 'and', 'amount', 'therefore', 'front', 'hers', 'top', 'he', 'last', 'while', 'out', 'elsewhere', 'but', 'neither', 'see', 'been', 'fifteen', 'be', 'seem', 'anyone', 'therein', 'you', 'of', 'upon', 'made', 'an', 'now', 'no', 'together', 'formerly', 'somehow', 'here', 'whereas', 'perhaps', 'because', 'meanwhile', 'put', 'may', 'all', 'nowhere', 'part', 'always', 'go', 'further', 'ltd', 'inc', 'which', 'some', 'besides', 'hereupon', 'or', 'until', 'much', 'did', 'yourselves', 'moreover', 'beforehand', 'none', 'might', 'twelve', 'various', 'side', 'then', 'mine', 'thru', 'hereafter', 'among', 'around', 'nothing', 'per', 'its', 'are', 'yours', 'bottom', 'a', 'very', 'take', 'nor', 'about', 'whatever', 'throughout', 'amoungst', 'without', 'whither', 'eg', 'etc', 'thereafter', 'whom', 'does', 'would', 'me', 'detail', 'they', 'itself', 'thick', 'give', 'wherein', 'others', 'can', 'should', 'cannot', 'didn', 'thence', 'every', 'de', 'too', 'where', 'nine', 'her', 'his', 'doing', 'get', 'empty', 'still', 'full', 'was', 'against', 'back', 'ten', 'these', 'anything', 'next', 'quite', 'across', 'becoming', 'is', 'unless', 'show', 'eleven', 'whereafter', 'how', 'namely', 'beyond', 'this', 'else', 'bill', 'whereupon', 'anyway', 'himself', 'both', 'due', 'six', 'twenty', 'thus', 'several', 'used', 'fifty', 'ourselves', 'not', 'by', 'my', 'who', 'however', 'done', 'such', 'another', 'from', 'herein', 'just', 'well', 'she', 'former', 'could', 'un', 'really', 'within', 'system', 'most', 'seems', 'three', 'whence', 'serious', 'our', 'regarding', 'through', 'have', 'will', 'only', 'move', 'con', 'anywhere', 'doesn', 'nobody', 'when', 'were', 'thereupon', 'your', 'ever', 'what', 'using', 'off', 're', 'cant', 'in', 'themselves', 'seemed', 'we', 'thereby', 'any', 'with', 'became', 'below', 'as', 'their', 'myself', 'something', 'call', 'alone', 'behind', 'already', 'everyone', 'own', 'i', 'sincere', 'indeed', 'mostly', 'onto', 'hundred', 'first', 'must', 'kg', 'along', 'towards', 'never', 'for', 'third', 'don', 'few', 'eight', 'anyhow', 'hereby', 'has', 'herself', 'interest', 'down', 'become', 'thin', 'toward', 'cry', 'on', 'latter', 'whoever', 'hasnt', 'between', 'whose', 'except', 'yet', 'under', 'find', 'sixty', 'the', 'either', 'whenever', 'ours', 'many', 'being', 'sometime', 'rather', 'yourself', 'up', 'during', 'two', 'wherever', 'four', 'whereby', 'latterly', 'mill', 'km', 'via', 'fill', 'to', 'say', 'less', 'everywhere', 'though', 'five', 'fire', 'why', 'those', 'so', 'someone', 'least', 'also', 'almost'}\n"
     ]
    },
    {
     "data": {
      "text/plain": [
       "(None, None)"
      ]
     },
     "execution_count": 23,
     "metadata": {},
     "output_type": "execute_result"
    }
   ],
   "source": [
    "index2word_set = set(model.wv.index2word)\n",
    "index2word_set2 = all_stopwords\n",
    "\n",
    "haha = []\n",
    "for hihi in index2word_set2:\n",
    "    if hihi not in index2word_set:\n",
    "        haha.append(hihi)\n",
    "print(haha), print(index2word_set2)"
   ]
  },
  {
   "cell_type": "code",
   "execution_count": 24,
   "metadata": {},
   "outputs": [
    {
     "data": {
      "text/plain": [
       "gensim.models.word2vec.Word2Vec"
      ]
     },
     "execution_count": 24,
     "metadata": {},
     "output_type": "execute_result"
    }
   ],
   "source": [
    "type(model)"
   ]
  },
  {
   "cell_type": "code",
   "execution_count": 25,
   "metadata": {
    "scrolled": true
   },
   "outputs": [
    {
     "name": "stdout",
     "output_type": "stream",
     "text": [
      "Review 0 of 25000\n"
     ]
    },
    {
     "name": "stderr",
     "output_type": "stream",
     "text": [
      "<ipython-input-22-d4aced638c63>:23: DeprecationWarning: Call to deprecated `__getitem__` (Method will be removed in 4.0.0, use self.wv.__getitem__() instead).\n",
      "  featureVec = np.add(featureVec,model[word])\n"
     ]
    },
    {
     "name": "stdout",
     "output_type": "stream",
     "text": [
      "Review 1000 of 25000\n",
      "Review 2000 of 25000\n",
      "Review 3000 of 25000\n",
      "Review 4000 of 25000\n",
      "Review 5000 of 25000\n",
      "Review 6000 of 25000\n",
      "Review 7000 of 25000\n",
      "Review 8000 of 25000\n",
      "Review 9000 of 25000\n",
      "Review 10000 of 25000\n",
      "Review 11000 of 25000\n",
      "Review 12000 of 25000\n",
      "Review 13000 of 25000\n",
      "Review 14000 of 25000\n",
      "Review 15000 of 25000\n",
      "Review 16000 of 25000\n",
      "Review 17000 of 25000\n",
      "Review 18000 of 25000\n",
      "Review 19000 of 25000\n",
      "Review 20000 of 25000\n",
      "Review 21000 of 25000\n",
      "Review 22000 of 25000\n",
      "Review 23000 of 25000\n",
      "Review 24000 of 25000\n",
      "Creating average feature vecs for test reviews\n",
      "Review 0 of 25000\n",
      "Review 1000 of 25000\n",
      "Review 2000 of 25000\n",
      "Review 3000 of 25000\n",
      "Review 4000 of 25000\n",
      "Review 5000 of 25000\n",
      "Review 6000 of 25000\n",
      "Review 7000 of 25000\n",
      "Review 8000 of 25000\n",
      "Review 9000 of 25000\n",
      "Review 10000 of 25000\n",
      "Review 11000 of 25000\n",
      "Review 12000 of 25000\n",
      "Review 13000 of 25000\n",
      "Review 14000 of 25000\n",
      "Review 15000 of 25000\n",
      "Review 16000 of 25000\n",
      "Review 17000 of 25000\n",
      "Review 18000 of 25000\n",
      "Review 19000 of 25000\n",
      "Review 20000 of 25000\n",
      "Review 21000 of 25000\n",
      "Review 22000 of 25000\n",
      "Review 23000 of 25000\n",
      "Review 24000 of 25000\n"
     ]
    }
   ],
   "source": [
    "# ****************************************************************\n",
    "# Calculate average feature vectors for training and testing sets,\n",
    "# using the functions we defined above. Notice that we now use stop word\n",
    "# removal.\n",
    "\n",
    "clean_train_reviews = []\n",
    "for review in train[\"review\"]:\n",
    "    #clean_train_reviews.append( review_to_wordlist( review, \\\n",
    "        #remove_stopwords=True ))\n",
    "    clean_train_reviews.append( review_to_wordlist( review ))\n",
    "\n",
    "trainDataVecs = getAvgFeatureVecs( clean_train_reviews, model, num_features )\n",
    "\n",
    "print(\"Creating average feature vecs for test reviews\")\n",
    "clean_test_reviews = []\n",
    "for review in test[\"review\"]:\n",
    "    #clean_test_reviews.append( review_to_wordlist( review, remove_stopwords=True ))\n",
    "    clean_test_reviews.append( review_to_wordlist( review ))\n",
    "\n",
    "testDataVecs = getAvgFeatureVecs( clean_test_reviews, model, num_features )"
   ]
  },
  {
   "cell_type": "code",
   "execution_count": 36,
   "metadata": {},
   "outputs": [
    {
     "data": {
      "text/plain": [
       "pandas.core.frame.DataFrame"
      ]
     },
     "execution_count": 36,
     "metadata": {},
     "output_type": "execute_result"
    }
   ],
   "source": [
    "type(train)"
   ]
  },
  {
   "cell_type": "code",
   "execution_count": 37,
   "metadata": {},
   "outputs": [
    {
     "data": {
      "text/plain": [
       "numpy.ndarray"
      ]
     },
     "execution_count": 37,
     "metadata": {},
     "output_type": "execute_result"
    }
   ],
   "source": [
    "type(trainDataVecs)"
   ]
  },
  {
   "cell_type": "code",
   "execution_count": 26,
   "metadata": {},
   "outputs": [
    {
     "name": "stdout",
     "output_type": "stream",
     "text": [
      "Fitting a random forest to labeled training data...\n"
     ]
    }
   ],
   "source": [
    "# Fit a random forest to the training data, using 100 trees\n",
    "from sklearn.ensemble import RandomForestClassifier\n",
    "forest = RandomForestClassifier( n_estimators = 100 )\n",
    "\n",
    "print(\"Fitting a random forest to labeled training data...\")\n",
    "forest = forest.fit( trainDataVecs, train[\"sentiment\"] )\n",
    "\n",
    "# Test & extract results \n",
    "result = forest.predict( testDataVecs )\n",
    "\n",
    "# Write the test results \n",
    "output = pd.DataFrame( data={\"id\":test[\"id\"], \"sentiment\":result} )\n",
    "output.to_csv( \"Word2Vec_AverageVectors.csv\", index=False, quoting=3 )"
   ]
  },
  {
   "cell_type": "code",
   "execution_count": 27,
   "metadata": {},
   "outputs": [
    {
     "name": "stdout",
     "output_type": "stream",
     "text": [
      "               id  sentiment\n",
      "0      \"12311_10\"          1\n",
      "1        \"8348_2\"          0\n",
      "2        \"5828_4\"          1\n",
      "3        \"7186_2\"          0\n",
      "4       \"12128_7\"          1\n",
      "...           ...        ...\n",
      "24995   \"2155_10\"          0\n",
      "24996     \"59_10\"          1\n",
      "24997    \"2531_1\"          0\n",
      "24998    \"7772_8\"          1\n",
      "24999  \"11465_10\"          1\n",
      "\n",
      "[25000 rows x 2 columns]\n"
     ]
    }
   ],
   "source": [
    "print(output)"
   ]
  },
  {
   "cell_type": "raw",
   "metadata": {},
   "source": [
    "#endding before kmeans"
   ]
  },
  {
   "cell_type": "raw",
   "metadata": {},
   "source": [
    "from sklearn.cluster import KMeans\n",
    "import time\n",
    "\n",
    "start = time.time() # Start time\n",
    "\n",
    "# Set \"k\" (num_clusters) to be 1/5th of the vocabulary size, or an\n",
    "# average of 5 words per cluster\n",
    "word_vectors = model.wv.syn0\n",
    "num_clusters = word_vectors.shape[0] / 5\n",
    "\n",
    "# Initalize a k-means object and use it to extract centroids\n",
    "kmeans_clustering = KMeans( n_clusters = int(num_clusters) )\n",
    "idx = kmeans_clustering.fit_predict( word_vectors )\n",
    "\n",
    "# Get the end time and print how long the process took\n",
    "end = time.time()\n",
    "elapsed = end - start\n",
    "print(\"Time taken for K Means clustering: \", elapsed, \"seconds.\")"
   ]
  },
  {
   "cell_type": "raw",
   "metadata": {},
   "source": [
    "# Create a Word / Index dictionary, mapping each vocabulary word to\n",
    "# a cluster number                                                                                            \n",
    "word_centroid_map = dict(zip( model.wv.index2word, idx ))"
   ]
  },
  {
   "cell_type": "raw",
   "metadata": {},
   "source": [
    "word_centroid_map, len(word_centroid_map.keys()), "
   ]
  },
  {
   "cell_type": "raw",
   "metadata": {},
   "source": [
    "#key, val = word_centroid_map.items()[2]\n",
    "type(word_centroid_map)"
   ]
  },
  {
   "cell_type": "raw",
   "metadata": {
    "scrolled": true
   },
   "source": [
    "# For the first 10 clusters\n",
    "for cluster in range(0,10):\n",
    "    #\n",
    "    # Print the cluster number  \n",
    "    #print \"\\nCluster %d\" #% cluster\n",
    "    print(f\"\\nCluster {cluster}\")\n",
    "    #\n",
    "    # Find all of the words for that cluster number, and print them out\n",
    "    a_view = word_centroid_map.items()\n",
    "    tuples = list(a_view)\n",
    "    words = []\n",
    "    for i in range(0,len(word_centroid_map.values())):\n",
    "        if( tuples[i][1] == cluster ):\n",
    "            words.append(tuples[i][0])\n",
    "    print(words)"
   ]
  },
  {
   "cell_type": "code",
   "execution_count": 33,
   "metadata": {},
   "outputs": [],
   "source": [
    "def create_bag_of_centroids( wordlist, word_centroid_map ):\n",
    "    #\n",
    "    # The number of clusters is equal to the highest cluster index\n",
    "    # in the word / centroid map\n",
    "    num_centroids = max( word_centroid_map.values() ) + 1\n",
    "    #\n",
    "    # Pre-allocate the bag of centroids vector (for speed)\n",
    "    bag_of_centroids = np.zeros( num_centroids, dtype=\"float32\" )\n",
    "    #\n",
    "    # Loop over the words in the review. If the word is in the vocabulary,\n",
    "    # find which cluster it belongs to, and increment that cluster count \n",
    "    # by one\n",
    "    for word in wordlist:\n",
    "        if word in word_centroid_map:\n",
    "            index = word_centroid_map[word]\n",
    "            bag_of_centroids[index] += 1\n",
    "    #\n",
    "    # Return the \"bag of centroids\"\n",
    "    return bag_of_centroids"
   ]
  },
  {
   "cell_type": "raw",
   "metadata": {},
   "source": [
    "# Pre-allocate an array for the training set bags of centroids (for speed)\n",
    "train_centroids = np.zeros( (train[\"review\"].size, int(num_clusters)), \\\n",
    "    dtype=\"float32\" )\n",
    "\n",
    "# Transform the training set reviews into bags of centroids\n",
    "counter = 0\n",
    "for review in clean_train_reviews:\n",
    "    train_centroids[counter] = create_bag_of_centroids( review, \\\n",
    "        word_centroid_map )\n",
    "    counter += 1\n",
    "\n",
    "# Repeat for test reviews \n",
    "test_centroids = np.zeros((test[\"review\"].size, int(num_clusters)), \\\n",
    "    dtype=\"float32\" )\n",
    "\n",
    "counter = 0\n",
    "for review in clean_test_reviews:\n",
    "    test_centroids[counter] = create_bag_of_centroids( review, \\\n",
    "        word_centroid_map )\n",
    "    counter += 1"
   ]
  },
  {
   "cell_type": "raw",
   "metadata": {},
   "source": [
    "# This cell take some minutes\n",
    "# Fit a random forest and extract predictions \n",
    "forest = RandomForestClassifier(n_estimators = 100)\n",
    "\n",
    "# Fitting the forest may take a few minutes\n",
    "print(\"Fitting a random forest to labeled training data...\")\n",
    "forest = forest.fit(train_centroids,train[\"sentiment\"])\n",
    "result = forest.predict(test_centroids)\n",
    "\n",
    "# Write the test results \n",
    "output = pd.DataFrame(data={\"id\":test[\"id\"], \"sentiment\":result})\n",
    "output.to_csv( \"BagOfCentroids.csv\", index=False, quoting=3 )"
   ]
  },
  {
   "cell_type": "code",
   "execution_count": null,
   "metadata": {},
   "outputs": [],
   "source": []
  },
  {
   "cell_type": "code",
   "execution_count": null,
   "metadata": {},
   "outputs": [],
   "source": []
  },
  {
   "cell_type": "code",
   "execution_count": null,
   "metadata": {},
   "outputs": [],
   "source": []
  },
  {
   "cell_type": "code",
   "execution_count": null,
   "metadata": {},
   "outputs": [],
   "source": []
  },
  {
   "cell_type": "code",
   "execution_count": null,
   "metadata": {},
   "outputs": [],
   "source": []
  }
 ],
 "metadata": {
  "kernelspec": {
   "display_name": "Python 3",
   "language": "python",
   "name": "python3"
  },
  "language_info": {
   "codemirror_mode": {
    "name": "ipython",
    "version": 3
   },
   "file_extension": ".py",
   "mimetype": "text/x-python",
   "name": "python",
   "nbconvert_exporter": "python",
   "pygments_lexer": "ipython3",
   "version": "3.8.3"
  }
 },
 "nbformat": 4,
 "nbformat_minor": 4
}
