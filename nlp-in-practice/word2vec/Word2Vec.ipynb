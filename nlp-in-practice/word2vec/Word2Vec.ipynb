{
 "cells": [
  {
   "cell_type": "markdown",
   "metadata": {},
   "source": [
    "# Getting started with Word2Vec in Gensim and making it work!\n",
    "\n",
    "The idea behind Word2Vec is pretty simple. We are making and assumption that you can tell the meaning of a word by the company it keeps. This is analogous to the saying *show me your friends, and I'll tell who you are*. So if you have two words that have very similar neighbors (i.e. the usage context is about the same), then these words are probably quite similar in meaning or are at least highly related. For example, the words `shocked`,`appalled` and `astonished` are typically used in a similar context. \n",
    "\n",
    "In this tutorial, you will learn how to use the Gensim implementation of Word2Vec and actually get it to work! I have heard a lot of complaints about poor performance etc, but its really a combination of two things, (1) your input data and (2) your parameter settings. Note that the training algorithms in this package were ported from the [original Word2Vec implementation by Google](https://arxiv.org/pdf/1301.3781.pdf) and extended with additional functionality."
   ]
  },
  {
   "cell_type": "markdown",
   "metadata": {},
   "source": [
    "### Imports and logging\n",
    "\n",
    "First, we start with our imports and get logging established:"
   ]
  },
  {
   "cell_type": "code",
   "execution_count": 11,
   "metadata": {},
   "outputs": [],
   "source": [
    "# imports needed and set up logging\n",
    "import gzip\n",
    "import gensim \n",
    "import logging\n",
    "\n",
    "logging.basicConfig(format='%(asctime)s : %(levelname)s : %(message)s', level=logging.INFO)\n"
   ]
  },
  {
   "cell_type": "markdown",
   "metadata": {},
   "source": [
    "### Dataset \n",
    "Next, is our dataset. The secret to getting Word2Vec really working for you is to have lots and lots of text data. In this case I am going to use data from the [OpinRank](http://kavita-ganesan.com/entity-ranking-data/) dataset. This dataset has full user reviews of cars and hotels. I have specifically concatenated all of the hotel reviews into one big file which is about 97MB compressed and 229MB uncompressed. We will use the compressed file for this tutorial. Each line in this file represents a hotel review. You can download the OpinRank Word2Vec dataset here.\n",
    "\n",
    "To avoid confusion, while gensim’s word2vec tutorial says that you need to pass it a sequence of sentences as its input, you can always pass it a whole review as a sentence (i.e. a much larger size of text), and it should not make much of a difference. \n",
    "\n",
    "Now, let's take a closer look at this data below by printing the first line. You can see that this is a pretty hefty review."
   ]
  },
  {
   "cell_type": "code",
   "execution_count": 12,
   "metadata": {},
   "outputs": [
    {
     "name": "stdout",
     "output_type": "stream",
     "text": [
      "b\"Oct 12 2009 \\tNice trendy hotel location not too bad.\\tI stayed in this hotel for one night. As this is a fairly new place some of the taxi drivers did not know where it was and/or did not want to drive there. Once I have eventually arrived at the hotel, I was very pleasantly surprised with the decor of the lobby/ground floor area. It was very stylish and modern. I found the reception's staff geeting me with 'Aloha' a bit out of place, but I guess they are briefed to say that to keep up the coroporate image.As I have a Starwood Preferred Guest member, I was given a small gift upon-check in. It was only a couple of fridge magnets in a gift box, but nevertheless a nice gesture.My room was nice and roomy, there are tea and coffee facilities in each room and you get two complimentary bottles of water plus some toiletries by 'bliss'.The location is not great. It is at the last metro stop and you then need to take a taxi, but if you are not planning on going to see the historic sites in Beijing, then you will be ok.I chose to have some breakfast in the hotel, which was really tasty and there was a good selection of dishes. There are a couple of computers to use in the communal area, as well as a pool table. There is also a small swimming pool and a gym area.I would definitely stay in this hotel again, but only if I did not plan to travel to central Beijing, as it can take a long time. The location is ok if you plan to do a lot of shopping, as there is a big shopping centre just few minutes away from the hotel and there are plenty of eating options around, including restaurants that serve a dog meat!\\t\\r\\n\"\n"
     ]
    }
   ],
   "source": [
    "data_file=\"reviews_data.txt.gz\"\n",
    "\n",
    "with gzip.open ('reviews_data.txt.gz', 'rb') as f:\n",
    "    for i,line in enumerate (f):\n",
    "        print(line)\n",
    "        break\n"
   ]
  },
  {
   "cell_type": "code",
   "execution_count": 13,
   "metadata": {},
   "outputs": [
    {
     "name": "stderr",
     "output_type": "stream",
     "text": [
      "2020-08-15 21:23:11,547 : INFO : reading file reviews_data.txt.gz...this may take a while\n",
      "2020-08-15 21:23:11,550 : INFO : read 0 reviews\n",
      "2020-08-15 21:23:13,318 : INFO : read 10000 reviews\n",
      "2020-08-15 21:23:15,165 : INFO : read 20000 reviews\n",
      "2020-08-15 21:23:17,176 : INFO : read 30000 reviews\n",
      "2020-08-15 21:23:19,086 : INFO : read 40000 reviews\n",
      "2020-08-15 21:23:21,393 : INFO : read 50000 reviews\n",
      "2020-08-15 21:23:23,543 : INFO : read 60000 reviews\n",
      "2020-08-15 21:23:25,437 : INFO : read 70000 reviews\n",
      "2020-08-15 21:23:27,034 : INFO : read 80000 reviews\n",
      "2020-08-15 21:23:29,660 : INFO : read 90000 reviews\n",
      "2020-08-15 21:23:31,215 : INFO : read 100000 reviews\n",
      "2020-08-15 21:23:32,789 : INFO : read 110000 reviews\n",
      "2020-08-15 21:23:34,460 : INFO : read 120000 reviews\n",
      "2020-08-15 21:23:36,094 : INFO : read 130000 reviews\n",
      "2020-08-15 21:23:37,864 : INFO : read 140000 reviews\n",
      "2020-08-15 21:23:39,445 : INFO : read 150000 reviews\n",
      "2020-08-15 21:23:41,295 : INFO : read 160000 reviews\n",
      "2020-08-15 21:23:42,907 : INFO : read 170000 reviews\n",
      "2020-08-15 21:23:44,611 : INFO : read 180000 reviews\n",
      "2020-08-15 21:23:46,225 : INFO : read 190000 reviews\n",
      "2020-08-15 21:23:48,000 : INFO : read 200000 reviews\n",
      "2020-08-15 21:23:50,899 : INFO : read 210000 reviews\n",
      "2020-08-15 21:23:52,611 : INFO : read 220000 reviews\n",
      "2020-08-15 21:23:54,208 : INFO : read 230000 reviews\n",
      "2020-08-15 21:23:55,839 : INFO : read 240000 reviews\n",
      "2020-08-15 21:23:57,631 : INFO : read 250000 reviews\n",
      "2020-08-15 21:23:59,477 : INFO : Done reading data file\n"
     ]
    }
   ],
   "source": [
    "\n",
    "def read_input(input_file):\n",
    "    \"\"\"This method reads the input file which is in gzip format\"\"\"\n",
    "    \n",
    "    logging.info(\"reading file {0}...this may take a while\".format(input_file))\n",
    "    \n",
    "    with gzip.open (input_file, 'rb') as f:\n",
    "        for i, line in enumerate (f): \n",
    "\n",
    "            if (i%10000==0):\n",
    "                logging.info (\"read {0} reviews\".format (i))\n",
    "            # do some pre-processing and return a list of words for each review text\n",
    "            yield gensim.utils.simple_preprocess (line)\n",
    "\n",
    "# read the tokenized reviews into a list\n",
    "# each review item becomes a serries of words\n",
    "# so this becomes a list of lists\n",
    "documents = list (read_input (data_file))\n",
    "logging.info (\"Done reading data file\")    "
   ]
  },
  {
   "cell_type": "markdown",
   "metadata": {},
   "source": [
    "## Training the Word2Vec model\n",
    "\n",
    "Training the model is fairly straightforward. You just instantiate Word2Vec and pass the reviews that we read in the previous step (the `documents`). So, we are essentially passing on a list of lists. Where each list within the main list contains a set of tokens from a user review. Word2Vec uses all these tokens to internally create a vocabulary. And by vocabulary, I mean a set of unique words.\n",
    "\n",
    "After building the vocabulary, we just need to call `train(...)` to start training the Word2Vec model. Training on the [OpinRank](http://kavita-ganesan.com/entity-ranking-data/) dataset takes about 10 minutes so please be patient while running your code on this dataset.\n",
    "\n",
    "Behind the scenes we are actually training a simple neural network with a single hidden layer. But, we are actually not going to use the neural network after training. Instead, the goal is to learn the weights of the hidden layer. These weights are essentially the word vectors that we’re trying to learn. "
   ]
  },
  {
   "cell_type": "markdown",
   "metadata": {},
   "source": [
    "### Read files into a list\n",
    "Now that we've had a sneak peak of our dataset, we can read it into a list so that we can pass this on to the Word2Vec model. Notice in the code below, that I am directly reading the \n",
    "compressed file. I'm also doing a mild pre-processing of the reviews using `gensim.utils.simple_preprocess (line)`. This does some basic pre-processing such as tokenization, lowercasing, etc and returns back a list of tokens (words). Documentation of this pre-processing method can be found on the official [Gensim documentation site](https://radimrehurek.com/gensim/utils.html). \n",
    "\n"
   ]
  },
  {
   "cell_type": "code",
   "execution_count": 14,
   "metadata": {},
   "outputs": [
    {
     "name": "stderr",
     "output_type": "stream",
     "text": [
      "2020-08-15 21:24:10,465 : WARNING : consider setting layer size to a multiple of 4 for greater performance\n",
      "2020-08-15 21:24:10,467 : INFO : collecting all words and their counts\n",
      "2020-08-15 21:24:10,468 : INFO : PROGRESS: at sentence #0, processed 0 words, keeping 0 word types\n",
      "2020-08-15 21:24:10,758 : INFO : PROGRESS: at sentence #10000, processed 1655714 words, keeping 25777 word types\n",
      "2020-08-15 21:24:11,033 : INFO : PROGRESS: at sentence #20000, processed 3317863 words, keeping 35016 word types\n",
      "2020-08-15 21:24:11,341 : INFO : PROGRESS: at sentence #30000, processed 5264072 words, keeping 47518 word types\n",
      "2020-08-15 21:24:11,630 : INFO : PROGRESS: at sentence #40000, processed 7081746 words, keeping 56675 word types\n",
      "2020-08-15 21:24:11,964 : INFO : PROGRESS: at sentence #50000, processed 9089491 words, keeping 63744 word types\n",
      "2020-08-15 21:24:12,309 : INFO : PROGRESS: at sentence #60000, processed 11013726 words, keeping 76786 word types\n",
      "2020-08-15 21:24:12,560 : INFO : PROGRESS: at sentence #70000, processed 12637528 words, keeping 83199 word types\n",
      "2020-08-15 21:24:12,789 : INFO : PROGRESS: at sentence #80000, processed 14099754 words, keeping 88459 word types\n",
      "2020-08-15 21:24:13,061 : INFO : PROGRESS: at sentence #90000, processed 15662152 words, keeping 93357 word types\n",
      "2020-08-15 21:24:13,301 : INFO : PROGRESS: at sentence #100000, processed 17164490 words, keeping 97886 word types\n",
      "2020-08-15 21:24:13,535 : INFO : PROGRESS: at sentence #110000, processed 18652295 words, keeping 102132 word types\n",
      "2020-08-15 21:24:13,774 : INFO : PROGRESS: at sentence #120000, processed 20152532 words, keeping 105923 word types\n",
      "2020-08-15 21:24:14,039 : INFO : PROGRESS: at sentence #130000, processed 21684333 words, keeping 110104 word types\n",
      "2020-08-15 21:24:14,302 : INFO : PROGRESS: at sentence #140000, processed 23330209 words, keeping 114108 word types\n",
      "2020-08-15 21:24:14,551 : INFO : PROGRESS: at sentence #150000, processed 24838757 words, keeping 118174 word types\n",
      "2020-08-15 21:24:14,808 : INFO : PROGRESS: at sentence #160000, processed 26390913 words, keeping 118670 word types\n",
      "2020-08-15 21:24:15,056 : INFO : PROGRESS: at sentence #170000, processed 27913919 words, keeping 123356 word types\n",
      "2020-08-15 21:24:15,326 : INFO : PROGRESS: at sentence #180000, processed 29535615 words, keeping 126748 word types\n",
      "2020-08-15 21:24:15,572 : INFO : PROGRESS: at sentence #190000, processed 31096462 words, keeping 129847 word types\n",
      "2020-08-15 21:24:15,840 : INFO : PROGRESS: at sentence #200000, processed 32805274 words, keeping 133255 word types\n",
      "2020-08-15 21:24:16,106 : INFO : PROGRESS: at sentence #210000, processed 34434201 words, keeping 136364 word types\n",
      "2020-08-15 21:24:16,380 : INFO : PROGRESS: at sentence #220000, processed 36083485 words, keeping 139418 word types\n",
      "2020-08-15 21:24:16,618 : INFO : PROGRESS: at sentence #230000, processed 37571765 words, keeping 142399 word types\n",
      "2020-08-15 21:24:16,868 : INFO : PROGRESS: at sentence #240000, processed 39138193 words, keeping 145232 word types\n",
      "2020-08-15 21:24:17,125 : INFO : PROGRESS: at sentence #250000, processed 40695052 words, keeping 147966 word types\n",
      "2020-08-15 21:24:17,273 : INFO : collected 150059 word types from a corpus of 41519358 raw words and 255404 sentences\n",
      "2020-08-15 21:24:17,273 : INFO : Loading a fresh vocabulary\n",
      "2020-08-15 21:24:17,406 : INFO : effective_min_count=2 retains 70537 unique words (47% of original 150059, drops 79522)\n",
      "2020-08-15 21:24:17,407 : INFO : effective_min_count=2 leaves 41439836 word corpus (99% of original 41519358, drops 79522)\n",
      "2020-08-15 21:24:17,588 : INFO : deleting the raw counts dictionary of 150059 items\n",
      "2020-08-15 21:24:17,592 : INFO : sample=0.001 downsamples 55 most-common words\n",
      "2020-08-15 21:24:17,593 : INFO : downsampling leaves estimated 30349251 word corpus (73.2% of prior 41439836)\n",
      "2020-08-15 21:24:17,771 : INFO : estimated required memory for 70537 words and 150 dimensions: 119912900 bytes\n",
      "2020-08-15 21:24:17,772 : INFO : resetting layer weights\n",
      "2020-08-15 21:24:29,131 : INFO : training model with 10 workers on 70537 vocabulary and 150 features, using sg=0 hs=0 sample=0.001 negative=5 window=10\n",
      "2020-08-15 21:24:30,138 : INFO : EPOCH 1 - PROGRESS: at 5.21% examples, 1608928 words/s, in_qsize 18, out_qsize 1\n",
      "2020-08-15 21:24:31,143 : INFO : EPOCH 1 - PROGRESS: at 10.02% examples, 1593572 words/s, in_qsize 17, out_qsize 2\n",
      "2020-08-15 21:24:32,143 : INFO : EPOCH 1 - PROGRESS: at 14.36% examples, 1579972 words/s, in_qsize 18, out_qsize 1\n",
      "2020-08-15 21:24:33,146 : INFO : EPOCH 1 - PROGRESS: at 18.78% examples, 1578521 words/s, in_qsize 18, out_qsize 1\n",
      "2020-08-15 21:24:34,150 : INFO : EPOCH 1 - PROGRESS: at 23.01% examples, 1567045 words/s, in_qsize 17, out_qsize 2\n",
      "2020-08-15 21:24:35,150 : INFO : EPOCH 1 - PROGRESS: at 28.44% examples, 1581964 words/s, in_qsize 18, out_qsize 1\n",
      "2020-08-15 21:24:36,156 : INFO : EPOCH 1 - PROGRESS: at 34.02% examples, 1581353 words/s, in_qsize 19, out_qsize 0\n",
      "2020-08-15 21:24:37,168 : INFO : EPOCH 1 - PROGRESS: at 39.38% examples, 1569602 words/s, in_qsize 17, out_qsize 2\n",
      "2020-08-15 21:24:38,183 : INFO : EPOCH 1 - PROGRESS: at 45.04% examples, 1565510 words/s, in_qsize 18, out_qsize 1\n",
      "2020-08-15 21:24:39,193 : INFO : EPOCH 1 - PROGRESS: at 50.66% examples, 1569460 words/s, in_qsize 18, out_qsize 1\n",
      "2020-08-15 21:24:40,198 : INFO : EPOCH 1 - PROGRESS: at 56.16% examples, 1573474 words/s, in_qsize 19, out_qsize 0\n",
      "2020-08-15 21:24:41,199 : INFO : EPOCH 1 - PROGRESS: at 61.61% examples, 1574902 words/s, in_qsize 19, out_qsize 0\n",
      "2020-08-15 21:24:42,207 : INFO : EPOCH 1 - PROGRESS: at 67.17% examples, 1575203 words/s, in_qsize 19, out_qsize 0\n",
      "2020-08-15 21:24:43,207 : INFO : EPOCH 1 - PROGRESS: at 72.42% examples, 1576382 words/s, in_qsize 19, out_qsize 0\n",
      "2020-08-15 21:24:44,215 : INFO : EPOCH 1 - PROGRESS: at 77.70% examples, 1577901 words/s, in_qsize 18, out_qsize 1\n",
      "2020-08-15 21:24:45,223 : INFO : EPOCH 1 - PROGRESS: at 82.80% examples, 1575250 words/s, in_qsize 18, out_qsize 1\n",
      "2020-08-15 21:24:46,225 : INFO : EPOCH 1 - PROGRESS: at 88.03% examples, 1573463 words/s, in_qsize 19, out_qsize 0\n",
      "2020-08-15 21:24:47,230 : INFO : EPOCH 1 - PROGRESS: at 93.28% examples, 1570287 words/s, in_qsize 19, out_qsize 0\n",
      "2020-08-15 21:24:48,233 : INFO : EPOCH 1 - PROGRESS: at 98.63% examples, 1568576 words/s, in_qsize 20, out_qsize 2\n",
      "2020-08-15 21:24:48,452 : INFO : worker thread finished; awaiting finish of 9 more threads\n",
      "2020-08-15 21:24:48,459 : INFO : worker thread finished; awaiting finish of 8 more threads\n",
      "2020-08-15 21:24:48,461 : INFO : worker thread finished; awaiting finish of 7 more threads\n",
      "2020-08-15 21:24:48,464 : INFO : worker thread finished; awaiting finish of 6 more threads\n",
      "2020-08-15 21:24:48,468 : INFO : worker thread finished; awaiting finish of 5 more threads\n",
      "2020-08-15 21:24:48,474 : INFO : worker thread finished; awaiting finish of 4 more threads\n",
      "2020-08-15 21:24:48,477 : INFO : worker thread finished; awaiting finish of 3 more threads\n",
      "2020-08-15 21:24:48,480 : INFO : worker thread finished; awaiting finish of 2 more threads\n",
      "2020-08-15 21:24:48,481 : INFO : worker thread finished; awaiting finish of 1 more threads\n",
      "2020-08-15 21:24:48,485 : INFO : worker thread finished; awaiting finish of 0 more threads\n",
      "2020-08-15 21:24:48,486 : INFO : EPOCH - 1 : training on 41519358 raw words (30349020 effective words) took 19.3s, 1568508 effective words/s\n",
      "2020-08-15 21:24:49,504 : INFO : EPOCH 2 - PROGRESS: at 3.88% examples, 1188527 words/s, in_qsize 17, out_qsize 2\n",
      "2020-08-15 21:24:50,519 : INFO : EPOCH 2 - PROGRESS: at 6.94% examples, 1051575 words/s, in_qsize 19, out_qsize 0\n",
      "2020-08-15 21:24:51,528 : INFO : EPOCH 2 - PROGRESS: at 9.60% examples, 991192 words/s, in_qsize 19, out_qsize 0\n",
      "2020-08-15 21:24:52,543 : INFO : EPOCH 2 - PROGRESS: at 12.92% examples, 1051907 words/s, in_qsize 17, out_qsize 2\n",
      "2020-08-15 21:24:53,551 : INFO : EPOCH 2 - PROGRESS: at 17.32% examples, 1145771 words/s, in_qsize 17, out_qsize 2\n",
      "2020-08-15 21:24:54,552 : INFO : EPOCH 2 - PROGRESS: at 21.72% examples, 1214202 words/s, in_qsize 18, out_qsize 1\n",
      "2020-08-15 21:24:55,559 : INFO : EPOCH 2 - PROGRESS: at 26.16% examples, 1259186 words/s, in_qsize 18, out_qsize 1\n"
     ]
    },
    {
     "name": "stderr",
     "output_type": "stream",
     "text": [
      "2020-08-15 21:24:56,561 : INFO : EPOCH 2 - PROGRESS: at 31.54% examples, 1284144 words/s, in_qsize 20, out_qsize 1\n",
      "2020-08-15 21:24:57,575 : INFO : EPOCH 2 - PROGRESS: at 34.62% examples, 1240188 words/s, in_qsize 17, out_qsize 2\n",
      "2020-08-15 21:24:58,586 : INFO : EPOCH 2 - PROGRESS: at 37.70% examples, 1203941 words/s, in_qsize 20, out_qsize 2\n",
      "2020-08-15 21:24:59,589 : INFO : EPOCH 2 - PROGRESS: at 40.89% examples, 1175662 words/s, in_qsize 19, out_qsize 0\n",
      "2020-08-15 21:25:00,599 : INFO : EPOCH 2 - PROGRESS: at 46.36% examples, 1200774 words/s, in_qsize 18, out_qsize 1\n",
      "2020-08-15 21:25:01,610 : INFO : EPOCH 2 - PROGRESS: at 51.77% examples, 1227875 words/s, in_qsize 20, out_qsize 0\n",
      "2020-08-15 21:25:02,615 : INFO : EPOCH 2 - PROGRESS: at 57.05% examples, 1250893 words/s, in_qsize 19, out_qsize 0\n",
      "2020-08-15 21:25:03,626 : INFO : EPOCH 2 - PROGRESS: at 62.34% examples, 1269116 words/s, in_qsize 17, out_qsize 2\n",
      "2020-08-15 21:25:04,643 : INFO : EPOCH 2 - PROGRESS: at 65.35% examples, 1240094 words/s, in_qsize 20, out_qsize 0\n",
      "2020-08-15 21:25:05,652 : INFO : EPOCH 2 - PROGRESS: at 68.02% examples, 1213954 words/s, in_qsize 19, out_qsize 1\n",
      "2020-08-15 21:25:06,659 : INFO : EPOCH 2 - PROGRESS: at 70.72% examples, 1192678 words/s, in_qsize 19, out_qsize 0\n",
      "2020-08-15 21:25:07,666 : INFO : EPOCH 2 - PROGRESS: at 75.09% examples, 1196858 words/s, in_qsize 18, out_qsize 1\n",
      "2020-08-15 21:25:08,676 : INFO : EPOCH 2 - PROGRESS: at 80.18% examples, 1216621 words/s, in_qsize 19, out_qsize 0\n",
      "2020-08-15 21:25:09,677 : INFO : EPOCH 2 - PROGRESS: at 85.27% examples, 1232707 words/s, in_qsize 18, out_qsize 1\n",
      "2020-08-15 21:25:10,682 : INFO : EPOCH 2 - PROGRESS: at 90.71% examples, 1245782 words/s, in_qsize 19, out_qsize 0\n",
      "2020-08-15 21:25:11,706 : INFO : EPOCH 2 - PROGRESS: at 93.57% examples, 1227196 words/s, in_qsize 19, out_qsize 0\n",
      "2020-08-15 21:25:12,706 : INFO : EPOCH 2 - PROGRESS: at 96.51% examples, 1211688 words/s, in_qsize 19, out_qsize 0\n",
      "2020-08-15 21:25:13,716 : INFO : EPOCH 2 - PROGRESS: at 99.18% examples, 1193731 words/s, in_qsize 20, out_qsize 0\n",
      "2020-08-15 21:25:13,918 : INFO : worker thread finished; awaiting finish of 9 more threads\n",
      "2020-08-15 21:25:13,940 : INFO : worker thread finished; awaiting finish of 8 more threads\n",
      "2020-08-15 21:25:13,942 : INFO : worker thread finished; awaiting finish of 7 more threads\n",
      "2020-08-15 21:25:13,949 : INFO : worker thread finished; awaiting finish of 6 more threads\n",
      "2020-08-15 21:25:13,952 : INFO : worker thread finished; awaiting finish of 5 more threads\n",
      "2020-08-15 21:25:13,967 : INFO : worker thread finished; awaiting finish of 4 more threads\n",
      "2020-08-15 21:25:13,969 : INFO : worker thread finished; awaiting finish of 3 more threads\n",
      "2020-08-15 21:25:13,978 : INFO : worker thread finished; awaiting finish of 2 more threads\n",
      "2020-08-15 21:25:13,990 : INFO : worker thread finished; awaiting finish of 1 more threads\n",
      "2020-08-15 21:25:13,992 : INFO : worker thread finished; awaiting finish of 0 more threads\n",
      "2020-08-15 21:25:13,993 : INFO : EPOCH - 2 : training on 41519358 raw words (30346504 effective words) took 25.5s, 1189937 effective words/s\n",
      "2020-08-15 21:25:15,007 : INFO : EPOCH 3 - PROGRESS: at 4.32% examples, 1321802 words/s, in_qsize 19, out_qsize 0\n",
      "2020-08-15 21:25:16,007 : INFO : EPOCH 3 - PROGRESS: at 9.14% examples, 1423346 words/s, in_qsize 17, out_qsize 2\n",
      "2020-08-15 21:25:17,008 : INFO : EPOCH 3 - PROGRESS: at 13.30% examples, 1456375 words/s, in_qsize 20, out_qsize 0\n",
      "2020-08-15 21:25:18,037 : INFO : EPOCH 3 - PROGRESS: at 16.22% examples, 1335194 words/s, in_qsize 19, out_qsize 0\n",
      "2020-08-15 21:25:19,037 : INFO : EPOCH 3 - PROGRESS: at 17.98% examples, 1200155 words/s, in_qsize 18, out_qsize 1\n",
      "2020-08-15 21:25:20,046 : INFO : EPOCH 3 - PROGRESS: at 19.76% examples, 1111164 words/s, in_qsize 18, out_qsize 1\n",
      "2020-08-15 21:25:21,047 : INFO : EPOCH 3 - PROGRESS: at 22.24% examples, 1073358 words/s, in_qsize 20, out_qsize 0\n",
      "2020-08-15 21:25:22,053 : INFO : EPOCH 3 - PROGRESS: at 25.88% examples, 1096644 words/s, in_qsize 19, out_qsize 0\n",
      "2020-08-15 21:25:23,055 : INFO : EPOCH 3 - PROGRESS: at 31.70% examples, 1149821 words/s, in_qsize 19, out_qsize 0\n",
      "2020-08-15 21:25:24,057 : INFO : EPOCH 3 - PROGRESS: at 36.68% examples, 1178903 words/s, in_qsize 19, out_qsize 0\n",
      "2020-08-15 21:25:25,067 : INFO : EPOCH 3 - PROGRESS: at 41.50% examples, 1192396 words/s, in_qsize 18, out_qsize 1\n",
      "2020-08-15 21:25:26,069 : INFO : EPOCH 3 - PROGRESS: at 44.62% examples, 1164431 words/s, in_qsize 19, out_qsize 0\n",
      "2020-08-15 21:25:27,120 : INFO : EPOCH 3 - PROGRESS: at 47.80% examples, 1140752 words/s, in_qsize 19, out_qsize 1\n",
      "2020-08-15 21:25:28,142 : INFO : EPOCH 3 - PROGRESS: at 50.99% examples, 1123065 words/s, in_qsize 18, out_qsize 1\n",
      "2020-08-15 21:25:29,154 : INFO : EPOCH 3 - PROGRESS: at 54.55% examples, 1119775 words/s, in_qsize 18, out_qsize 1\n",
      "2020-08-15 21:25:30,165 : INFO : EPOCH 3 - PROGRESS: at 59.84% examples, 1143169 words/s, in_qsize 17, out_qsize 2\n",
      "2020-08-15 21:25:31,170 : INFO : EPOCH 3 - PROGRESS: at 65.19% examples, 1163789 words/s, in_qsize 19, out_qsize 0\n",
      "2020-08-15 21:25:32,170 : INFO : EPOCH 3 - PROGRESS: at 70.09% examples, 1182306 words/s, in_qsize 19, out_qsize 0\n",
      "2020-08-15 21:25:33,172 : INFO : EPOCH 3 - PROGRESS: at 72.99% examples, 1164917 words/s, in_qsize 19, out_qsize 0\n",
      "2020-08-15 21:25:34,197 : INFO : EPOCH 3 - PROGRESS: at 75.59% examples, 1144410 words/s, in_qsize 17, out_qsize 2\n",
      "2020-08-15 21:25:35,205 : INFO : EPOCH 3 - PROGRESS: at 78.13% examples, 1128574 words/s, in_qsize 17, out_qsize 2\n",
      "2020-08-15 21:25:36,211 : INFO : EPOCH 3 - PROGRESS: at 81.05% examples, 1117955 words/s, in_qsize 19, out_qsize 0\n",
      "2020-08-15 21:25:37,216 : INFO : EPOCH 3 - PROGRESS: at 86.11% examples, 1135850 words/s, in_qsize 19, out_qsize 0\n",
      "2020-08-15 21:25:38,225 : INFO : EPOCH 3 - PROGRESS: at 91.73% examples, 1153623 words/s, in_qsize 18, out_qsize 1\n",
      "2020-08-15 21:25:39,237 : INFO : EPOCH 3 - PROGRESS: at 97.07% examples, 1169325 words/s, in_qsize 16, out_qsize 3\n",
      "2020-08-15 21:25:40,063 : INFO : worker thread finished; awaiting finish of 9 more threads\n",
      "2020-08-15 21:25:40,066 : INFO : worker thread finished; awaiting finish of 8 more threads\n",
      "2020-08-15 21:25:40,069 : INFO : worker thread finished; awaiting finish of 7 more threads\n",
      "2020-08-15 21:25:40,076 : INFO : worker thread finished; awaiting finish of 6 more threads\n",
      "2020-08-15 21:25:40,083 : INFO : worker thread finished; awaiting finish of 5 more threads\n",
      "2020-08-15 21:25:40,088 : INFO : worker thread finished; awaiting finish of 4 more threads\n",
      "2020-08-15 21:25:40,090 : INFO : worker thread finished; awaiting finish of 3 more threads\n",
      "2020-08-15 21:25:40,092 : INFO : worker thread finished; awaiting finish of 2 more threads\n",
      "2020-08-15 21:25:40,099 : INFO : worker thread finished; awaiting finish of 1 more threads\n",
      "2020-08-15 21:25:40,105 : INFO : worker thread finished; awaiting finish of 0 more threads\n",
      "2020-08-15 21:25:40,106 : INFO : EPOCH - 3 : training on 41519358 raw words (30347641 effective words) took 26.1s, 1162606 effective words/s\n",
      "2020-08-15 21:25:41,124 : INFO : EPOCH 4 - PROGRESS: at 2.71% examples, 842876 words/s, in_qsize 18, out_qsize 1\n",
      "2020-08-15 21:25:42,152 : INFO : EPOCH 4 - PROGRESS: at 5.75% examples, 870691 words/s, in_qsize 18, out_qsize 1\n",
      "2020-08-15 21:25:43,169 : INFO : EPOCH 4 - PROGRESS: at 8.67% examples, 877870 words/s, in_qsize 17, out_qsize 2\n",
      "2020-08-15 21:25:44,173 : INFO : EPOCH 4 - PROGRESS: at 12.21% examples, 991560 words/s, in_qsize 18, out_qsize 1\n",
      "2020-08-15 21:25:45,176 : INFO : EPOCH 4 - PROGRESS: at 16.92% examples, 1114074 words/s, in_qsize 19, out_qsize 0\n",
      "2020-08-15 21:25:46,176 : INFO : EPOCH 4 - PROGRESS: at 20.96% examples, 1187222 words/s, in_qsize 19, out_qsize 0\n",
      "2020-08-15 21:25:47,191 : INFO : EPOCH 4 - PROGRESS: at 24.72% examples, 1203562 words/s, in_qsize 19, out_qsize 0\n",
      "2020-08-15 21:25:48,202 : INFO : EPOCH 4 - PROGRESS: at 28.04% examples, 1161922 words/s, in_qsize 17, out_qsize 2\n",
      "2020-08-15 21:25:49,207 : INFO : EPOCH 4 - PROGRESS: at 30.94% examples, 1123970 words/s, in_qsize 18, out_qsize 1\n",
      "2020-08-15 21:25:50,221 : INFO : EPOCH 4 - PROGRESS: at 33.91% examples, 1095413 words/s, in_qsize 19, out_qsize 0\n",
      "2020-08-15 21:25:51,222 : INFO : EPOCH 4 - PROGRESS: at 37.78% examples, 1096023 words/s, in_qsize 19, out_qsize 0\n"
     ]
    },
    {
     "name": "stderr",
     "output_type": "stream",
     "text": [
      "2020-08-15 21:25:52,225 : INFO : EPOCH 4 - PROGRESS: at 43.65% examples, 1139186 words/s, in_qsize 19, out_qsize 0\n",
      "2020-08-15 21:25:53,232 : INFO : EPOCH 4 - PROGRESS: at 49.00% examples, 1166586 words/s, in_qsize 18, out_qsize 1\n",
      "2020-08-15 21:25:54,260 : INFO : EPOCH 4 - PROGRESS: at 53.45% examples, 1176895 words/s, in_qsize 20, out_qsize 1\n",
      "2020-08-15 21:25:55,263 : INFO : EPOCH 4 - PROGRESS: at 56.44% examples, 1154707 words/s, in_qsize 19, out_qsize 0\n",
      "2020-08-15 21:25:56,275 : INFO : EPOCH 4 - PROGRESS: at 59.52% examples, 1137453 words/s, in_qsize 19, out_qsize 0\n",
      "2020-08-15 21:25:57,289 : INFO : EPOCH 4 - PROGRESS: at 62.58% examples, 1122211 words/s, in_qsize 19, out_qsize 0\n",
      "2020-08-15 21:25:58,289 : INFO : EPOCH 4 - PROGRESS: at 65.73% examples, 1109183 words/s, in_qsize 19, out_qsize 0\n",
      "2020-08-15 21:25:59,304 : INFO : EPOCH 4 - PROGRESS: at 70.83% examples, 1131016 words/s, in_qsize 18, out_qsize 1\n",
      "2020-08-15 21:26:00,309 : INFO : EPOCH 4 - PROGRESS: at 76.03% examples, 1151551 words/s, in_qsize 18, out_qsize 1\n",
      "2020-08-15 21:26:01,313 : INFO : EPOCH 4 - PROGRESS: at 80.96% examples, 1170013 words/s, in_qsize 16, out_qsize 3\n",
      "2020-08-15 21:26:02,331 : INFO : EPOCH 4 - PROGRESS: at 84.53% examples, 1165324 words/s, in_qsize 20, out_qsize 0\n",
      "2020-08-15 21:26:03,341 : INFO : EPOCH 4 - PROGRESS: at 87.47% examples, 1151227 words/s, in_qsize 17, out_qsize 2\n",
      "2020-08-15 21:26:04,376 : INFO : EPOCH 4 - PROGRESS: at 90.82% examples, 1140872 words/s, in_qsize 18, out_qsize 1\n",
      "2020-08-15 21:26:05,382 : INFO : EPOCH 4 - PROGRESS: at 93.87% examples, 1131063 words/s, in_qsize 19, out_qsize 0\n",
      "2020-08-15 21:26:06,386 : INFO : EPOCH 4 - PROGRESS: at 97.99% examples, 1133419 words/s, in_qsize 18, out_qsize 1\n",
      "2020-08-15 21:26:06,742 : INFO : worker thread finished; awaiting finish of 9 more threads\n",
      "2020-08-15 21:26:06,752 : INFO : worker thread finished; awaiting finish of 8 more threads\n",
      "2020-08-15 21:26:06,766 : INFO : worker thread finished; awaiting finish of 7 more threads\n",
      "2020-08-15 21:26:06,771 : INFO : worker thread finished; awaiting finish of 6 more threads\n",
      "2020-08-15 21:26:06,775 : INFO : worker thread finished; awaiting finish of 5 more threads\n",
      "2020-08-15 21:26:06,780 : INFO : worker thread finished; awaiting finish of 4 more threads\n",
      "2020-08-15 21:26:06,782 : INFO : worker thread finished; awaiting finish of 3 more threads\n",
      "2020-08-15 21:26:06,792 : INFO : worker thread finished; awaiting finish of 2 more threads\n",
      "2020-08-15 21:26:06,793 : INFO : worker thread finished; awaiting finish of 1 more threads\n",
      "2020-08-15 21:26:06,794 : INFO : worker thread finished; awaiting finish of 0 more threads\n",
      "2020-08-15 21:26:06,795 : INFO : EPOCH - 4 : training on 41519358 raw words (30351965 effective words) took 26.7s, 1137555 effective words/s\n",
      "2020-08-15 21:26:07,802 : INFO : EPOCH 5 - PROGRESS: at 4.80% examples, 1478452 words/s, in_qsize 18, out_qsize 1\n",
      "2020-08-15 21:26:08,811 : INFO : EPOCH 5 - PROGRESS: at 9.58% examples, 1493562 words/s, in_qsize 19, out_qsize 0\n",
      "2020-08-15 21:26:09,829 : INFO : EPOCH 5 - PROGRESS: at 11.99% examples, 1295242 words/s, in_qsize 19, out_qsize 0\n",
      "2020-08-15 21:26:10,833 : INFO : EPOCH 5 - PROGRESS: at 14.48% examples, 1187134 words/s, in_qsize 20, out_qsize 1\n",
      "2020-08-15 21:26:11,839 : INFO : EPOCH 5 - PROGRESS: at 16.96% examples, 1121732 words/s, in_qsize 19, out_qsize 0\n",
      "2020-08-15 21:26:12,841 : INFO : EPOCH 5 - PROGRESS: at 19.21% examples, 1075874 words/s, in_qsize 19, out_qsize 0\n",
      "2020-08-15 21:26:13,846 : INFO : EPOCH 5 - PROGRESS: at 22.51% examples, 1087250 words/s, in_qsize 19, out_qsize 0\n",
      "2020-08-15 21:26:14,856 : INFO : EPOCH 5 - PROGRESS: at 27.51% examples, 1149613 words/s, in_qsize 19, out_qsize 0\n",
      "2020-08-15 21:26:15,857 : INFO : EPOCH 5 - PROGRESS: at 33.17% examples, 1195948 words/s, in_qsize 17, out_qsize 2\n",
      "2020-08-15 21:26:16,859 : INFO : EPOCH 5 - PROGRESS: at 37.59% examples, 1205291 words/s, in_qsize 19, out_qsize 0\n",
      "2020-08-15 21:26:17,877 : INFO : EPOCH 5 - PROGRESS: at 40.84% examples, 1176652 words/s, in_qsize 19, out_qsize 0\n",
      "2020-08-15 21:26:18,899 : INFO : EPOCH 5 - PROGRESS: at 44.22% examples, 1152294 words/s, in_qsize 17, out_qsize 2\n",
      "2020-08-15 21:26:19,903 : INFO : EPOCH 5 - PROGRESS: at 47.35% examples, 1132657 words/s, in_qsize 19, out_qsize 0\n",
      "2020-08-15 21:26:20,906 : INFO : EPOCH 5 - PROGRESS: at 50.29% examples, 1111433 words/s, in_qsize 19, out_qsize 0\n",
      "2020-08-15 21:26:21,911 : INFO : EPOCH 5 - PROGRESS: at 55.47% examples, 1138994 words/s, in_qsize 17, out_qsize 2\n",
      "2020-08-15 21:26:22,922 : INFO : EPOCH 5 - PROGRESS: at 60.78% examples, 1162696 words/s, in_qsize 18, out_qsize 1\n",
      "2020-08-15 21:26:23,923 : INFO : EPOCH 5 - PROGRESS: at 65.83% examples, 1178970 words/s, in_qsize 20, out_qsize 0\n",
      "2020-08-15 21:26:24,934 : INFO : EPOCH 5 - PROGRESS: at 68.75% examples, 1160724 words/s, in_qsize 20, out_qsize 0\n",
      "2020-08-15 21:26:25,953 : INFO : EPOCH 5 - PROGRESS: at 71.49% examples, 1143342 words/s, in_qsize 17, out_qsize 2\n",
      "2020-08-15 21:26:26,966 : INFO : EPOCH 5 - PROGRESS: at 74.64% examples, 1130919 words/s, in_qsize 19, out_qsize 0\n",
      "2020-08-15 21:26:27,970 : INFO : EPOCH 5 - PROGRESS: at 77.48% examples, 1120492 words/s, in_qsize 19, out_qsize 0\n",
      "2020-08-15 21:26:28,973 : INFO : EPOCH 5 - PROGRESS: at 82.31% examples, 1136329 words/s, in_qsize 17, out_qsize 2\n",
      "2020-08-15 21:26:29,973 : INFO : EPOCH 5 - PROGRESS: at 87.66% examples, 1155948 words/s, in_qsize 19, out_qsize 0\n",
      "2020-08-15 21:26:30,977 : INFO : EPOCH 5 - PROGRESS: at 93.02% examples, 1171887 words/s, in_qsize 18, out_qsize 1\n",
      "2020-08-15 21:26:31,982 : INFO : EPOCH 5 - PROGRESS: at 96.17% examples, 1161520 words/s, in_qsize 17, out_qsize 2\n",
      "2020-08-15 21:26:32,989 : INFO : EPOCH 5 - PROGRESS: at 99.28% examples, 1150982 words/s, in_qsize 19, out_qsize 0\n",
      "2020-08-15 21:26:33,154 : INFO : worker thread finished; awaiting finish of 9 more threads\n",
      "2020-08-15 21:26:33,161 : INFO : worker thread finished; awaiting finish of 8 more threads\n",
      "2020-08-15 21:26:33,162 : INFO : worker thread finished; awaiting finish of 7 more threads\n",
      "2020-08-15 21:26:33,164 : INFO : worker thread finished; awaiting finish of 6 more threads\n",
      "2020-08-15 21:26:33,168 : INFO : worker thread finished; awaiting finish of 5 more threads\n",
      "2020-08-15 21:26:33,182 : INFO : worker thread finished; awaiting finish of 4 more threads\n",
      "2020-08-15 21:26:33,184 : INFO : worker thread finished; awaiting finish of 3 more threads\n",
      "2020-08-15 21:26:33,190 : INFO : worker thread finished; awaiting finish of 2 more threads\n",
      "2020-08-15 21:26:33,196 : INFO : worker thread finished; awaiting finish of 1 more threads\n",
      "2020-08-15 21:26:33,204 : INFO : worker thread finished; awaiting finish of 0 more threads\n",
      "2020-08-15 21:26:33,205 : INFO : EPOCH - 5 : training on 41519358 raw words (30348075 effective words) took 26.4s, 1149339 effective words/s\n",
      "2020-08-15 21:26:33,207 : INFO : training on a 207596790 raw words (151743205 effective words) took 124.1s, 1222990 effective words/s\n",
      "2020-08-15 21:26:33,209 : WARNING : Effective 'alpha' higher than previous training cycles\n",
      "2020-08-15 21:26:33,210 : INFO : training model with 10 workers on 70537 vocabulary and 150 features, using sg=0 hs=0 sample=0.001 negative=5 window=10\n",
      "2020-08-15 21:26:34,230 : INFO : EPOCH 1 - PROGRESS: at 2.69% examples, 834888 words/s, in_qsize 19, out_qsize 0\n",
      "2020-08-15 21:26:35,234 : INFO : EPOCH 1 - PROGRESS: at 5.62% examples, 858960 words/s, in_qsize 19, out_qsize 0\n",
      "2020-08-15 21:26:36,244 : INFO : EPOCH 1 - PROGRESS: at 9.81% examples, 1028366 words/s, in_qsize 18, out_qsize 1\n",
      "2020-08-15 21:26:37,246 : INFO : EPOCH 1 - PROGRESS: at 14.22% examples, 1167074 words/s, in_qsize 19, out_qsize 0\n",
      "2020-08-15 21:26:38,251 : INFO : EPOCH 1 - PROGRESS: at 18.65% examples, 1247825 words/s, in_qsize 17, out_qsize 2\n",
      "2020-08-15 21:26:39,262 : INFO : EPOCH 1 - PROGRESS: at 21.76% examples, 1220206 words/s, in_qsize 20, out_qsize 0\n",
      "2020-08-15 21:26:40,273 : INFO : EPOCH 1 - PROGRESS: at 24.02% examples, 1171780 words/s, in_qsize 18, out_qsize 1\n",
      "2020-08-15 21:26:41,278 : INFO : EPOCH 1 - PROGRESS: at 26.77% examples, 1124989 words/s, in_qsize 19, out_qsize 0\n",
      "2020-08-15 21:26:42,282 : INFO : EPOCH 1 - PROGRESS: at 29.59% examples, 1085403 words/s, in_qsize 19, out_qsize 0\n"
     ]
    },
    {
     "name": "stderr",
     "output_type": "stream",
     "text": [
      "2020-08-15 21:26:43,289 : INFO : EPOCH 1 - PROGRESS: at 33.25% examples, 1077877 words/s, in_qsize 19, out_qsize 0\n",
      "2020-08-15 21:26:44,300 : INFO : EPOCH 1 - PROGRESS: at 38.29% examples, 1111103 words/s, in_qsize 18, out_qsize 1\n",
      "2020-08-15 21:26:45,310 : INFO : EPOCH 1 - PROGRESS: at 43.78% examples, 1144085 words/s, in_qsize 19, out_qsize 0\n",
      "2020-08-15 21:26:46,322 : INFO : EPOCH 1 - PROGRESS: at 48.47% examples, 1156983 words/s, in_qsize 20, out_qsize 2\n",
      "2020-08-15 21:26:47,326 : INFO : EPOCH 1 - PROGRESS: at 51.56% examples, 1137259 words/s, in_qsize 17, out_qsize 2\n",
      "2020-08-15 21:26:48,350 : INFO : EPOCH 1 - PROGRESS: at 53.77% examples, 1106487 words/s, in_qsize 19, out_qsize 0\n",
      "2020-08-15 21:26:49,362 : INFO : EPOCH 1 - PROGRESS: at 56.34% examples, 1082024 words/s, in_qsize 19, out_qsize 0\n",
      "2020-08-15 21:26:50,371 : INFO : EPOCH 1 - PROGRESS: at 58.57% examples, 1056235 words/s, in_qsize 19, out_qsize 0\n",
      "2020-08-15 21:26:51,372 : INFO : EPOCH 1 - PROGRESS: at 62.88% examples, 1066545 words/s, in_qsize 17, out_qsize 2\n",
      "2020-08-15 21:26:52,380 : INFO : EPOCH 1 - PROGRESS: at 67.78% examples, 1083503 words/s, in_qsize 18, out_qsize 1\n",
      "2020-08-15 21:26:53,384 : INFO : EPOCH 1 - PROGRESS: at 72.49% examples, 1100728 words/s, in_qsize 18, out_qsize 1\n",
      "2020-08-15 21:26:54,411 : INFO : EPOCH 1 - PROGRESS: at 76.05% examples, 1097662 words/s, in_qsize 18, out_qsize 1\n",
      "2020-08-15 21:26:55,432 : INFO : EPOCH 1 - PROGRESS: at 78.82% examples, 1086676 words/s, in_qsize 20, out_qsize 0\n",
      "2020-08-15 21:26:56,439 : INFO : EPOCH 1 - PROGRESS: at 81.48% examples, 1074979 words/s, in_qsize 20, out_qsize 1\n",
      "2020-08-15 21:26:57,440 : INFO : EPOCH 1 - PROGRESS: at 84.37% examples, 1066520 words/s, in_qsize 19, out_qsize 0\n",
      "2020-08-15 21:26:58,444 : INFO : EPOCH 1 - PROGRESS: at 87.21% examples, 1057098 words/s, in_qsize 18, out_qsize 1\n",
      "2020-08-15 21:26:59,452 : INFO : EPOCH 1 - PROGRESS: at 92.33% examples, 1071579 words/s, in_qsize 19, out_qsize 0\n",
      "2020-08-15 21:27:00,453 : INFO : EPOCH 1 - PROGRESS: at 96.94% examples, 1082273 words/s, in_qsize 19, out_qsize 0\n",
      "2020-08-15 21:27:01,013 : INFO : worker thread finished; awaiting finish of 9 more threads\n",
      "2020-08-15 21:27:01,026 : INFO : worker thread finished; awaiting finish of 8 more threads\n",
      "2020-08-15 21:27:01,029 : INFO : worker thread finished; awaiting finish of 7 more threads\n",
      "2020-08-15 21:27:01,032 : INFO : worker thread finished; awaiting finish of 6 more threads\n",
      "2020-08-15 21:27:01,036 : INFO : worker thread finished; awaiting finish of 5 more threads\n",
      "2020-08-15 21:27:01,038 : INFO : worker thread finished; awaiting finish of 4 more threads\n",
      "2020-08-15 21:27:01,039 : INFO : worker thread finished; awaiting finish of 3 more threads\n",
      "2020-08-15 21:27:01,041 : INFO : worker thread finished; awaiting finish of 2 more threads\n",
      "2020-08-15 21:27:01,048 : INFO : worker thread finished; awaiting finish of 1 more threads\n",
      "2020-08-15 21:27:01,054 : INFO : worker thread finished; awaiting finish of 0 more threads\n",
      "2020-08-15 21:27:01,055 : INFO : EPOCH - 1 : training on 41519358 raw words (30349781 effective words) took 27.8s, 1090261 effective words/s\n",
      "2020-08-15 21:27:02,071 : INFO : EPOCH 2 - PROGRESS: at 2.92% examples, 903385 words/s, in_qsize 20, out_qsize 2\n",
      "2020-08-15 21:27:03,080 : INFO : EPOCH 2 - PROGRESS: at 5.88% examples, 901666 words/s, in_qsize 18, out_qsize 1\n",
      "2020-08-15 21:27:04,081 : INFO : EPOCH 2 - PROGRESS: at 8.79% examples, 902518 words/s, in_qsize 19, out_qsize 0\n",
      "2020-08-15 21:27:05,083 : INFO : EPOCH 2 - PROGRESS: at 10.95% examples, 877953 words/s, in_qsize 20, out_qsize 0\n",
      "2020-08-15 21:27:06,085 : INFO : EPOCH 2 - PROGRESS: at 13.58% examples, 890481 words/s, in_qsize 19, out_qsize 0\n",
      "2020-08-15 21:27:07,089 : INFO : EPOCH 2 - PROGRESS: at 17.82% examples, 993257 words/s, in_qsize 19, out_qsize 0\n",
      "2020-08-15 21:27:08,092 : INFO : EPOCH 2 - PROGRESS: at 22.01% examples, 1063252 words/s, in_qsize 19, out_qsize 0\n",
      "2020-08-15 21:27:09,097 : INFO : EPOCH 2 - PROGRESS: at 26.14% examples, 1106937 words/s, in_qsize 19, out_qsize 0\n",
      "2020-08-15 21:27:10,115 : INFO : EPOCH 2 - PROGRESS: at 29.44% examples, 1082021 words/s, in_qsize 17, out_qsize 2\n",
      "2020-08-15 21:27:11,129 : INFO : EPOCH 2 - PROGRESS: at 32.61% examples, 1060400 words/s, in_qsize 20, out_qsize 0\n",
      "2020-08-15 21:27:12,131 : INFO : EPOCH 2 - PROGRESS: at 35.56% examples, 1042772 words/s, in_qsize 19, out_qsize 0\n",
      "2020-08-15 21:27:13,135 : INFO : EPOCH 2 - PROGRESS: at 38.57% examples, 1026399 words/s, in_qsize 18, out_qsize 1\n",
      "2020-08-15 21:27:14,149 : INFO : EPOCH 2 - PROGRESS: at 43.04% examples, 1041575 words/s, in_qsize 18, out_qsize 1\n",
      "2020-08-15 21:27:15,150 : INFO : EPOCH 2 - PROGRESS: at 48.65% examples, 1079711 words/s, in_qsize 19, out_qsize 0\n",
      "2020-08-15 21:27:16,165 : INFO : EPOCH 2 - PROGRESS: at 53.85% examples, 1109991 words/s, in_qsize 17, out_qsize 2\n",
      "2020-08-15 21:27:17,177 : INFO : EPOCH 2 - PROGRESS: at 58.01% examples, 1113848 words/s, in_qsize 19, out_qsize 0\n",
      "2020-08-15 21:27:18,178 : INFO : EPOCH 2 - PROGRESS: at 61.12% examples, 1101132 words/s, in_qsize 19, out_qsize 0\n",
      "2020-08-15 21:27:19,181 : INFO : EPOCH 2 - PROGRESS: at 64.36% examples, 1089282 words/s, in_qsize 19, out_qsize 0\n",
      "2020-08-15 21:27:20,193 : INFO : EPOCH 2 - PROGRESS: at 67.38% examples, 1079232 words/s, in_qsize 19, out_qsize 0\n",
      "2020-08-15 21:27:21,193 : INFO : EPOCH 2 - PROGRESS: at 70.23% examples, 1069202 words/s, in_qsize 19, out_qsize 0\n",
      "2020-08-15 21:27:22,200 : INFO : EPOCH 2 - PROGRESS: at 75.11% examples, 1086174 words/s, in_qsize 16, out_qsize 3\n",
      "2020-08-15 21:27:23,201 : INFO : EPOCH 2 - PROGRESS: at 80.16% examples, 1108930 words/s, in_qsize 18, out_qsize 1\n",
      "2020-08-15 21:27:24,206 : INFO : EPOCH 2 - PROGRESS: at 85.29% examples, 1128823 words/s, in_qsize 19, out_qsize 0\n",
      "2020-08-15 21:27:25,211 : INFO : EPOCH 2 - PROGRESS: at 88.78% examples, 1122194 words/s, in_qsize 18, out_qsize 1\n",
      "2020-08-15 21:27:26,218 : INFO : EPOCH 2 - PROGRESS: at 91.87% examples, 1112588 words/s, in_qsize 18, out_qsize 1\n",
      "2020-08-15 21:27:27,221 : INFO : EPOCH 2 - PROGRESS: at 94.99% examples, 1104916 words/s, in_qsize 19, out_qsize 0\n",
      "2020-08-15 21:27:28,235 : INFO : EPOCH 2 - PROGRESS: at 98.03% examples, 1096289 words/s, in_qsize 16, out_qsize 3\n",
      "2020-08-15 21:27:28,798 : INFO : worker thread finished; awaiting finish of 9 more threads\n",
      "2020-08-15 21:27:28,801 : INFO : worker thread finished; awaiting finish of 8 more threads\n",
      "2020-08-15 21:27:28,807 : INFO : worker thread finished; awaiting finish of 7 more threads\n",
      "2020-08-15 21:27:28,822 : INFO : worker thread finished; awaiting finish of 6 more threads\n",
      "2020-08-15 21:27:28,824 : INFO : worker thread finished; awaiting finish of 5 more threads\n",
      "2020-08-15 21:27:28,826 : INFO : worker thread finished; awaiting finish of 4 more threads\n",
      "2020-08-15 21:27:28,830 : INFO : worker thread finished; awaiting finish of 3 more threads\n",
      "2020-08-15 21:27:28,832 : INFO : worker thread finished; awaiting finish of 2 more threads\n",
      "2020-08-15 21:27:28,842 : INFO : worker thread finished; awaiting finish of 1 more threads\n",
      "2020-08-15 21:27:28,844 : INFO : worker thread finished; awaiting finish of 0 more threads\n",
      "2020-08-15 21:27:28,845 : INFO : EPOCH - 2 : training on 41519358 raw words (30347318 effective words) took 27.8s, 1092348 effective words/s\n",
      "2020-08-15 21:27:29,856 : INFO : EPOCH 3 - PROGRESS: at 4.34% examples, 1332494 words/s, in_qsize 19, out_qsize 0\n",
      "2020-08-15 21:27:30,870 : INFO : EPOCH 3 - PROGRESS: at 9.30% examples, 1437496 words/s, in_qsize 19, out_qsize 0\n",
      "2020-08-15 21:27:31,874 : INFO : EPOCH 3 - PROGRESS: at 13.40% examples, 1459986 words/s, in_qsize 19, out_qsize 0\n",
      "2020-08-15 21:27:32,874 : INFO : EPOCH 3 - PROGRESS: at 16.51% examples, 1367210 words/s, in_qsize 19, out_qsize 0\n",
      "2020-08-15 21:27:33,886 : INFO : EPOCH 3 - PROGRESS: at 18.94% examples, 1270999 words/s, in_qsize 20, out_qsize 2\n",
      "2020-08-15 21:27:34,900 : INFO : EPOCH 3 - PROGRESS: at 21.56% examples, 1208205 words/s, in_qsize 18, out_qsize 1\n",
      "2020-08-15 21:27:35,908 : INFO : EPOCH 3 - PROGRESS: at 23.84% examples, 1161725 words/s, in_qsize 19, out_qsize 0\n",
      "2020-08-15 21:27:36,920 : INFO : EPOCH 3 - PROGRESS: at 26.83% examples, 1126858 words/s, in_qsize 19, out_qsize 0\n",
      "2020-08-15 21:27:37,928 : INFO : EPOCH 3 - PROGRESS: at 32.64% examples, 1177249 words/s, in_qsize 18, out_qsize 1\n"
     ]
    },
    {
     "name": "stderr",
     "output_type": "stream",
     "text": [
      "2020-08-15 21:27:38,928 : INFO : EPOCH 3 - PROGRESS: at 37.64% examples, 1205051 words/s, in_qsize 19, out_qsize 0\n",
      "2020-08-15 21:27:39,943 : INFO : EPOCH 3 - PROGRESS: at 43.24% examples, 1233676 words/s, in_qsize 19, out_qsize 0\n",
      "2020-08-15 21:27:40,963 : INFO : EPOCH 3 - PROGRESS: at 46.46% examples, 1203692 words/s, in_qsize 18, out_qsize 1\n",
      "2020-08-15 21:27:41,964 : INFO : EPOCH 3 - PROGRESS: at 49.57% examples, 1179865 words/s, in_qsize 19, out_qsize 0\n",
      "2020-08-15 21:27:42,982 : INFO : EPOCH 3 - PROGRESS: at 52.52% examples, 1156348 words/s, in_qsize 19, out_qsize 0\n",
      "2020-08-15 21:27:44,004 : INFO : EPOCH 3 - PROGRESS: at 55.63% examples, 1138892 words/s, in_qsize 18, out_qsize 1\n",
      "2020-08-15 21:27:45,009 : INFO : EPOCH 3 - PROGRESS: at 59.55% examples, 1138347 words/s, in_qsize 19, out_qsize 0\n",
      "2020-08-15 21:27:46,018 : INFO : EPOCH 3 - PROGRESS: at 65.12% examples, 1162832 words/s, in_qsize 19, out_qsize 0\n",
      "2020-08-15 21:27:47,023 : INFO : EPOCH 3 - PROGRESS: at 70.07% examples, 1181888 words/s, in_qsize 19, out_qsize 0\n",
      "2020-08-15 21:27:48,038 : INFO : EPOCH 3 - PROGRESS: at 74.53% examples, 1187421 words/s, in_qsize 17, out_qsize 2\n",
      "2020-08-15 21:27:49,038 : INFO : EPOCH 3 - PROGRESS: at 77.35% examples, 1173097 words/s, in_qsize 19, out_qsize 0\n",
      "2020-08-15 21:27:50,049 : INFO : EPOCH 3 - PROGRESS: at 80.23% examples, 1159340 words/s, in_qsize 18, out_qsize 1\n",
      "2020-08-15 21:27:51,051 : INFO : EPOCH 3 - PROGRESS: at 83.17% examples, 1146614 words/s, in_qsize 19, out_qsize 0\n",
      "2020-08-15 21:27:52,067 : INFO : EPOCH 3 - PROGRESS: at 85.83% examples, 1132303 words/s, in_qsize 19, out_qsize 0\n",
      "2020-08-15 21:27:53,071 : INFO : EPOCH 3 - PROGRESS: at 90.68% examples, 1141406 words/s, in_qsize 19, out_qsize 0\n",
      "2020-08-15 21:27:54,077 : INFO : EPOCH 3 - PROGRESS: at 96.09% examples, 1158802 words/s, in_qsize 19, out_qsize 0\n",
      "2020-08-15 21:27:54,798 : INFO : worker thread finished; awaiting finish of 9 more threads\n",
      "2020-08-15 21:27:54,813 : INFO : worker thread finished; awaiting finish of 8 more threads\n",
      "2020-08-15 21:27:54,818 : INFO : worker thread finished; awaiting finish of 7 more threads\n",
      "2020-08-15 21:27:54,819 : INFO : worker thread finished; awaiting finish of 6 more threads\n",
      "2020-08-15 21:27:54,822 : INFO : worker thread finished; awaiting finish of 5 more threads\n",
      "2020-08-15 21:27:54,830 : INFO : worker thread finished; awaiting finish of 4 more threads\n",
      "2020-08-15 21:27:54,831 : INFO : worker thread finished; awaiting finish of 3 more threads\n",
      "2020-08-15 21:27:54,837 : INFO : worker thread finished; awaiting finish of 2 more threads\n",
      "2020-08-15 21:27:54,839 : INFO : worker thread finished; awaiting finish of 1 more threads\n",
      "2020-08-15 21:27:54,841 : INFO : worker thread finished; awaiting finish of 0 more threads\n",
      "2020-08-15 21:27:54,843 : INFO : EPOCH - 3 : training on 41519358 raw words (30348915 effective words) took 26.0s, 1167795 effective words/s\n",
      "2020-08-15 21:27:55,868 : INFO : EPOCH 4 - PROGRESS: at 4.19% examples, 1265011 words/s, in_qsize 19, out_qsize 0\n",
      "2020-08-15 21:27:56,872 : INFO : EPOCH 4 - PROGRESS: at 7.07% examples, 1075233 words/s, in_qsize 20, out_qsize 1\n",
      "2020-08-15 21:27:57,872 : INFO : EPOCH 4 - PROGRESS: at 9.76% examples, 1016155 words/s, in_qsize 19, out_qsize 0\n",
      "2020-08-15 21:27:58,877 : INFO : EPOCH 4 - PROGRESS: at 12.09% examples, 984201 words/s, in_qsize 18, out_qsize 1\n",
      "2020-08-15 21:27:59,888 : INFO : EPOCH 4 - PROGRESS: at 14.75% examples, 968048 words/s, in_qsize 19, out_qsize 0\n",
      "2020-08-15 21:28:00,889 : INFO : EPOCH 4 - PROGRESS: at 17.92% examples, 996165 words/s, in_qsize 19, out_qsize 0\n",
      "2020-08-15 21:28:01,896 : INFO : EPOCH 4 - PROGRESS: at 22.06% examples, 1063385 words/s, in_qsize 18, out_qsize 1\n",
      "2020-08-15 21:28:02,896 : INFO : EPOCH 4 - PROGRESS: at 26.68% examples, 1122756 words/s, in_qsize 16, out_qsize 3\n",
      "2020-08-15 21:28:03,903 : INFO : EPOCH 4 - PROGRESS: at 31.25% examples, 1136557 words/s, in_qsize 19, out_qsize 0\n",
      "2020-08-15 21:28:04,910 : INFO : EPOCH 4 - PROGRESS: at 34.33% examples, 1110958 words/s, in_qsize 20, out_qsize 1\n",
      "2020-08-15 21:28:05,925 : INFO : EPOCH 4 - PROGRESS: at 37.33% examples, 1087471 words/s, in_qsize 18, out_qsize 1\n",
      "2020-08-15 21:28:06,943 : INFO : EPOCH 4 - PROGRESS: at 40.41% examples, 1067250 words/s, in_qsize 20, out_qsize 1\n",
      "2020-08-15 21:28:07,951 : INFO : EPOCH 4 - PROGRESS: at 43.71% examples, 1053981 words/s, in_qsize 19, out_qsize 0\n",
      "2020-08-15 21:28:08,953 : INFO : EPOCH 4 - PROGRESS: at 48.31% examples, 1071657 words/s, in_qsize 19, out_qsize 0\n",
      "2020-08-15 21:28:09,957 : INFO : EPOCH 4 - PROGRESS: at 53.53% examples, 1103206 words/s, in_qsize 19, out_qsize 0\n",
      "2020-08-15 21:28:10,957 : INFO : EPOCH 4 - PROGRESS: at 58.81% examples, 1128506 words/s, in_qsize 19, out_qsize 0\n",
      "2020-08-15 21:28:11,971 : INFO : EPOCH 4 - PROGRESS: at 62.66% examples, 1126826 words/s, in_qsize 18, out_qsize 1\n",
      "2020-08-15 21:28:12,976 : INFO : EPOCH 4 - PROGRESS: at 65.83% examples, 1113671 words/s, in_qsize 19, out_qsize 0\n",
      "2020-08-15 21:28:13,977 : INFO : EPOCH 4 - PROGRESS: at 68.87% examples, 1102237 words/s, in_qsize 19, out_qsize 0\n",
      "2020-08-15 21:28:14,980 : INFO : EPOCH 4 - PROGRESS: at 71.77% examples, 1092485 words/s, in_qsize 19, out_qsize 0\n",
      "2020-08-15 21:28:15,995 : INFO : EPOCH 4 - PROGRESS: at 74.86% examples, 1081548 words/s, in_qsize 19, out_qsize 0\n",
      "2020-08-15 21:28:17,006 : INFO : EPOCH 4 - PROGRESS: at 78.82% examples, 1089324 words/s, in_qsize 17, out_qsize 2\n",
      "2020-08-15 21:28:18,014 : INFO : EPOCH 4 - PROGRESS: at 84.06% examples, 1110665 words/s, in_qsize 19, out_qsize 0\n",
      "2020-08-15 21:28:19,015 : INFO : EPOCH 4 - PROGRESS: at 89.33% examples, 1127891 words/s, in_qsize 19, out_qsize 0\n",
      "2020-08-15 21:28:20,040 : INFO : EPOCH 4 - PROGRESS: at 93.15% examples, 1126402 words/s, in_qsize 18, out_qsize 1\n",
      "2020-08-15 21:28:21,047 : INFO : EPOCH 4 - PROGRESS: at 96.09% examples, 1115615 words/s, in_qsize 20, out_qsize 0\n",
      "2020-08-15 21:28:22,058 : INFO : EPOCH 4 - PROGRESS: at 98.40% examples, 1098778 words/s, in_qsize 19, out_qsize 0\n",
      "2020-08-15 21:28:22,625 : INFO : worker thread finished; awaiting finish of 9 more threads\n",
      "2020-08-15 21:28:22,631 : INFO : worker thread finished; awaiting finish of 8 more threads\n",
      "2020-08-15 21:28:22,637 : INFO : worker thread finished; awaiting finish of 7 more threads\n",
      "2020-08-15 21:28:22,639 : INFO : worker thread finished; awaiting finish of 6 more threads\n",
      "2020-08-15 21:28:22,640 : INFO : worker thread finished; awaiting finish of 5 more threads\n",
      "2020-08-15 21:28:22,655 : INFO : worker thread finished; awaiting finish of 4 more threads\n",
      "2020-08-15 21:28:22,658 : INFO : worker thread finished; awaiting finish of 3 more threads\n",
      "2020-08-15 21:28:22,659 : INFO : worker thread finished; awaiting finish of 2 more threads\n",
      "2020-08-15 21:28:22,670 : INFO : worker thread finished; awaiting finish of 1 more threads\n",
      "2020-08-15 21:28:22,681 : INFO : worker thread finished; awaiting finish of 0 more threads\n",
      "2020-08-15 21:28:22,682 : INFO : EPOCH - 4 : training on 41519358 raw words (30350270 effective words) took 27.8s, 1090353 effective words/s\n",
      "2020-08-15 21:28:23,700 : INFO : EPOCH 5 - PROGRESS: at 1.97% examples, 616055 words/s, in_qsize 19, out_qsize 0\n",
      "2020-08-15 21:28:24,711 : INFO : EPOCH 5 - PROGRESS: at 5.28% examples, 808316 words/s, in_qsize 19, out_qsize 0\n",
      "2020-08-15 21:28:25,716 : INFO : EPOCH 5 - PROGRESS: at 9.30% examples, 960264 words/s, in_qsize 17, out_qsize 2\n",
      "2020-08-15 21:28:26,726 : INFO : EPOCH 5 - PROGRESS: at 12.48% examples, 1022528 words/s, in_qsize 17, out_qsize 2\n",
      "2020-08-15 21:28:27,736 : INFO : EPOCH 5 - PROGRESS: at 15.32% examples, 1006299 words/s, in_qsize 19, out_qsize 0\n",
      "2020-08-15 21:28:28,738 : INFO : EPOCH 5 - PROGRESS: at 17.53% examples, 972133 words/s, in_qsize 20, out_qsize 0\n",
      "2020-08-15 21:28:29,740 : INFO : EPOCH 5 - PROGRESS: at 19.83% examples, 956916 words/s, in_qsize 19, out_qsize 0\n",
      "2020-08-15 21:28:30,747 : INFO : EPOCH 5 - PROGRESS: at 22.18% examples, 935958 words/s, in_qsize 19, out_qsize 0\n",
      "2020-08-15 21:28:31,751 : INFO : EPOCH 5 - PROGRESS: at 24.42% examples, 928404 words/s, in_qsize 19, out_qsize 0\n",
      "2020-08-15 21:28:32,758 : INFO : EPOCH 5 - PROGRESS: at 29.21% examples, 966726 words/s, in_qsize 18, out_qsize 1\n",
      "2020-08-15 21:28:33,762 : INFO : EPOCH 5 - PROGRESS: at 34.27% examples, 1008775 words/s, in_qsize 19, out_qsize 0\n"
     ]
    },
    {
     "name": "stderr",
     "output_type": "stream",
     "text": [
      "2020-08-15 21:28:34,763 : INFO : EPOCH 5 - PROGRESS: at 39.60% examples, 1051216 words/s, in_qsize 18, out_qsize 1\n",
      "2020-08-15 21:28:35,794 : INFO : EPOCH 5 - PROGRESS: at 42.99% examples, 1039325 words/s, in_qsize 16, out_qsize 3\n",
      "2020-08-15 21:28:36,799 : INFO : EPOCH 5 - PROGRESS: at 46.01% examples, 1023076 words/s, in_qsize 19, out_qsize 0\n",
      "2020-08-15 21:28:37,808 : INFO : EPOCH 5 - PROGRESS: at 48.76% examples, 1008237 words/s, in_qsize 19, out_qsize 0\n",
      "2020-08-15 21:28:38,833 : INFO : EPOCH 5 - PROGRESS: at 51.72% examples, 997179 words/s, in_qsize 20, out_qsize 0\n",
      "2020-08-15 21:28:39,852 : INFO : EPOCH 5 - PROGRESS: at 54.20% examples, 982852 words/s, in_qsize 19, out_qsize 0\n",
      "2020-08-15 21:28:40,870 : INFO : EPOCH 5 - PROGRESS: at 59.14% examples, 1005407 words/s, in_qsize 17, out_qsize 2\n",
      "2020-08-15 21:28:41,870 : INFO : EPOCH 5 - PROGRESS: at 64.45% examples, 1030307 words/s, in_qsize 19, out_qsize 0\n",
      "2020-08-15 21:28:42,886 : INFO : EPOCH 5 - PROGRESS: at 69.07% examples, 1047423 words/s, in_qsize 17, out_qsize 2\n",
      "2020-08-15 21:28:43,897 : INFO : EPOCH 5 - PROGRESS: at 71.77% examples, 1037282 words/s, in_qsize 18, out_qsize 1\n",
      "2020-08-15 21:28:44,909 : INFO : EPOCH 5 - PROGRESS: at 74.76% examples, 1027930 words/s, in_qsize 17, out_qsize 2\n",
      "2020-08-15 21:28:45,917 : INFO : EPOCH 5 - PROGRESS: at 77.29% examples, 1018638 words/s, in_qsize 19, out_qsize 0\n",
      "2020-08-15 21:28:46,919 : INFO : EPOCH 5 - PROGRESS: at 79.89% examples, 1009813 words/s, in_qsize 17, out_qsize 2\n",
      "2020-08-15 21:28:47,919 : INFO : EPOCH 5 - PROGRESS: at 82.78% examples, 1004298 words/s, in_qsize 19, out_qsize 0\n",
      "2020-08-15 21:28:48,937 : INFO : EPOCH 5 - PROGRESS: at 87.99% examples, 1024071 words/s, in_qsize 17, out_qsize 2\n",
      "2020-08-15 21:28:49,950 : INFO : EPOCH 5 - PROGRESS: at 93.06% examples, 1040009 words/s, in_qsize 18, out_qsize 1\n",
      "2020-08-15 21:28:50,952 : INFO : EPOCH 5 - PROGRESS: at 97.75% examples, 1051318 words/s, in_qsize 18, out_qsize 1\n",
      "2020-08-15 21:28:51,667 : INFO : worker thread finished; awaiting finish of 9 more threads\n",
      "2020-08-15 21:28:51,683 : INFO : worker thread finished; awaiting finish of 8 more threads\n",
      "2020-08-15 21:28:51,688 : INFO : worker thread finished; awaiting finish of 7 more threads\n",
      "2020-08-15 21:28:51,697 : INFO : worker thread finished; awaiting finish of 6 more threads\n",
      "2020-08-15 21:28:51,700 : INFO : worker thread finished; awaiting finish of 5 more threads\n",
      "2020-08-15 21:28:51,702 : INFO : worker thread finished; awaiting finish of 4 more threads\n",
      "2020-08-15 21:28:51,708 : INFO : worker thread finished; awaiting finish of 3 more threads\n",
      "2020-08-15 21:28:51,716 : INFO : worker thread finished; awaiting finish of 2 more threads\n",
      "2020-08-15 21:28:51,717 : INFO : worker thread finished; awaiting finish of 1 more threads\n",
      "2020-08-15 21:28:51,722 : INFO : worker thread finished; awaiting finish of 0 more threads\n",
      "2020-08-15 21:28:51,724 : INFO : EPOCH - 5 : training on 41519358 raw words (30348733 effective words) took 29.0s, 1045366 effective words/s\n",
      "2020-08-15 21:28:52,732 : INFO : EPOCH 6 - PROGRESS: at 2.41% examples, 764311 words/s, in_qsize 19, out_qsize 0\n",
      "2020-08-15 21:28:53,757 : INFO : EPOCH 6 - PROGRESS: at 5.19% examples, 791574 words/s, in_qsize 18, out_qsize 1\n",
      "2020-08-15 21:28:54,761 : INFO : EPOCH 6 - PROGRESS: at 7.91% examples, 808807 words/s, in_qsize 20, out_qsize 0\n",
      "2020-08-15 21:28:55,770 : INFO : EPOCH 6 - PROGRESS: at 10.43% examples, 825586 words/s, in_qsize 19, out_qsize 0\n",
      "2020-08-15 21:28:56,777 : INFO : EPOCH 6 - PROGRESS: at 14.56% examples, 954393 words/s, in_qsize 19, out_qsize 0\n",
      "2020-08-15 21:28:57,780 : INFO : EPOCH 6 - PROGRESS: at 18.75% examples, 1043972 words/s, in_qsize 19, out_qsize 0\n",
      "2020-08-15 21:28:58,801 : INFO : EPOCH 6 - PROGRESS: at 22.75% examples, 1095904 words/s, in_qsize 17, out_qsize 2\n",
      "2020-08-15 21:28:59,818 : INFO : EPOCH 6 - PROGRESS: at 24.99% examples, 1061398 words/s, in_qsize 18, out_qsize 1\n",
      "2020-08-15 21:29:00,821 : INFO : EPOCH 6 - PROGRESS: at 28.08% examples, 1034732 words/s, in_qsize 17, out_qsize 2\n",
      "2020-08-15 21:29:01,824 : INFO : EPOCH 6 - PROGRESS: at 30.87% examples, 1010615 words/s, in_qsize 18, out_qsize 1\n",
      "2020-08-15 21:29:02,829 : INFO : EPOCH 6 - PROGRESS: at 33.82% examples, 995112 words/s, in_qsize 20, out_qsize 0\n",
      "2020-08-15 21:29:03,831 : INFO : EPOCH 6 - PROGRESS: at 36.71% examples, 980108 words/s, in_qsize 17, out_qsize 2\n",
      "2020-08-15 21:29:04,847 : INFO : EPOCH 6 - PROGRESS: at 42.16% examples, 1019516 words/s, in_qsize 17, out_qsize 2\n",
      "2020-08-15 21:29:05,866 : INFO : EPOCH 6 - PROGRESS: at 47.58% examples, 1054628 words/s, in_qsize 19, out_qsize 0\n",
      "2020-08-15 21:29:06,875 : INFO : EPOCH 6 - PROGRESS: at 52.25% examples, 1073761 words/s, in_qsize 18, out_qsize 1\n",
      "2020-08-15 21:29:07,879 : INFO : EPOCH 6 - PROGRESS: at 55.07% examples, 1059822 words/s, in_qsize 19, out_qsize 0\n",
      "2020-08-15 21:29:08,893 : INFO : EPOCH 6 - PROGRESS: at 57.99% examples, 1046044 words/s, in_qsize 19, out_qsize 0\n",
      "2020-08-15 21:29:09,910 : INFO : EPOCH 6 - PROGRESS: at 60.93% examples, 1033767 words/s, in_qsize 18, out_qsize 1\n",
      "2020-08-15 21:29:10,916 : INFO : EPOCH 6 - PROGRESS: at 63.84% examples, 1022100 words/s, in_qsize 19, out_qsize 0\n",
      "2020-08-15 21:29:11,920 : INFO : EPOCH 6 - PROGRESS: at 66.57% examples, 1011131 words/s, in_qsize 19, out_qsize 0\n",
      "2020-08-15 21:29:12,923 : INFO : EPOCH 6 - PROGRESS: at 71.73% examples, 1037335 words/s, in_qsize 20, out_qsize 0\n",
      "2020-08-15 21:29:13,934 : INFO : EPOCH 6 - PROGRESS: at 76.74% examples, 1057898 words/s, in_qsize 18, out_qsize 1\n",
      "2020-08-15 21:29:14,945 : INFO : EPOCH 6 - PROGRESS: at 81.35% examples, 1073535 words/s, in_qsize 19, out_qsize 0\n",
      "2020-08-15 21:29:15,957 : INFO : EPOCH 6 - PROGRESS: at 84.17% examples, 1063504 words/s, in_qsize 19, out_qsize 0\n",
      "2020-08-15 21:29:16,981 : INFO : EPOCH 6 - PROGRESS: at 86.90% examples, 1052814 words/s, in_qsize 17, out_qsize 2\n",
      "2020-08-15 21:29:17,993 : INFO : EPOCH 6 - PROGRESS: at 89.92% examples, 1044431 words/s, in_qsize 18, out_qsize 1\n",
      "2020-08-15 21:29:19,003 : INFO : EPOCH 6 - PROGRESS: at 92.81% examples, 1036751 words/s, in_qsize 19, out_qsize 0\n",
      "2020-08-15 21:29:20,009 : INFO : EPOCH 6 - PROGRESS: at 95.69% examples, 1029264 words/s, in_qsize 19, out_qsize 0\n",
      "2020-08-15 21:29:20,771 : INFO : worker thread finished; awaiting finish of 9 more threads\n",
      "2020-08-15 21:29:20,782 : INFO : worker thread finished; awaiting finish of 8 more threads\n",
      "2020-08-15 21:29:20,783 : INFO : worker thread finished; awaiting finish of 7 more threads\n",
      "2020-08-15 21:29:20,784 : INFO : worker thread finished; awaiting finish of 6 more threads\n",
      "2020-08-15 21:29:20,791 : INFO : worker thread finished; awaiting finish of 5 more threads\n",
      "2020-08-15 21:29:20,793 : INFO : worker thread finished; awaiting finish of 4 more threads\n",
      "2020-08-15 21:29:20,796 : INFO : worker thread finished; awaiting finish of 3 more threads\n",
      "2020-08-15 21:29:20,798 : INFO : worker thread finished; awaiting finish of 2 more threads\n",
      "2020-08-15 21:29:20,800 : INFO : worker thread finished; awaiting finish of 1 more threads\n",
      "2020-08-15 21:29:20,804 : INFO : worker thread finished; awaiting finish of 0 more threads\n",
      "2020-08-15 21:29:20,805 : INFO : EPOCH - 6 : training on 41519358 raw words (30352618 effective words) took 29.1s, 1044038 effective words/s\n",
      "2020-08-15 21:29:21,814 : INFO : EPOCH 7 - PROGRESS: at 4.65% examples, 1429681 words/s, in_qsize 18, out_qsize 1\n",
      "2020-08-15 21:29:22,817 : INFO : EPOCH 7 - PROGRESS: at 9.30% examples, 1446268 words/s, in_qsize 18, out_qsize 1\n",
      "2020-08-15 21:29:23,817 : INFO : EPOCH 7 - PROGRESS: at 11.67% examples, 1268780 words/s, in_qsize 19, out_qsize 0\n",
      "2020-08-15 21:29:24,822 : INFO : EPOCH 7 - PROGRESS: at 14.12% examples, 1162444 words/s, in_qsize 19, out_qsize 0\n",
      "2020-08-15 21:29:25,825 : INFO : EPOCH 7 - PROGRESS: at 16.51% examples, 1095456 words/s, in_qsize 19, out_qsize 0\n",
      "2020-08-15 21:29:26,836 : INFO : EPOCH 7 - PROGRESS: at 18.78% examples, 1050054 words/s, in_qsize 18, out_qsize 1\n",
      "2020-08-15 21:29:27,852 : INFO : EPOCH 7 - PROGRESS: at 20.84% examples, 1014747 words/s, in_qsize 19, out_qsize 0\n",
      "2020-08-15 21:29:28,858 : INFO : EPOCH 7 - PROGRESS: at 24.53% examples, 1051006 words/s, in_qsize 19, out_qsize 0\n",
      "2020-08-15 21:29:29,866 : INFO : EPOCH 7 - PROGRESS: at 29.85% examples, 1094095 words/s, in_qsize 19, out_qsize 0\n"
     ]
    },
    {
     "name": "stderr",
     "output_type": "stream",
     "text": [
      "2020-08-15 21:29:30,869 : INFO : EPOCH 7 - PROGRESS: at 35.06% examples, 1133673 words/s, in_qsize 19, out_qsize 0\n",
      "2020-08-15 21:29:31,891 : INFO : EPOCH 7 - PROGRESS: at 38.64% examples, 1119406 words/s, in_qsize 18, out_qsize 1\n",
      "2020-08-15 21:29:32,917 : INFO : EPOCH 7 - PROGRESS: at 41.82% examples, 1096099 words/s, in_qsize 17, out_qsize 2\n",
      "2020-08-15 21:29:33,923 : INFO : EPOCH 7 - PROGRESS: at 44.70% examples, 1073003 words/s, in_qsize 19, out_qsize 0\n",
      "2020-08-15 21:29:34,923 : INFO : EPOCH 7 - PROGRESS: at 47.39% examples, 1052489 words/s, in_qsize 18, out_qsize 1\n",
      "2020-08-15 21:29:35,924 : INFO : EPOCH 7 - PROGRESS: at 50.29% examples, 1037184 words/s, in_qsize 19, out_qsize 0\n",
      "2020-08-15 21:29:36,933 : INFO : EPOCH 7 - PROGRESS: at 54.30% examples, 1047727 words/s, in_qsize 20, out_qsize 3\n",
      "2020-08-15 21:29:37,934 : INFO : EPOCH 7 - PROGRESS: at 59.62% examples, 1075135 words/s, in_qsize 18, out_qsize 1\n",
      "2020-08-15 21:29:38,937 : INFO : EPOCH 7 - PROGRESS: at 64.87% examples, 1096195 words/s, in_qsize 18, out_qsize 1\n",
      "2020-08-15 21:29:39,942 : INFO : EPOCH 7 - PROGRESS: at 68.45% examples, 1095664 words/s, in_qsize 19, out_qsize 0\n",
      "2020-08-15 21:29:40,946 : INFO : EPOCH 7 - PROGRESS: at 70.98% examples, 1080743 words/s, in_qsize 19, out_qsize 0\n",
      "2020-08-15 21:29:41,968 : INFO : EPOCH 7 - PROGRESS: at 74.07% examples, 1069335 words/s, in_qsize 17, out_qsize 2\n",
      "2020-08-15 21:29:42,980 : INFO : EPOCH 7 - PROGRESS: at 76.70% examples, 1058615 words/s, in_qsize 19, out_qsize 0\n",
      "2020-08-15 21:29:43,986 : INFO : EPOCH 7 - PROGRESS: at 79.38% examples, 1048680 words/s, in_qsize 20, out_qsize 1\n",
      "2020-08-15 21:29:44,992 : INFO : EPOCH 7 - PROGRESS: at 82.95% examples, 1049678 words/s, in_qsize 19, out_qsize 0\n",
      "2020-08-15 21:29:45,998 : INFO : EPOCH 7 - PROGRESS: at 87.97% examples, 1066892 words/s, in_qsize 19, out_qsize 0\n",
      "2020-08-15 21:29:46,999 : INFO : EPOCH 7 - PROGRESS: at 93.10% examples, 1082913 words/s, in_qsize 19, out_qsize 0\n",
      "2020-08-15 21:29:48,000 : INFO : EPOCH 7 - PROGRESS: at 97.32% examples, 1087641 words/s, in_qsize 19, out_qsize 0\n",
      "2020-08-15 21:29:48,930 : INFO : worker thread finished; awaiting finish of 9 more threads\n",
      "2020-08-15 21:29:48,940 : INFO : worker thread finished; awaiting finish of 8 more threads\n",
      "2020-08-15 21:29:48,942 : INFO : worker thread finished; awaiting finish of 7 more threads\n",
      "2020-08-15 21:29:48,943 : INFO : worker thread finished; awaiting finish of 6 more threads\n",
      "2020-08-15 21:29:48,953 : INFO : worker thread finished; awaiting finish of 5 more threads\n",
      "2020-08-15 21:29:48,960 : INFO : worker thread finished; awaiting finish of 4 more threads\n",
      "2020-08-15 21:29:48,964 : INFO : worker thread finished; awaiting finish of 3 more threads\n",
      "2020-08-15 21:29:48,978 : INFO : worker thread finished; awaiting finish of 2 more threads\n",
      "2020-08-15 21:29:48,980 : INFO : worker thread finished; awaiting finish of 1 more threads\n",
      "2020-08-15 21:29:48,982 : INFO : worker thread finished; awaiting finish of 0 more threads\n",
      "2020-08-15 21:29:48,983 : INFO : EPOCH - 7 : training on 41519358 raw words (30348898 effective words) took 28.2s, 1077184 effective words/s\n",
      "2020-08-15 21:29:50,013 : INFO : EPOCH 8 - PROGRESS: at 2.42% examples, 748848 words/s, in_qsize 18, out_qsize 1\n",
      "2020-08-15 21:29:51,017 : INFO : EPOCH 8 - PROGRESS: at 5.16% examples, 787792 words/s, in_qsize 19, out_qsize 0\n",
      "2020-08-15 21:29:52,022 : INFO : EPOCH 8 - PROGRESS: at 7.60% examples, 775235 words/s, in_qsize 17, out_qsize 2\n",
      "2020-08-15 21:29:53,024 : INFO : EPOCH 8 - PROGRESS: at 10.41% examples, 825094 words/s, in_qsize 19, out_qsize 0\n",
      "2020-08-15 21:29:54,029 : INFO : EPOCH 8 - PROGRESS: at 14.30% examples, 938565 words/s, in_qsize 20, out_qsize 0\n",
      "2020-08-15 21:29:55,030 : INFO : EPOCH 8 - PROGRESS: at 18.27% examples, 1017219 words/s, in_qsize 18, out_qsize 1\n",
      "2020-08-15 21:29:56,036 : INFO : EPOCH 8 - PROGRESS: at 20.96% examples, 1021634 words/s, in_qsize 18, out_qsize 1\n",
      "2020-08-15 21:29:57,051 : INFO : EPOCH 8 - PROGRESS: at 23.41% examples, 995252 words/s, in_qsize 19, out_qsize 0\n",
      "2020-08-15 21:29:58,065 : INFO : EPOCH 8 - PROGRESS: at 25.67% examples, 966456 words/s, in_qsize 15, out_qsize 4\n",
      "2020-08-15 21:29:59,076 : INFO : EPOCH 8 - PROGRESS: at 28.81% examples, 953519 words/s, in_qsize 17, out_qsize 2\n",
      "2020-08-15 21:30:00,079 : INFO : EPOCH 8 - PROGRESS: at 31.73% examples, 939360 words/s, in_qsize 19, out_qsize 0\n",
      "2020-08-15 21:30:01,084 : INFO : EPOCH 8 - PROGRESS: at 35.35% examples, 949743 words/s, in_qsize 18, out_qsize 1\n",
      "2020-08-15 21:30:02,097 : INFO : EPOCH 8 - PROGRESS: at 39.89% examples, 974059 words/s, in_qsize 18, out_qsize 1\n",
      "2020-08-15 21:30:03,108 : INFO : EPOCH 8 - PROGRESS: at 44.40% examples, 991148 words/s, in_qsize 20, out_qsize 2\n",
      "2020-08-15 21:30:04,125 : INFO : EPOCH 8 - PROGRESS: at 47.90% examples, 991206 words/s, in_qsize 18, out_qsize 1\n",
      "2020-08-15 21:30:05,134 : INFO : EPOCH 8 - PROGRESS: at 50.95% examples, 982795 words/s, in_qsize 18, out_qsize 1\n",
      "2020-08-15 21:30:06,151 : INFO : EPOCH 8 - PROGRESS: at 53.78% examples, 975586 words/s, in_qsize 20, out_qsize 0\n",
      "2020-08-15 21:30:07,166 : INFO : EPOCH 8 - PROGRESS: at 56.52% examples, 963666 words/s, in_qsize 19, out_qsize 0\n",
      "2020-08-15 21:30:08,166 : INFO : EPOCH 8 - PROGRESS: at 59.50% examples, 958232 words/s, in_qsize 16, out_qsize 3\n",
      "2020-08-15 21:30:09,167 : INFO : EPOCH 8 - PROGRESS: at 63.47% examples, 967071 words/s, in_qsize 19, out_qsize 0\n",
      "2020-08-15 21:30:10,170 : INFO : EPOCH 8 - PROGRESS: at 68.64% examples, 992470 words/s, in_qsize 19, out_qsize 0\n",
      "2020-08-15 21:30:11,180 : INFO : EPOCH 8 - PROGRESS: at 73.81% examples, 1016493 words/s, in_qsize 18, out_qsize 1\n",
      "2020-08-15 21:30:12,183 : INFO : EPOCH 8 - PROGRESS: at 77.65% examples, 1025272 words/s, in_qsize 18, out_qsize 1\n",
      "2020-08-15 21:30:13,209 : INFO : EPOCH 8 - PROGRESS: at 80.66% examples, 1020220 words/s, in_qsize 20, out_qsize 2\n",
      "2020-08-15 21:30:14,226 : INFO : EPOCH 8 - PROGRESS: at 83.74% examples, 1015621 words/s, in_qsize 19, out_qsize 0\n",
      "2020-08-15 21:30:15,229 : INFO : EPOCH 8 - PROGRESS: at 86.71% examples, 1010969 words/s, in_qsize 19, out_qsize 0\n",
      "2020-08-15 21:30:16,235 : INFO : EPOCH 8 - PROGRESS: at 89.89% examples, 1006229 words/s, in_qsize 18, out_qsize 1\n",
      "2020-08-15 21:30:17,248 : INFO : EPOCH 8 - PROGRESS: at 93.27% examples, 1005429 words/s, in_qsize 19, out_qsize 0\n",
      "2020-08-15 21:30:18,250 : INFO : EPOCH 8 - PROGRESS: at 98.71% examples, 1024762 words/s, in_qsize 17, out_qsize 2\n",
      "2020-08-15 21:30:18,445 : INFO : worker thread finished; awaiting finish of 9 more threads\n",
      "2020-08-15 21:30:18,451 : INFO : worker thread finished; awaiting finish of 8 more threads\n",
      "2020-08-15 21:30:18,452 : INFO : worker thread finished; awaiting finish of 7 more threads\n",
      "2020-08-15 21:30:18,457 : INFO : worker thread finished; awaiting finish of 6 more threads\n",
      "2020-08-15 21:30:18,461 : INFO : worker thread finished; awaiting finish of 5 more threads\n",
      "2020-08-15 21:30:18,462 : INFO : worker thread finished; awaiting finish of 4 more threads\n",
      "2020-08-15 21:30:18,467 : INFO : worker thread finished; awaiting finish of 3 more threads\n",
      "2020-08-15 21:30:18,471 : INFO : worker thread finished; awaiting finish of 2 more threads\n",
      "2020-08-15 21:30:18,472 : INFO : worker thread finished; awaiting finish of 1 more threads\n",
      "2020-08-15 21:30:18,474 : INFO : worker thread finished; awaiting finish of 0 more threads\n",
      "2020-08-15 21:30:18,475 : INFO : EPOCH - 8 : training on 41519358 raw words (30347192 effective words) took 29.5s, 1029301 effective words/s\n",
      "2020-08-15 21:30:19,485 : INFO : EPOCH 9 - PROGRESS: at 4.76% examples, 1457878 words/s, in_qsize 17, out_qsize 2\n",
      "2020-08-15 21:30:20,502 : INFO : EPOCH 9 - PROGRESS: at 8.23% examples, 1260680 words/s, in_qsize 19, out_qsize 0\n",
      "2020-08-15 21:30:21,504 : INFO : EPOCH 9 - PROGRESS: at 11.49% examples, 1232833 words/s, in_qsize 19, out_qsize 0\n",
      "2020-08-15 21:30:22,506 : INFO : EPOCH 9 - PROGRESS: at 14.80% examples, 1217579 words/s, in_qsize 19, out_qsize 0\n",
      "2020-08-15 21:30:23,506 : INFO : EPOCH 9 - PROGRESS: at 18.09% examples, 1209129 words/s, in_qsize 18, out_qsize 1\n",
      "2020-08-15 21:30:24,507 : INFO : EPOCH 9 - PROGRESS: at 20.91% examples, 1190187 words/s, in_qsize 18, out_qsize 1\n",
      "2020-08-15 21:30:25,509 : INFO : EPOCH 9 - PROGRESS: at 24.34% examples, 1192078 words/s, in_qsize 19, out_qsize 0\n"
     ]
    },
    {
     "name": "stderr",
     "output_type": "stream",
     "text": [
      "2020-08-15 21:30:26,523 : INFO : EPOCH 9 - PROGRESS: at 28.34% examples, 1179195 words/s, in_qsize 17, out_qsize 2\n",
      "2020-08-15 21:30:27,532 : INFO : EPOCH 9 - PROGRESS: at 32.59% examples, 1178207 words/s, in_qsize 19, out_qsize 0\n",
      "2020-08-15 21:30:28,535 : INFO : EPOCH 9 - PROGRESS: at 36.55% examples, 1174962 words/s, in_qsize 18, out_qsize 1\n",
      "2020-08-15 21:30:29,538 : INFO : EPOCH 9 - PROGRESS: at 40.71% examples, 1175168 words/s, in_qsize 19, out_qsize 0\n",
      "2020-08-15 21:30:30,556 : INFO : EPOCH 9 - PROGRESS: at 45.09% examples, 1174035 words/s, in_qsize 19, out_qsize 0\n",
      "2020-08-15 21:30:31,560 : INFO : EPOCH 9 - PROGRESS: at 49.29% examples, 1175817 words/s, in_qsize 19, out_qsize 0\n",
      "2020-08-15 21:30:32,578 : INFO : EPOCH 9 - PROGRESS: at 53.07% examples, 1172585 words/s, in_qsize 17, out_qsize 2\n",
      "2020-08-15 21:30:33,587 : INFO : EPOCH 9 - PROGRESS: at 57.19% examples, 1171786 words/s, in_qsize 17, out_qsize 2\n",
      "2020-08-15 21:30:34,589 : INFO : EPOCH 9 - PROGRESS: at 61.15% examples, 1170272 words/s, in_qsize 19, out_qsize 0\n",
      "2020-08-15 21:30:35,603 : INFO : EPOCH 9 - PROGRESS: at 65.46% examples, 1171833 words/s, in_qsize 18, out_qsize 1\n",
      "2020-08-15 21:30:36,613 : INFO : EPOCH 9 - PROGRESS: at 69.34% examples, 1171065 words/s, in_qsize 17, out_qsize 2\n",
      "2020-08-15 21:30:37,618 : INFO : EPOCH 9 - PROGRESS: at 73.17% examples, 1169474 words/s, in_qsize 19, out_qsize 0\n",
      "2020-08-15 21:30:38,624 : INFO : EPOCH 9 - PROGRESS: at 76.94% examples, 1168735 words/s, in_qsize 19, out_qsize 0\n",
      "2020-08-15 21:30:39,632 : INFO : EPOCH 9 - PROGRESS: at 80.64% examples, 1167789 words/s, in_qsize 18, out_qsize 1\n",
      "2020-08-15 21:30:40,644 : INFO : EPOCH 9 - PROGRESS: at 84.41% examples, 1166041 words/s, in_qsize 18, out_qsize 1\n",
      "2020-08-15 21:30:41,657 : INFO : EPOCH 9 - PROGRESS: at 88.40% examples, 1164763 words/s, in_qsize 18, out_qsize 1\n",
      "2020-08-15 21:30:42,659 : INFO : EPOCH 9 - PROGRESS: at 92.57% examples, 1165878 words/s, in_qsize 19, out_qsize 0\n",
      "2020-08-15 21:30:43,679 : INFO : EPOCH 9 - PROGRESS: at 96.51% examples, 1164527 words/s, in_qsize 16, out_qsize 3\n",
      "2020-08-15 21:30:44,450 : INFO : worker thread finished; awaiting finish of 9 more threads\n",
      "2020-08-15 21:30:44,473 : INFO : worker thread finished; awaiting finish of 8 more threads\n",
      "2020-08-15 21:30:44,474 : INFO : worker thread finished; awaiting finish of 7 more threads\n",
      "2020-08-15 21:30:44,476 : INFO : worker thread finished; awaiting finish of 6 more threads\n",
      "2020-08-15 21:30:44,481 : INFO : worker thread finished; awaiting finish of 5 more threads\n",
      "2020-08-15 21:30:44,487 : INFO : worker thread finished; awaiting finish of 4 more threads\n",
      "2020-08-15 21:30:44,490 : INFO : worker thread finished; awaiting finish of 3 more threads\n",
      "2020-08-15 21:30:44,494 : INFO : worker thread finished; awaiting finish of 2 more threads\n",
      "2020-08-15 21:30:44,499 : INFO : worker thread finished; awaiting finish of 1 more threads\n",
      "2020-08-15 21:30:44,503 : INFO : worker thread finished; awaiting finish of 0 more threads\n",
      "2020-08-15 21:30:44,504 : INFO : EPOCH - 9 : training on 41519358 raw words (30351172 effective words) took 26.0s, 1166239 effective words/s\n",
      "2020-08-15 21:30:45,514 : INFO : EPOCH 10 - PROGRESS: at 3.60% examples, 1114990 words/s, in_qsize 19, out_qsize 0\n",
      "2020-08-15 21:30:46,516 : INFO : EPOCH 10 - PROGRESS: at 7.36% examples, 1132438 words/s, in_qsize 19, out_qsize 0\n",
      "2020-08-15 21:30:47,521 : INFO : EPOCH 10 - PROGRESS: at 10.67% examples, 1134482 words/s, in_qsize 19, out_qsize 0\n",
      "2020-08-15 21:30:48,523 : INFO : EPOCH 10 - PROGRESS: at 13.70% examples, 1125463 words/s, in_qsize 19, out_qsize 0\n",
      "2020-08-15 21:30:49,524 : INFO : EPOCH 10 - PROGRESS: at 16.80% examples, 1117866 words/s, in_qsize 19, out_qsize 0\n",
      "2020-08-15 21:30:50,525 : INFO : EPOCH 10 - PROGRESS: at 19.91% examples, 1126507 words/s, in_qsize 18, out_qsize 1\n",
      "2020-08-15 21:30:51,532 : INFO : EPOCH 10 - PROGRESS: at 23.13% examples, 1127413 words/s, in_qsize 16, out_qsize 3\n",
      "2020-08-15 21:30:52,536 : INFO : EPOCH 10 - PROGRESS: at 26.74% examples, 1129137 words/s, in_qsize 18, out_qsize 1\n",
      "2020-08-15 21:30:53,546 : INFO : EPOCH 10 - PROGRESS: at 31.00% examples, 1133251 words/s, in_qsize 20, out_qsize 1\n",
      "2020-08-15 21:30:54,559 : INFO : EPOCH 10 - PROGRESS: at 35.09% examples, 1136038 words/s, in_qsize 17, out_qsize 2\n",
      "2020-08-15 21:30:55,574 : INFO : EPOCH 10 - PROGRESS: at 39.25% examples, 1136553 words/s, in_qsize 17, out_qsize 2\n",
      "2020-08-15 21:30:56,584 : INFO : EPOCH 10 - PROGRESS: at 43.36% examples, 1136496 words/s, in_qsize 18, out_qsize 1\n",
      "2020-08-15 21:30:57,585 : INFO : EPOCH 10 - PROGRESS: at 47.40% examples, 1136532 words/s, in_qsize 19, out_qsize 0\n",
      "2020-08-15 21:30:58,588 : INFO : EPOCH 10 - PROGRESS: at 51.36% examples, 1136327 words/s, in_qsize 17, out_qsize 2\n",
      "2020-08-15 21:30:59,600 : INFO : EPOCH 10 - PROGRESS: at 55.26% examples, 1137066 words/s, in_qsize 19, out_qsize 0\n",
      "2020-08-15 21:31:00,607 : INFO : EPOCH 10 - PROGRESS: at 59.16% examples, 1135942 words/s, in_qsize 18, out_qsize 1\n",
      "2020-08-15 21:31:01,624 : INFO : EPOCH 10 - PROGRESS: at 62.94% examples, 1132770 words/s, in_qsize 20, out_qsize 0\n",
      "2020-08-15 21:31:02,636 : INFO : EPOCH 10 - PROGRESS: at 66.95% examples, 1132486 words/s, in_qsize 18, out_qsize 1\n",
      "2020-08-15 21:31:03,662 : INFO : EPOCH 10 - PROGRESS: at 70.74% examples, 1132006 words/s, in_qsize 19, out_qsize 0\n",
      "2020-08-15 21:31:04,665 : INFO : EPOCH 10 - PROGRESS: at 74.76% examples, 1133214 words/s, in_qsize 19, out_qsize 0\n",
      "2020-08-15 21:31:05,678 : INFO : EPOCH 10 - PROGRESS: at 78.29% examples, 1133019 words/s, in_qsize 19, out_qsize 0\n",
      "2020-08-15 21:31:06,680 : INFO : EPOCH 10 - PROGRESS: at 82.02% examples, 1132858 words/s, in_qsize 19, out_qsize 0\n",
      "2020-08-15 21:31:07,681 : INFO : EPOCH 10 - PROGRESS: at 85.69% examples, 1132624 words/s, in_qsize 19, out_qsize 0\n",
      "2020-08-15 21:31:08,699 : INFO : EPOCH 10 - PROGRESS: at 89.74% examples, 1132087 words/s, in_qsize 17, out_qsize 2\n",
      "2020-08-15 21:31:09,706 : INFO : EPOCH 10 - PROGRESS: at 93.65% examples, 1131792 words/s, in_qsize 20, out_qsize 0\n",
      "2020-08-15 21:31:10,723 : INFO : EPOCH 10 - PROGRESS: at 97.56% examples, 1131339 words/s, in_qsize 19, out_qsize 0\n",
      "2020-08-15 21:31:11,241 : INFO : worker thread finished; awaiting finish of 9 more threads\n",
      "2020-08-15 21:31:11,253 : INFO : worker thread finished; awaiting finish of 8 more threads\n",
      "2020-08-15 21:31:11,258 : INFO : worker thread finished; awaiting finish of 7 more threads\n",
      "2020-08-15 21:31:11,259 : INFO : worker thread finished; awaiting finish of 6 more threads\n",
      "2020-08-15 21:31:11,269 : INFO : worker thread finished; awaiting finish of 5 more threads\n",
      "2020-08-15 21:31:11,271 : INFO : worker thread finished; awaiting finish of 4 more threads\n",
      "2020-08-15 21:31:11,278 : INFO : worker thread finished; awaiting finish of 3 more threads\n",
      "2020-08-15 21:31:11,280 : INFO : worker thread finished; awaiting finish of 2 more threads\n",
      "2020-08-15 21:31:11,287 : INFO : worker thread finished; awaiting finish of 1 more threads\n",
      "2020-08-15 21:31:11,289 : INFO : worker thread finished; awaiting finish of 0 more threads\n",
      "2020-08-15 21:31:11,289 : INFO : EPOCH - 10 : training on 41519358 raw words (30350819 effective words) took 26.8s, 1133397 effective words/s\n",
      "2020-08-15 21:31:11,290 : INFO : training on a 415193580 raw words (303495716 effective words) took 278.1s, 1091397 effective words/s\n"
     ]
    },
    {
     "data": {
      "text/plain": [
       "(303495716, 415193580)"
      ]
     },
     "execution_count": 14,
     "metadata": {},
     "output_type": "execute_result"
    }
   ],
   "source": [
    "model = gensim.models.Word2Vec (documents, size=150, window=10, min_count=2, workers=10)\n",
    "model.train(documents,total_examples=len(documents),epochs=10)"
   ]
  },
  {
   "cell_type": "markdown",
   "metadata": {},
   "source": [
    "## Now, let's look at some output \n",
    "This first example shows a simple case of looking up words similar to the word `dirty`. All we need to do here is to call the `most_similar` function and provide the word `dirty` as the positive example. This returns the top 10 similar words. "
   ]
  },
  {
   "cell_type": "code",
   "execution_count": 15,
   "metadata": {},
   "outputs": [
    {
     "name": "stderr",
     "output_type": "stream",
     "text": [
      "2020-08-15 22:23:57,247 : INFO : precomputing L2-norms of word weight vectors\n"
     ]
    },
    {
     "data": {
      "text/plain": [
       "[('filthy', 0.8629374504089355),\n",
       " ('unclean', 0.7930690050125122),\n",
       " ('stained', 0.7691051959991455),\n",
       " ('smelly', 0.749265193939209),\n",
       " ('grubby', 0.7447434663772583),\n",
       " ('dusty', 0.7446684837341309),\n",
       " ('dingy', 0.725252091884613),\n",
       " ('disgusting', 0.7216766476631165),\n",
       " ('gross', 0.7210666537284851),\n",
       " ('soiled', 0.7109328508377075)]"
      ]
     },
     "execution_count": 15,
     "metadata": {},
     "output_type": "execute_result"
    }
   ],
   "source": [
    "\n",
    "w1 = \"dirty\"\n",
    "model.wv.most_similar (positive=w1)\n"
   ]
  },
  {
   "cell_type": "code",
   "execution_count": 23,
   "metadata": {},
   "outputs": [
    {
     "name": "stderr",
     "output_type": "stream",
     "text": [
      "<ipython-input-23-54b7374fe453>:4: DeprecationWarning: Call to deprecated `most_similar` (Method will be removed in 4.0.0, use self.wv.most_similar() instead).\n",
      "  model.most_similar(\"european\")\n"
     ]
    },
    {
     "data": {
      "text/plain": [
       "[('eurpoean', 0.6736182570457458),\n",
       " ('american', 0.6519259214401245),\n",
       " ('europe', 0.6427686214447021),\n",
       " ('boutique', 0.5354989767074585),\n",
       " ('europeon', 0.5097432136535645),\n",
       " ('botique', 0.5068238973617554),\n",
       " ('arabic', 0.4953358471393585),\n",
       " ('traditional', 0.48308032751083374),\n",
       " ('europeans', 0.4760194718837738),\n",
       " ('europen', 0.4705777168273926)]"
      ]
     },
     "execution_count": 23,
     "metadata": {},
     "output_type": "execute_result"
    }
   ],
   "source": [
    "#this is a temporary cell added by me, Chiu\n",
    "#w1 = \"man\"\n",
    "#model.wv.most_similar (w1)\n",
    "model.most_similar(\"european\")"
   ]
  },
  {
   "cell_type": "markdown",
   "metadata": {},
   "source": [
    "That looks pretty good, right? Let's look at a few more. Let's look at similarity for `polite`, `france` and `shocked`. "
   ]
  },
  {
   "cell_type": "code",
   "execution_count": 7,
   "metadata": {},
   "outputs": [
    {
     "ename": "NameError",
     "evalue": "name 'model' is not defined",
     "output_type": "error",
     "traceback": [
      "\u001b[1;31m---------------------------------------------------------------------------\u001b[0m",
      "\u001b[1;31mNameError\u001b[0m                                 Traceback (most recent call last)",
      "\u001b[1;32m<ipython-input-7-22eb393dfa76>\u001b[0m in \u001b[0;36m<module>\u001b[1;34m\u001b[0m\n\u001b[0;32m      1\u001b[0m \u001b[1;31m# look up top 6 words similar to 'polite'\u001b[0m\u001b[1;33m\u001b[0m\u001b[1;33m\u001b[0m\u001b[1;33m\u001b[0m\u001b[0m\n\u001b[0;32m      2\u001b[0m \u001b[0mw1\u001b[0m \u001b[1;33m=\u001b[0m \u001b[1;33m[\u001b[0m\u001b[1;34m\"polite\"\u001b[0m\u001b[1;33m]\u001b[0m\u001b[1;33m\u001b[0m\u001b[1;33m\u001b[0m\u001b[0m\n\u001b[1;32m----> 3\u001b[1;33m \u001b[0mmodel\u001b[0m\u001b[1;33m.\u001b[0m\u001b[0mwv\u001b[0m\u001b[1;33m.\u001b[0m\u001b[0mmost_similar\u001b[0m \u001b[1;33m(\u001b[0m\u001b[0mpositive\u001b[0m\u001b[1;33m=\u001b[0m\u001b[0mw1\u001b[0m\u001b[1;33m,\u001b[0m\u001b[0mtopn\u001b[0m\u001b[1;33m=\u001b[0m\u001b[1;36m6\u001b[0m\u001b[1;33m)\u001b[0m\u001b[1;33m\u001b[0m\u001b[1;33m\u001b[0m\u001b[0m\n\u001b[0m",
      "\u001b[1;31mNameError\u001b[0m: name 'model' is not defined"
     ]
    }
   ],
   "source": [
    "# look up top 6 words similar to 'polite'\n",
    "w1 = [\"polite\"]\n",
    "model.wv.most_similar (positive=w1,topn=6)\n"
   ]
  },
  {
   "cell_type": "code",
   "execution_count": 8,
   "metadata": {},
   "outputs": [
    {
     "ename": "NameError",
     "evalue": "name 'model' is not defined",
     "output_type": "error",
     "traceback": [
      "\u001b[1;31m---------------------------------------------------------------------------\u001b[0m",
      "\u001b[1;31mNameError\u001b[0m                                 Traceback (most recent call last)",
      "\u001b[1;32m<ipython-input-8-787e423bbcaf>\u001b[0m in \u001b[0;36m<module>\u001b[1;34m\u001b[0m\n\u001b[0;32m      1\u001b[0m \u001b[1;31m# look up top 6 words similar to 'france'\u001b[0m\u001b[1;33m\u001b[0m\u001b[1;33m\u001b[0m\u001b[1;33m\u001b[0m\u001b[0m\n\u001b[0;32m      2\u001b[0m \u001b[0mw1\u001b[0m \u001b[1;33m=\u001b[0m \u001b[1;33m[\u001b[0m\u001b[1;34m\"france\"\u001b[0m\u001b[1;33m]\u001b[0m\u001b[1;33m\u001b[0m\u001b[1;33m\u001b[0m\u001b[0m\n\u001b[1;32m----> 3\u001b[1;33m \u001b[0mmodel\u001b[0m\u001b[1;33m.\u001b[0m\u001b[0mwv\u001b[0m\u001b[1;33m.\u001b[0m\u001b[0mmost_similar\u001b[0m \u001b[1;33m(\u001b[0m\u001b[0mpositive\u001b[0m\u001b[1;33m=\u001b[0m\u001b[0mw1\u001b[0m\u001b[1;33m,\u001b[0m\u001b[0mtopn\u001b[0m\u001b[1;33m=\u001b[0m\u001b[1;36m6\u001b[0m\u001b[1;33m)\u001b[0m\u001b[1;33m\u001b[0m\u001b[1;33m\u001b[0m\u001b[0m\n\u001b[0m",
      "\u001b[1;31mNameError\u001b[0m: name 'model' is not defined"
     ]
    }
   ],
   "source": [
    "# look up top 6 words similar to 'france'\n",
    "w1 = [\"france\"]\n",
    "model.wv.most_similar (positive=w1,topn=6)\n"
   ]
  },
  {
   "cell_type": "code",
   "execution_count": 9,
   "metadata": {},
   "outputs": [
    {
     "ename": "NameError",
     "evalue": "name 'model' is not defined",
     "output_type": "error",
     "traceback": [
      "\u001b[1;31m---------------------------------------------------------------------------\u001b[0m",
      "\u001b[1;31mNameError\u001b[0m                                 Traceback (most recent call last)",
      "\u001b[1;32m<ipython-input-9-19b4dbd7f07b>\u001b[0m in \u001b[0;36m<module>\u001b[1;34m\u001b[0m\n\u001b[0;32m      1\u001b[0m \u001b[1;31m# look up top 6 words similar to 'shocked'\u001b[0m\u001b[1;33m\u001b[0m\u001b[1;33m\u001b[0m\u001b[1;33m\u001b[0m\u001b[0m\n\u001b[0;32m      2\u001b[0m \u001b[0mw1\u001b[0m \u001b[1;33m=\u001b[0m \u001b[1;33m[\u001b[0m\u001b[1;34m\"shocked\"\u001b[0m\u001b[1;33m]\u001b[0m\u001b[1;33m\u001b[0m\u001b[1;33m\u001b[0m\u001b[0m\n\u001b[1;32m----> 3\u001b[1;33m \u001b[0mmodel\u001b[0m\u001b[1;33m.\u001b[0m\u001b[0mwv\u001b[0m\u001b[1;33m.\u001b[0m\u001b[0mmost_similar\u001b[0m \u001b[1;33m(\u001b[0m\u001b[0mpositive\u001b[0m\u001b[1;33m=\u001b[0m\u001b[0mw1\u001b[0m\u001b[1;33m,\u001b[0m\u001b[0mtopn\u001b[0m\u001b[1;33m=\u001b[0m\u001b[1;36m6\u001b[0m\u001b[1;33m)\u001b[0m\u001b[1;33m\u001b[0m\u001b[1;33m\u001b[0m\u001b[0m\n\u001b[0m",
      "\u001b[1;31mNameError\u001b[0m: name 'model' is not defined"
     ]
    }
   ],
   "source": [
    "# look up top 6 words similar to 'shocked'\n",
    "w1 = [\"shocked\"]\n",
    "model.wv.most_similar (positive=w1,topn=6)\n"
   ]
  },
  {
   "cell_type": "markdown",
   "metadata": {},
   "source": [
    "That's, nice. You can even specify several positive examples to get things that are related in the provided context and provide negative examples to say what should not be considered as related. In the example below we are asking for all items that *relate to bed* only:"
   ]
  },
  {
   "cell_type": "code",
   "execution_count": 10,
   "metadata": {},
   "outputs": [
    {
     "ename": "NameError",
     "evalue": "name 'model' is not defined",
     "output_type": "error",
     "traceback": [
      "\u001b[1;31m---------------------------------------------------------------------------\u001b[0m",
      "\u001b[1;31mNameError\u001b[0m                                 Traceback (most recent call last)",
      "\u001b[1;32m<ipython-input-10-e170c9de1701>\u001b[0m in \u001b[0;36m<module>\u001b[1;34m\u001b[0m\n\u001b[0;32m      2\u001b[0m \u001b[0mw1\u001b[0m \u001b[1;33m=\u001b[0m \u001b[1;33m[\u001b[0m\u001b[1;34m\"bed\"\u001b[0m\u001b[1;33m,\u001b[0m\u001b[1;34m'sheet'\u001b[0m\u001b[1;33m,\u001b[0m\u001b[1;34m'pillow'\u001b[0m\u001b[1;33m]\u001b[0m\u001b[1;33m\u001b[0m\u001b[1;33m\u001b[0m\u001b[0m\n\u001b[0;32m      3\u001b[0m \u001b[0mw2\u001b[0m \u001b[1;33m=\u001b[0m \u001b[1;33m[\u001b[0m\u001b[1;34m'couch'\u001b[0m\u001b[1;33m]\u001b[0m\u001b[1;33m\u001b[0m\u001b[1;33m\u001b[0m\u001b[0m\n\u001b[1;32m----> 4\u001b[1;33m \u001b[0mmodel\u001b[0m\u001b[1;33m.\u001b[0m\u001b[0mwv\u001b[0m\u001b[1;33m.\u001b[0m\u001b[0mmost_similar\u001b[0m \u001b[1;33m(\u001b[0m\u001b[0mpositive\u001b[0m\u001b[1;33m=\u001b[0m\u001b[0mw1\u001b[0m\u001b[1;33m,\u001b[0m\u001b[0mnegative\u001b[0m\u001b[1;33m=\u001b[0m\u001b[0mw2\u001b[0m\u001b[1;33m,\u001b[0m\u001b[0mtopn\u001b[0m\u001b[1;33m=\u001b[0m\u001b[1;36m10\u001b[0m\u001b[1;33m)\u001b[0m\u001b[1;33m\u001b[0m\u001b[1;33m\u001b[0m\u001b[0m\n\u001b[0m",
      "\u001b[1;31mNameError\u001b[0m: name 'model' is not defined"
     ]
    }
   ],
   "source": [
    "# get everything related to stuff on the bed\n",
    "w1 = [\"bed\",'sheet','pillow']\n",
    "w2 = ['couch']\n",
    "model.wv.most_similar (positive=w1,negative=w2,topn=10)\n"
   ]
  },
  {
   "cell_type": "markdown",
   "metadata": {},
   "source": [
    "### Similarity between two words in the vocabulary"
   ]
  },
  {
   "cell_type": "markdown",
   "metadata": {},
   "source": [
    "You can even use the Word2Vec model to return the similarity between two words that are present in the vocabulary. "
   ]
  },
  {
   "cell_type": "code",
   "execution_count": 12,
   "metadata": {},
   "outputs": [
    {
     "data": {
      "text/plain": [
       "0.76058316"
      ]
     },
     "execution_count": 12,
     "metadata": {},
     "output_type": "execute_result"
    }
   ],
   "source": [
    "# similarity between two different words\n",
    "model.wv.similarity(w1=\"dirty\",w2=\"smelly\")"
   ]
  },
  {
   "cell_type": "code",
   "execution_count": 13,
   "metadata": {},
   "outputs": [
    {
     "data": {
      "text/plain": [
       "1.0"
      ]
     },
     "execution_count": 13,
     "metadata": {},
     "output_type": "execute_result"
    }
   ],
   "source": [
    "# similarity between two identical words\n",
    "model.wv.similarity(w1=\"dirty\",w2=\"dirty\")"
   ]
  },
  {
   "cell_type": "code",
   "execution_count": 14,
   "metadata": {},
   "outputs": [
    {
     "data": {
      "text/plain": [
       "0.27513152"
      ]
     },
     "execution_count": 14,
     "metadata": {},
     "output_type": "execute_result"
    }
   ],
   "source": [
    "# similarity between two unrelated words\n",
    "model.wv.similarity(w1=\"dirty\",w2=\"clean\")"
   ]
  },
  {
   "cell_type": "markdown",
   "metadata": {},
   "source": [
    "Under the hood, the above three snippets computes the cosine similarity between the two specified words using word vectors of each. From the scores, it makes sense that `dirty` is highly similar to `smelly` but `dirty` is dissimilar to `clean`. If you do a similarity between two identical words, the score will be 1.0 as the range of the cosine similarity score will always be between [0.0-1.0]. You can read more about cosine similarity scoring [here](https://en.wikipedia.org/wiki/Cosine_similarity)."
   ]
  },
  {
   "cell_type": "markdown",
   "metadata": {},
   "source": [
    "### Find the odd one out\n",
    "You can even use Word2Vec to find odd items given a list of items."
   ]
  },
  {
   "cell_type": "code",
   "execution_count": 15,
   "metadata": {},
   "outputs": [
    {
     "name": "stderr",
     "output_type": "stream",
     "text": [
      "C:\\Users\\Eric\\anaconda3\\lib\\site-packages\\gensim\\models\\keyedvectors.py:877: FutureWarning: arrays to stack must be passed as a \"sequence\" type such as list or tuple. Support for non-sequence iterables such as generators is deprecated as of NumPy 1.16 and will raise an error in the future.\n",
      "  vectors = vstack(self.word_vec(word, use_norm=True) for word in used_words).astype(REAL)\n"
     ]
    },
    {
     "data": {
      "text/plain": [
       "'france'"
      ]
     },
     "execution_count": 15,
     "metadata": {},
     "output_type": "execute_result"
    }
   ],
   "source": [
    "# Which one is the odd one out in this list?\n",
    "model.wv.doesnt_match([\"cat\",\"dog\",\"france\"])"
   ]
  },
  {
   "cell_type": "code",
   "execution_count": 16,
   "metadata": {},
   "outputs": [
    {
     "data": {
      "text/plain": [
       "'shower'"
      ]
     },
     "execution_count": 16,
     "metadata": {},
     "output_type": "execute_result"
    }
   ],
   "source": [
    "# Which one is the odd one out in this list?\n",
    "model.wv.doesnt_match([\"bed\",\"pillow\",\"duvet\",\"shower\"])\n"
   ]
  },
  {
   "cell_type": "markdown",
   "metadata": {},
   "source": [
    "## Understanding some of the parameters\n",
    "To train the model earlier, we had to set some parameters. Now, let's try to understand what some of them mean. For reference, this is the command that we used to train the model.\n",
    "\n",
    "```\n",
    "model = gensim.models.Word2Vec (documents, size=150, window=10, min_count=2, workers=10)\n",
    "```\n",
    "\n",
    "### `size`\n",
    "The size of the dense vector to represent each token or word. If you have very limited data, then size should be a much smaller value. If you have lots of data, its good to experiment with various sizes. A value of 100-150 has worked well for me. \n",
    "\n",
    "### `window`\n",
    "The maximum distance between the target word and its neighboring word. If your neighbor's position is greater than the maximum window width to the left and the right, then, some neighbors are not considered as being related to the target word. In theory, a smaller window should give you terms that are more related. If you have lots of data, then the window size should not matter too much, as long as its a decent sized window. \n",
    "\n",
    "### `min_count`\n",
    "Minimium frequency count of words. The model would ignore words that do not statisfy the `min_count`. Extremely infrequent words are usually unimportant, so its best to get rid of those. Unless your dataset is really tiny, this does not really affect the model.\n",
    "\n",
    "### `workers`\n",
    "How many threads to use behind the scenes?\n"
   ]
  },
  {
   "cell_type": "markdown",
   "metadata": {},
   "source": [
    "## When should you use Word2Vec?\n",
    "\n",
    "There are many application scenarios for Word2Vec. Imagine if you need to build a sentiment lexicon. Training a Word2Vec model on large amounts of user reviews helps you achieve that. You have a lexicon for not just sentiment, but for most words in the vocabulary. \n",
    "\n",
    "Beyond, raw unstructured text data, you could also use Word2Vec for more structured data. For example, if you had tags for a million stackoverflow questions and answers, you could find tags that are related to a given tag and recommend the related ones for exploration. You can do this by treating each set of co-occuring tags as a \"sentence\" and train a Word2Vec model on this data. Granted, you still need a large number of examples to make it work. \n"
   ]
  }
 ],
 "metadata": {
  "kernelspec": {
   "display_name": "Python 3",
   "language": "python",
   "name": "python3"
  },
  "language_info": {
   "codemirror_mode": {
    "name": "ipython",
    "version": 3
   },
   "file_extension": ".py",
   "mimetype": "text/x-python",
   "name": "python",
   "nbconvert_exporter": "python",
   "pygments_lexer": "ipython3",
   "version": "3.8.3"
  }
 },
 "nbformat": 4,
 "nbformat_minor": 2
}
